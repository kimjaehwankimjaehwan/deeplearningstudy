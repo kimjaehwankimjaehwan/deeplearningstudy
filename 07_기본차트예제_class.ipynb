{
  "cells": [
    {
      "cell_type": "markdown",
      "metadata": {
        "id": "view-in-github",
        "colab_type": "text"
      },
      "source": [
        "<a href=\"https://colab.research.google.com/github/kimjaehwankimjaehwan/deeplearningstudy/blob/main/07_%EA%B8%B0%EB%B3%B8%EC%B0%A8%ED%8A%B8%EC%98%88%EC%A0%9C_class.ipynb\" target=\"_parent\"><img src=\"https://colab.research.google.com/assets/colab-badge.svg\" alt=\"Open In Colab\"/></a>"
      ]
    },
    {
      "cell_type": "markdown",
      "id": "599f4707",
      "metadata": {
        "id": "599f4707"
      },
      "source": [
        "패키지 불러오기"
      ]
    },
    {
      "cell_type": "code",
      "source": [
        "from google.colab import drive\n",
        "drive.mount('/content/drive')"
      ],
      "metadata": {
        "colab": {
          "base_uri": "https://localhost:8080/"
        },
        "id": "y-0b6PMf4TyP",
        "outputId": "6513a0fc-be0c-4643-dc6c-23b2c0e3395c"
      },
      "id": "y-0b6PMf4TyP",
      "execution_count": null,
      "outputs": [
        {
          "output_type": "stream",
          "name": "stdout",
          "text": [
            "Drive already mounted at /content/drive; to attempt to forcibly remount, call drive.mount(\"/content/drive\", force_remount=True).\n"
          ]
        }
      ]
    },
    {
      "cell_type": "code",
      "execution_count": null,
      "id": "a7a58c8d",
      "metadata": {
        "id": "a7a58c8d"
      },
      "outputs": [],
      "source": [
        "import pandas as pd\n",
        "import numpy as np\n",
        "import matplotlib.pyplot as plt"
      ]
    },
    {
      "cell_type": "code",
      "source": [
        "df = pd.read_csv('/content/drive/MyDrive/kdt_2506/data/trade_apt_api_2023.txt', sep='\\t')\n",
        "df.head()"
      ],
      "metadata": {
        "colab": {
          "base_uri": "https://localhost:8080/",
          "height": 310
        },
        "id": "uKaebzZyhSTY",
        "outputId": "2a93e58a-b3ea-494f-d481-e1f01b008d56"
      },
      "id": "uKaebzZyhSTY",
      "execution_count": null,
      "outputs": [
        {
          "output_type": "execute_result",
          "data": {
            "text/plain": [
              "     기준년월      지역명   지역코드     법정동                  아파트          거래금액     년  월  \\\n",
              "0  202306  서울시 종로구  11110     사직동  광화문스페이스본(101동~105동)       138,000  2023  6   \n",
              "1  202306  서울시 종로구  11110     사직동  광화문스페이스본(101동~105동)       170,000  2023  6   \n",
              "2  202306  서울시 종로구  11110     사직동                사직아파트        84,000  2023  6   \n",
              "3  202306  서울시 종로구  11110     당주동           롯데미도파광화문빌딩        93,000  2023  6   \n",
              "4  202306  서울시 종로구  11110   신문로2가                 디팰리스       408,000  2023  6   \n",
              "\n",
              "    일  건축년도     전용면적   층  \n",
              "0   9  2008   95.880   9  \n",
              "1  10  2008  146.920   8  \n",
              "2  12  1970  116.230   6  \n",
              "3  20  1981  149.950   9  \n",
              "4  24  2020  148.111  10  "
            ],
            "text/html": [
              "\n",
              "  <div id=\"df-0d05dbc9-c8cf-46bd-9ac8-475b9ac22d52\" class=\"colab-df-container\">\n",
              "    <div>\n",
              "<style scoped>\n",
              "    .dataframe tbody tr th:only-of-type {\n",
              "        vertical-align: middle;\n",
              "    }\n",
              "\n",
              "    .dataframe tbody tr th {\n",
              "        vertical-align: top;\n",
              "    }\n",
              "\n",
              "    .dataframe thead th {\n",
              "        text-align: right;\n",
              "    }\n",
              "</style>\n",
              "<table border=\"1\" class=\"dataframe\">\n",
              "  <thead>\n",
              "    <tr style=\"text-align: right;\">\n",
              "      <th></th>\n",
              "      <th>기준년월</th>\n",
              "      <th>지역명</th>\n",
              "      <th>지역코드</th>\n",
              "      <th>법정동</th>\n",
              "      <th>아파트</th>\n",
              "      <th>거래금액</th>\n",
              "      <th>년</th>\n",
              "      <th>월</th>\n",
              "      <th>일</th>\n",
              "      <th>건축년도</th>\n",
              "      <th>전용면적</th>\n",
              "      <th>층</th>\n",
              "    </tr>\n",
              "  </thead>\n",
              "  <tbody>\n",
              "    <tr>\n",
              "      <th>0</th>\n",
              "      <td>202306</td>\n",
              "      <td>서울시 종로구</td>\n",
              "      <td>11110</td>\n",
              "      <td>사직동</td>\n",
              "      <td>광화문스페이스본(101동~105동)</td>\n",
              "      <td>138,000</td>\n",
              "      <td>2023</td>\n",
              "      <td>6</td>\n",
              "      <td>9</td>\n",
              "      <td>2008</td>\n",
              "      <td>95.880</td>\n",
              "      <td>9</td>\n",
              "    </tr>\n",
              "    <tr>\n",
              "      <th>1</th>\n",
              "      <td>202306</td>\n",
              "      <td>서울시 종로구</td>\n",
              "      <td>11110</td>\n",
              "      <td>사직동</td>\n",
              "      <td>광화문스페이스본(101동~105동)</td>\n",
              "      <td>170,000</td>\n",
              "      <td>2023</td>\n",
              "      <td>6</td>\n",
              "      <td>10</td>\n",
              "      <td>2008</td>\n",
              "      <td>146.920</td>\n",
              "      <td>8</td>\n",
              "    </tr>\n",
              "    <tr>\n",
              "      <th>2</th>\n",
              "      <td>202306</td>\n",
              "      <td>서울시 종로구</td>\n",
              "      <td>11110</td>\n",
              "      <td>사직동</td>\n",
              "      <td>사직아파트</td>\n",
              "      <td>84,000</td>\n",
              "      <td>2023</td>\n",
              "      <td>6</td>\n",
              "      <td>12</td>\n",
              "      <td>1970</td>\n",
              "      <td>116.230</td>\n",
              "      <td>6</td>\n",
              "    </tr>\n",
              "    <tr>\n",
              "      <th>3</th>\n",
              "      <td>202306</td>\n",
              "      <td>서울시 종로구</td>\n",
              "      <td>11110</td>\n",
              "      <td>당주동</td>\n",
              "      <td>롯데미도파광화문빌딩</td>\n",
              "      <td>93,000</td>\n",
              "      <td>2023</td>\n",
              "      <td>6</td>\n",
              "      <td>20</td>\n",
              "      <td>1981</td>\n",
              "      <td>149.950</td>\n",
              "      <td>9</td>\n",
              "    </tr>\n",
              "    <tr>\n",
              "      <th>4</th>\n",
              "      <td>202306</td>\n",
              "      <td>서울시 종로구</td>\n",
              "      <td>11110</td>\n",
              "      <td>신문로2가</td>\n",
              "      <td>디팰리스</td>\n",
              "      <td>408,000</td>\n",
              "      <td>2023</td>\n",
              "      <td>6</td>\n",
              "      <td>24</td>\n",
              "      <td>2020</td>\n",
              "      <td>148.111</td>\n",
              "      <td>10</td>\n",
              "    </tr>\n",
              "  </tbody>\n",
              "</table>\n",
              "</div>\n",
              "    <div class=\"colab-df-buttons\">\n",
              "\n",
              "  <div class=\"colab-df-container\">\n",
              "    <button class=\"colab-df-convert\" onclick=\"convertToInteractive('df-0d05dbc9-c8cf-46bd-9ac8-475b9ac22d52')\"\n",
              "            title=\"Convert this dataframe to an interactive table.\"\n",
              "            style=\"display:none;\">\n",
              "\n",
              "  <svg xmlns=\"http://www.w3.org/2000/svg\" height=\"24px\" viewBox=\"0 -960 960 960\">\n",
              "    <path d=\"M120-120v-720h720v720H120Zm60-500h600v-160H180v160Zm220 220h160v-160H400v160Zm0 220h160v-160H400v160ZM180-400h160v-160H180v160Zm440 0h160v-160H620v160ZM180-180h160v-160H180v160Zm440 0h160v-160H620v160Z\"/>\n",
              "  </svg>\n",
              "    </button>\n",
              "\n",
              "  <style>\n",
              "    .colab-df-container {\n",
              "      display:flex;\n",
              "      gap: 12px;\n",
              "    }\n",
              "\n",
              "    .colab-df-convert {\n",
              "      background-color: #E8F0FE;\n",
              "      border: none;\n",
              "      border-radius: 50%;\n",
              "      cursor: pointer;\n",
              "      display: none;\n",
              "      fill: #1967D2;\n",
              "      height: 32px;\n",
              "      padding: 0 0 0 0;\n",
              "      width: 32px;\n",
              "    }\n",
              "\n",
              "    .colab-df-convert:hover {\n",
              "      background-color: #E2EBFA;\n",
              "      box-shadow: 0px 1px 2px rgba(60, 64, 67, 0.3), 0px 1px 3px 1px rgba(60, 64, 67, 0.15);\n",
              "      fill: #174EA6;\n",
              "    }\n",
              "\n",
              "    .colab-df-buttons div {\n",
              "      margin-bottom: 4px;\n",
              "    }\n",
              "\n",
              "    [theme=dark] .colab-df-convert {\n",
              "      background-color: #3B4455;\n",
              "      fill: #D2E3FC;\n",
              "    }\n",
              "\n",
              "    [theme=dark] .colab-df-convert:hover {\n",
              "      background-color: #434B5C;\n",
              "      box-shadow: 0px 1px 3px 1px rgba(0, 0, 0, 0.15);\n",
              "      filter: drop-shadow(0px 1px 2px rgba(0, 0, 0, 0.3));\n",
              "      fill: #FFFFFF;\n",
              "    }\n",
              "  </style>\n",
              "\n",
              "    <script>\n",
              "      const buttonEl =\n",
              "        document.querySelector('#df-0d05dbc9-c8cf-46bd-9ac8-475b9ac22d52 button.colab-df-convert');\n",
              "      buttonEl.style.display =\n",
              "        google.colab.kernel.accessAllowed ? 'block' : 'none';\n",
              "\n",
              "      async function convertToInteractive(key) {\n",
              "        const element = document.querySelector('#df-0d05dbc9-c8cf-46bd-9ac8-475b9ac22d52');\n",
              "        const dataTable =\n",
              "          await google.colab.kernel.invokeFunction('convertToInteractive',\n",
              "                                                    [key], {});\n",
              "        if (!dataTable) return;\n",
              "\n",
              "        const docLinkHtml = 'Like what you see? Visit the ' +\n",
              "          '<a target=\"_blank\" href=https://colab.research.google.com/notebooks/data_table.ipynb>data table notebook</a>'\n",
              "          + ' to learn more about interactive tables.';\n",
              "        element.innerHTML = '';\n",
              "        dataTable['output_type'] = 'display_data';\n",
              "        await google.colab.output.renderOutput(dataTable, element);\n",
              "        const docLink = document.createElement('div');\n",
              "        docLink.innerHTML = docLinkHtml;\n",
              "        element.appendChild(docLink);\n",
              "      }\n",
              "    </script>\n",
              "  </div>\n",
              "\n",
              "\n",
              "    <div id=\"df-baa4e50c-b1b7-4ceb-a4e3-5330d35a3e5e\">\n",
              "      <button class=\"colab-df-quickchart\" onclick=\"quickchart('df-baa4e50c-b1b7-4ceb-a4e3-5330d35a3e5e')\"\n",
              "                title=\"Suggest charts\"\n",
              "                style=\"display:none;\">\n",
              "\n",
              "<svg xmlns=\"http://www.w3.org/2000/svg\" height=\"24px\"viewBox=\"0 0 24 24\"\n",
              "     width=\"24px\">\n",
              "    <g>\n",
              "        <path d=\"M19 3H5c-1.1 0-2 .9-2 2v14c0 1.1.9 2 2 2h14c1.1 0 2-.9 2-2V5c0-1.1-.9-2-2-2zM9 17H7v-7h2v7zm4 0h-2V7h2v10zm4 0h-2v-4h2v4z\"/>\n",
              "    </g>\n",
              "</svg>\n",
              "      </button>\n",
              "\n",
              "<style>\n",
              "  .colab-df-quickchart {\n",
              "      --bg-color: #E8F0FE;\n",
              "      --fill-color: #1967D2;\n",
              "      --hover-bg-color: #E2EBFA;\n",
              "      --hover-fill-color: #174EA6;\n",
              "      --disabled-fill-color: #AAA;\n",
              "      --disabled-bg-color: #DDD;\n",
              "  }\n",
              "\n",
              "  [theme=dark] .colab-df-quickchart {\n",
              "      --bg-color: #3B4455;\n",
              "      --fill-color: #D2E3FC;\n",
              "      --hover-bg-color: #434B5C;\n",
              "      --hover-fill-color: #FFFFFF;\n",
              "      --disabled-bg-color: #3B4455;\n",
              "      --disabled-fill-color: #666;\n",
              "  }\n",
              "\n",
              "  .colab-df-quickchart {\n",
              "    background-color: var(--bg-color);\n",
              "    border: none;\n",
              "    border-radius: 50%;\n",
              "    cursor: pointer;\n",
              "    display: none;\n",
              "    fill: var(--fill-color);\n",
              "    height: 32px;\n",
              "    padding: 0;\n",
              "    width: 32px;\n",
              "  }\n",
              "\n",
              "  .colab-df-quickchart:hover {\n",
              "    background-color: var(--hover-bg-color);\n",
              "    box-shadow: 0 1px 2px rgba(60, 64, 67, 0.3), 0 1px 3px 1px rgba(60, 64, 67, 0.15);\n",
              "    fill: var(--button-hover-fill-color);\n",
              "  }\n",
              "\n",
              "  .colab-df-quickchart-complete:disabled,\n",
              "  .colab-df-quickchart-complete:disabled:hover {\n",
              "    background-color: var(--disabled-bg-color);\n",
              "    fill: var(--disabled-fill-color);\n",
              "    box-shadow: none;\n",
              "  }\n",
              "\n",
              "  .colab-df-spinner {\n",
              "    border: 2px solid var(--fill-color);\n",
              "    border-color: transparent;\n",
              "    border-bottom-color: var(--fill-color);\n",
              "    animation:\n",
              "      spin 1s steps(1) infinite;\n",
              "  }\n",
              "\n",
              "  @keyframes spin {\n",
              "    0% {\n",
              "      border-color: transparent;\n",
              "      border-bottom-color: var(--fill-color);\n",
              "      border-left-color: var(--fill-color);\n",
              "    }\n",
              "    20% {\n",
              "      border-color: transparent;\n",
              "      border-left-color: var(--fill-color);\n",
              "      border-top-color: var(--fill-color);\n",
              "    }\n",
              "    30% {\n",
              "      border-color: transparent;\n",
              "      border-left-color: var(--fill-color);\n",
              "      border-top-color: var(--fill-color);\n",
              "      border-right-color: var(--fill-color);\n",
              "    }\n",
              "    40% {\n",
              "      border-color: transparent;\n",
              "      border-right-color: var(--fill-color);\n",
              "      border-top-color: var(--fill-color);\n",
              "    }\n",
              "    60% {\n",
              "      border-color: transparent;\n",
              "      border-right-color: var(--fill-color);\n",
              "    }\n",
              "    80% {\n",
              "      border-color: transparent;\n",
              "      border-right-color: var(--fill-color);\n",
              "      border-bottom-color: var(--fill-color);\n",
              "    }\n",
              "    90% {\n",
              "      border-color: transparent;\n",
              "      border-bottom-color: var(--fill-color);\n",
              "    }\n",
              "  }\n",
              "</style>\n",
              "\n",
              "      <script>\n",
              "        async function quickchart(key) {\n",
              "          const quickchartButtonEl =\n",
              "            document.querySelector('#' + key + ' button');\n",
              "          quickchartButtonEl.disabled = true;  // To prevent multiple clicks.\n",
              "          quickchartButtonEl.classList.add('colab-df-spinner');\n",
              "          try {\n",
              "            const charts = await google.colab.kernel.invokeFunction(\n",
              "                'suggestCharts', [key], {});\n",
              "          } catch (error) {\n",
              "            console.error('Error during call to suggestCharts:', error);\n",
              "          }\n",
              "          quickchartButtonEl.classList.remove('colab-df-spinner');\n",
              "          quickchartButtonEl.classList.add('colab-df-quickchart-complete');\n",
              "        }\n",
              "        (() => {\n",
              "          let quickchartButtonEl =\n",
              "            document.querySelector('#df-baa4e50c-b1b7-4ceb-a4e3-5330d35a3e5e button');\n",
              "          quickchartButtonEl.style.display =\n",
              "            google.colab.kernel.accessAllowed ? 'block' : 'none';\n",
              "        })();\n",
              "      </script>\n",
              "    </div>\n",
              "\n",
              "    </div>\n",
              "  </div>\n"
            ],
            "application/vnd.google.colaboratory.intrinsic+json": {
              "type": "dataframe",
              "variable_name": "df",
              "summary": "{\n  \"name\": \"df\",\n  \"rows\": 2304,\n  \"fields\": [\n    {\n      \"column\": \"\\uae30\\uc900\\ub144\\uc6d4\",\n      \"properties\": {\n        \"dtype\": \"number\",\n        \"std\": 48,\n        \"min\": 202201,\n        \"max\": 202306,\n        \"num_unique_values\": 18,\n        \"samples\": [\n          202306,\n          202305,\n          202210\n        ],\n        \"semantic_type\": \"\",\n        \"description\": \"\"\n      }\n    },\n    {\n      \"column\": \"\\uc9c0\\uc5ed\\uba85\",\n      \"properties\": {\n        \"dtype\": \"category\",\n        \"num_unique_values\": 2,\n        \"samples\": [\n          \"\\uc11c\\uc6b8\\uc2dc \\uac15\\ub0a8\\uad6c\",\n          \"\\uc11c\\uc6b8\\uc2dc \\uc885\\ub85c\\uad6c\"\n        ],\n        \"semantic_type\": \"\",\n        \"description\": \"\"\n      }\n    },\n    {\n      \"column\": \"\\uc9c0\\uc5ed\\ucf54\\ub4dc\",\n      \"properties\": {\n        \"dtype\": \"number\",\n        \"std\": 192,\n        \"min\": 11110,\n        \"max\": 11680,\n        \"num_unique_values\": 2,\n        \"samples\": [\n          11680,\n          11110\n        ],\n        \"semantic_type\": \"\",\n        \"description\": \"\"\n      }\n    },\n    {\n      \"column\": \"\\ubc95\\uc815\\ub3d9\",\n      \"properties\": {\n        \"dtype\": \"category\",\n        \"num_unique_values\": 39,\n        \"samples\": [\n          \" \\uc790\\uace1\\ub3d9\",\n          \" \\ub3c4\\uace1\\ub3d9\"\n        ],\n        \"semantic_type\": \"\",\n        \"description\": \"\"\n      }\n    },\n    {\n      \"column\": \"\\uc544\\ud30c\\ud2b8\",\n      \"properties\": {\n        \"dtype\": \"category\",\n        \"num_unique_values\": 386,\n        \"samples\": [\n          \"\\uc0bc\\uc131\\ub3d9\\ube0c\\ub77c\\uc6b4\\uc2a4\\ud1a4\\ub808\\uc804\\ub4dc\",\n          \"\\uc0bc\\uc131\\ub3d9\\ud5e4\\ub80c\\ud558\\uc6b0\\uc2a42(82-1)\"\n        ],\n        \"semantic_type\": \"\",\n        \"description\": \"\"\n      }\n    },\n    {\n      \"column\": \"\\uac70\\ub798\\uae08\\uc561\",\n      \"properties\": {\n        \"dtype\": \"category\",\n        \"num_unique_values\": 712,\n        \"samples\": [\n          \"      98,000\",\n          \"     197,500\"\n        ],\n        \"semantic_type\": \"\",\n        \"description\": \"\"\n      }\n    },\n    {\n      \"column\": \"\\ub144\",\n      \"properties\": {\n        \"dtype\": \"number\",\n        \"std\": 0,\n        \"min\": 2022,\n        \"max\": 2023,\n        \"num_unique_values\": 2,\n        \"samples\": [\n          2022,\n          2023\n        ],\n        \"semantic_type\": \"\",\n        \"description\": \"\"\n      }\n    },\n    {\n      \"column\": \"\\uc6d4\",\n      \"properties\": {\n        \"dtype\": \"number\",\n        \"std\": 2,\n        \"min\": 1,\n        \"max\": 12,\n        \"num_unique_values\": 12,\n        \"samples\": [\n          8,\n          9\n        ],\n        \"semantic_type\": \"\",\n        \"description\": \"\"\n      }\n    },\n    {\n      \"column\": \"\\uc77c\",\n      \"properties\": {\n        \"dtype\": \"number\",\n        \"std\": 8,\n        \"min\": 1,\n        \"max\": 31,\n        \"num_unique_values\": 31,\n        \"samples\": [\n          15,\n          30\n        ],\n        \"semantic_type\": \"\",\n        \"description\": \"\"\n      }\n    },\n    {\n      \"column\": \"\\uac74\\ucd95\\ub144\\ub3c4\",\n      \"properties\": {\n        \"dtype\": \"number\",\n        \"std\": 12,\n        \"min\": 1966,\n        \"max\": 2023,\n        \"num_unique_values\": 52,\n        \"samples\": [\n          1999,\n          1977\n        ],\n        \"semantic_type\": \"\",\n        \"description\": \"\"\n      }\n    },\n    {\n      \"column\": \"\\uc804\\uc6a9\\uba74\\uc801\",\n      \"properties\": {\n        \"dtype\": \"number\",\n        \"std\": 46.031693299107005,\n        \"min\": 12.01,\n        \"max\": 301.47,\n        \"num_unique_values\": 731,\n        \"samples\": [\n          47.46,\n          19.466\n        ],\n        \"semantic_type\": \"\",\n        \"description\": \"\"\n      }\n    },\n    {\n      \"column\": \"\\uce35\",\n      \"properties\": {\n        \"dtype\": \"number\",\n        \"std\": 7,\n        \"min\": -1,\n        \"max\": 64,\n        \"num_unique_values\": 50,\n        \"samples\": [\n          2,\n          38\n        ],\n        \"semantic_type\": \"\",\n        \"description\": \"\"\n      }\n    }\n  ]\n}"
            }
          },
          "metadata": {},
          "execution_count": 4
        }
      ]
    },
    {
      "cell_type": "code",
      "source": [
        "df.info()"
      ],
      "metadata": {
        "colab": {
          "base_uri": "https://localhost:8080/"
        },
        "id": "HTwYM6s2S9wl",
        "outputId": "ccbaf864-6a39-4f75-ae1e-8977fc53f290"
      },
      "id": "HTwYM6s2S9wl",
      "execution_count": null,
      "outputs": [
        {
          "output_type": "stream",
          "name": "stdout",
          "text": [
            "<class 'pandas.core.frame.DataFrame'>\n",
            "RangeIndex: 2304 entries, 0 to 2303\n",
            "Data columns (total 12 columns):\n",
            " #   Column  Non-Null Count  Dtype  \n",
            "---  ------  --------------  -----  \n",
            " 0   기준년월    2304 non-null   int64  \n",
            " 1   지역명     2304 non-null   object \n",
            " 2   지역코드    2304 non-null   int64  \n",
            " 3   법정동     2304 non-null   object \n",
            " 4   아파트     2304 non-null   object \n",
            " 5   거래금액    2304 non-null   object \n",
            " 6   년       2304 non-null   int64  \n",
            " 7   월       2304 non-null   int64  \n",
            " 8   일       2304 non-null   int64  \n",
            " 9   건축년도    2304 non-null   int64  \n",
            " 10  전용면적    2304 non-null   float64\n",
            " 11  층       2304 non-null   int64  \n",
            "dtypes: float64(1), int64(7), object(4)\n",
            "memory usage: 216.1+ KB\n"
          ]
        }
      ]
    },
    {
      "cell_type": "code",
      "source": [
        "df['거래금액'] = df['거래금액'].str.replace(' ', '').str.replace(',', '').astype(int)"
      ],
      "metadata": {
        "id": "AWgCpUUsTZlB"
      },
      "id": "AWgCpUUsTZlB",
      "execution_count": null,
      "outputs": []
    },
    {
      "cell_type": "code",
      "source": [
        "df['거래금액']"
      ],
      "metadata": {
        "colab": {
          "base_uri": "https://localhost:8080/",
          "height": 458
        },
        "id": "EdOEfKqhiTnN",
        "outputId": "bcaae2b1-6944-4133-a025-d9755290adc3"
      },
      "id": "EdOEfKqhiTnN",
      "execution_count": null,
      "outputs": [
        {
          "output_type": "execute_result",
          "data": {
            "text/plain": [
              "0       138000\n",
              "1       170000\n",
              "2        84000\n",
              "3        93000\n",
              "4       408000\n",
              "         ...  \n",
              "2299     50000\n",
              "2300    220000\n",
              "2301     37400\n",
              "2302    281000\n",
              "2303    420000\n",
              "Name: 거래금액, Length: 2304, dtype: int64"
            ],
            "text/html": [
              "<div>\n",
              "<style scoped>\n",
              "    .dataframe tbody tr th:only-of-type {\n",
              "        vertical-align: middle;\n",
              "    }\n",
              "\n",
              "    .dataframe tbody tr th {\n",
              "        vertical-align: top;\n",
              "    }\n",
              "\n",
              "    .dataframe thead th {\n",
              "        text-align: right;\n",
              "    }\n",
              "</style>\n",
              "<table border=\"1\" class=\"dataframe\">\n",
              "  <thead>\n",
              "    <tr style=\"text-align: right;\">\n",
              "      <th></th>\n",
              "      <th>거래금액</th>\n",
              "    </tr>\n",
              "  </thead>\n",
              "  <tbody>\n",
              "    <tr>\n",
              "      <th>0</th>\n",
              "      <td>138000</td>\n",
              "    </tr>\n",
              "    <tr>\n",
              "      <th>1</th>\n",
              "      <td>170000</td>\n",
              "    </tr>\n",
              "    <tr>\n",
              "      <th>2</th>\n",
              "      <td>84000</td>\n",
              "    </tr>\n",
              "    <tr>\n",
              "      <th>3</th>\n",
              "      <td>93000</td>\n",
              "    </tr>\n",
              "    <tr>\n",
              "      <th>4</th>\n",
              "      <td>408000</td>\n",
              "    </tr>\n",
              "    <tr>\n",
              "      <th>...</th>\n",
              "      <td>...</td>\n",
              "    </tr>\n",
              "    <tr>\n",
              "      <th>2299</th>\n",
              "      <td>50000</td>\n",
              "    </tr>\n",
              "    <tr>\n",
              "      <th>2300</th>\n",
              "      <td>220000</td>\n",
              "    </tr>\n",
              "    <tr>\n",
              "      <th>2301</th>\n",
              "      <td>37400</td>\n",
              "    </tr>\n",
              "    <tr>\n",
              "      <th>2302</th>\n",
              "      <td>281000</td>\n",
              "    </tr>\n",
              "    <tr>\n",
              "      <th>2303</th>\n",
              "      <td>420000</td>\n",
              "    </tr>\n",
              "  </tbody>\n",
              "</table>\n",
              "<p>2304 rows × 1 columns</p>\n",
              "</div><br><label><b>dtype:</b> int64</label>"
            ]
          },
          "metadata": {},
          "execution_count": 7
        }
      ]
    },
    {
      "cell_type": "code",
      "source": [
        "a = df[df['법정동'] == '사직동']"
      ],
      "metadata": {
        "id": "6jfrvnA8Snc3"
      },
      "id": "6jfrvnA8Snc3",
      "execution_count": null,
      "outputs": []
    },
    {
      "cell_type": "code",
      "source": [
        "a"
      ],
      "metadata": {
        "colab": {
          "base_uri": "https://localhost:8080/",
          "height": 89
        },
        "id": "qrZuN1tI862S",
        "outputId": "58d6a24e-ee1d-438d-fff0-24ca5e484914"
      },
      "id": "qrZuN1tI862S",
      "execution_count": null,
      "outputs": [
        {
          "output_type": "execute_result",
          "data": {
            "text/plain": [
              "Empty DataFrame\n",
              "Columns: [기준년월, 지역명, 지역코드, 법정동, 아파트, 거래금액, 년, 월, 일, 건축년도, 전용면적, 층]\n",
              "Index: []"
            ],
            "text/html": [
              "\n",
              "  <div id=\"df-267d089a-8343-4710-84ce-309c18314eb9\" class=\"colab-df-container\">\n",
              "    <div>\n",
              "<style scoped>\n",
              "    .dataframe tbody tr th:only-of-type {\n",
              "        vertical-align: middle;\n",
              "    }\n",
              "\n",
              "    .dataframe tbody tr th {\n",
              "        vertical-align: top;\n",
              "    }\n",
              "\n",
              "    .dataframe thead th {\n",
              "        text-align: right;\n",
              "    }\n",
              "</style>\n",
              "<table border=\"1\" class=\"dataframe\">\n",
              "  <thead>\n",
              "    <tr style=\"text-align: right;\">\n",
              "      <th></th>\n",
              "      <th>기준년월</th>\n",
              "      <th>지역명</th>\n",
              "      <th>지역코드</th>\n",
              "      <th>법정동</th>\n",
              "      <th>아파트</th>\n",
              "      <th>거래금액</th>\n",
              "      <th>년</th>\n",
              "      <th>월</th>\n",
              "      <th>일</th>\n",
              "      <th>건축년도</th>\n",
              "      <th>전용면적</th>\n",
              "      <th>층</th>\n",
              "    </tr>\n",
              "  </thead>\n",
              "  <tbody>\n",
              "  </tbody>\n",
              "</table>\n",
              "</div>\n",
              "    <div class=\"colab-df-buttons\">\n",
              "\n",
              "  <div class=\"colab-df-container\">\n",
              "    <button class=\"colab-df-convert\" onclick=\"convertToInteractive('df-267d089a-8343-4710-84ce-309c18314eb9')\"\n",
              "            title=\"Convert this dataframe to an interactive table.\"\n",
              "            style=\"display:none;\">\n",
              "\n",
              "  <svg xmlns=\"http://www.w3.org/2000/svg\" height=\"24px\" viewBox=\"0 -960 960 960\">\n",
              "    <path d=\"M120-120v-720h720v720H120Zm60-500h600v-160H180v160Zm220 220h160v-160H400v160Zm0 220h160v-160H400v160ZM180-400h160v-160H180v160Zm440 0h160v-160H620v160ZM180-180h160v-160H180v160Zm440 0h160v-160H620v160Z\"/>\n",
              "  </svg>\n",
              "    </button>\n",
              "\n",
              "  <style>\n",
              "    .colab-df-container {\n",
              "      display:flex;\n",
              "      gap: 12px;\n",
              "    }\n",
              "\n",
              "    .colab-df-convert {\n",
              "      background-color: #E8F0FE;\n",
              "      border: none;\n",
              "      border-radius: 50%;\n",
              "      cursor: pointer;\n",
              "      display: none;\n",
              "      fill: #1967D2;\n",
              "      height: 32px;\n",
              "      padding: 0 0 0 0;\n",
              "      width: 32px;\n",
              "    }\n",
              "\n",
              "    .colab-df-convert:hover {\n",
              "      background-color: #E2EBFA;\n",
              "      box-shadow: 0px 1px 2px rgba(60, 64, 67, 0.3), 0px 1px 3px 1px rgba(60, 64, 67, 0.15);\n",
              "      fill: #174EA6;\n",
              "    }\n",
              "\n",
              "    .colab-df-buttons div {\n",
              "      margin-bottom: 4px;\n",
              "    }\n",
              "\n",
              "    [theme=dark] .colab-df-convert {\n",
              "      background-color: #3B4455;\n",
              "      fill: #D2E3FC;\n",
              "    }\n",
              "\n",
              "    [theme=dark] .colab-df-convert:hover {\n",
              "      background-color: #434B5C;\n",
              "      box-shadow: 0px 1px 3px 1px rgba(0, 0, 0, 0.15);\n",
              "      filter: drop-shadow(0px 1px 2px rgba(0, 0, 0, 0.3));\n",
              "      fill: #FFFFFF;\n",
              "    }\n",
              "  </style>\n",
              "\n",
              "    <script>\n",
              "      const buttonEl =\n",
              "        document.querySelector('#df-267d089a-8343-4710-84ce-309c18314eb9 button.colab-df-convert');\n",
              "      buttonEl.style.display =\n",
              "        google.colab.kernel.accessAllowed ? 'block' : 'none';\n",
              "\n",
              "      async function convertToInteractive(key) {\n",
              "        const element = document.querySelector('#df-267d089a-8343-4710-84ce-309c18314eb9');\n",
              "        const dataTable =\n",
              "          await google.colab.kernel.invokeFunction('convertToInteractive',\n",
              "                                                    [key], {});\n",
              "        if (!dataTable) return;\n",
              "\n",
              "        const docLinkHtml = 'Like what you see? Visit the ' +\n",
              "          '<a target=\"_blank\" href=https://colab.research.google.com/notebooks/data_table.ipynb>data table notebook</a>'\n",
              "          + ' to learn more about interactive tables.';\n",
              "        element.innerHTML = '';\n",
              "        dataTable['output_type'] = 'display_data';\n",
              "        await google.colab.output.renderOutput(dataTable, element);\n",
              "        const docLink = document.createElement('div');\n",
              "        docLink.innerHTML = docLinkHtml;\n",
              "        element.appendChild(docLink);\n",
              "      }\n",
              "    </script>\n",
              "  </div>\n",
              "\n",
              "\n",
              "  <div id=\"id_01187796-ddaf-483b-adff-6884c60511b6\">\n",
              "    <style>\n",
              "      .colab-df-generate {\n",
              "        background-color: #E8F0FE;\n",
              "        border: none;\n",
              "        border-radius: 50%;\n",
              "        cursor: pointer;\n",
              "        display: none;\n",
              "        fill: #1967D2;\n",
              "        height: 32px;\n",
              "        padding: 0 0 0 0;\n",
              "        width: 32px;\n",
              "      }\n",
              "\n",
              "      .colab-df-generate:hover {\n",
              "        background-color: #E2EBFA;\n",
              "        box-shadow: 0px 1px 2px rgba(60, 64, 67, 0.3), 0px 1px 3px 1px rgba(60, 64, 67, 0.15);\n",
              "        fill: #174EA6;\n",
              "      }\n",
              "\n",
              "      [theme=dark] .colab-df-generate {\n",
              "        background-color: #3B4455;\n",
              "        fill: #D2E3FC;\n",
              "      }\n",
              "\n",
              "      [theme=dark] .colab-df-generate:hover {\n",
              "        background-color: #434B5C;\n",
              "        box-shadow: 0px 1px 3px 1px rgba(0, 0, 0, 0.15);\n",
              "        filter: drop-shadow(0px 1px 2px rgba(0, 0, 0, 0.3));\n",
              "        fill: #FFFFFF;\n",
              "      }\n",
              "    </style>\n",
              "    <button class=\"colab-df-generate\" onclick=\"generateWithVariable('a')\"\n",
              "            title=\"Generate code using this dataframe.\"\n",
              "            style=\"display:none;\">\n",
              "\n",
              "  <svg xmlns=\"http://www.w3.org/2000/svg\" height=\"24px\"viewBox=\"0 0 24 24\"\n",
              "       width=\"24px\">\n",
              "    <path d=\"M7,19H8.4L18.45,9,17,7.55,7,17.6ZM5,21V16.75L18.45,3.32a2,2,0,0,1,2.83,0l1.4,1.43a1.91,1.91,0,0,1,.58,1.4,1.91,1.91,0,0,1-.58,1.4L9.25,21ZM18.45,9,17,7.55Zm-12,3A5.31,5.31,0,0,0,4.9,8.1,5.31,5.31,0,0,0,1,6.5,5.31,5.31,0,0,0,4.9,4.9,5.31,5.31,0,0,0,6.5,1,5.31,5.31,0,0,0,8.1,4.9,5.31,5.31,0,0,0,12,6.5,5.46,5.46,0,0,0,6.5,12Z\"/>\n",
              "  </svg>\n",
              "    </button>\n",
              "    <script>\n",
              "      (() => {\n",
              "      const buttonEl =\n",
              "        document.querySelector('#id_01187796-ddaf-483b-adff-6884c60511b6 button.colab-df-generate');\n",
              "      buttonEl.style.display =\n",
              "        google.colab.kernel.accessAllowed ? 'block' : 'none';\n",
              "\n",
              "      buttonEl.onclick = () => {\n",
              "        google.colab.notebook.generateWithVariable('a');\n",
              "      }\n",
              "      })();\n",
              "    </script>\n",
              "  </div>\n",
              "\n",
              "    </div>\n",
              "  </div>\n"
            ],
            "application/vnd.google.colaboratory.intrinsic+json": {
              "type": "dataframe",
              "variable_name": "a",
              "repr_error": "Out of range float values are not JSON compliant: nan"
            }
          },
          "metadata": {},
          "execution_count": 37
        }
      ]
    },
    {
      "cell_type": "code",
      "source": [
        "df['법정동']"
      ],
      "metadata": {
        "colab": {
          "base_uri": "https://localhost:8080/",
          "height": 458
        },
        "id": "1WWjjcP38YSc",
        "outputId": "801fd540-0529-4229-ce99-f42de47c0531"
      },
      "id": "1WWjjcP38YSc",
      "execution_count": null,
      "outputs": [
        {
          "output_type": "execute_result",
          "data": {
            "text/plain": [
              "0          사직동\n",
              "1          사직동\n",
              "2          사직동\n",
              "3          당주동\n",
              "4        신문로2가\n",
              "         ...  \n",
              "2299       도곡동\n",
              "2300       도곡동\n",
              "2301       도곡동\n",
              "2302       도곡동\n",
              "2303       도곡동\n",
              "Name: 법정동, Length: 2304, dtype: object"
            ],
            "text/html": [
              "<div>\n",
              "<style scoped>\n",
              "    .dataframe tbody tr th:only-of-type {\n",
              "        vertical-align: middle;\n",
              "    }\n",
              "\n",
              "    .dataframe tbody tr th {\n",
              "        vertical-align: top;\n",
              "    }\n",
              "\n",
              "    .dataframe thead th {\n",
              "        text-align: right;\n",
              "    }\n",
              "</style>\n",
              "<table border=\"1\" class=\"dataframe\">\n",
              "  <thead>\n",
              "    <tr style=\"text-align: right;\">\n",
              "      <th></th>\n",
              "      <th>법정동</th>\n",
              "    </tr>\n",
              "  </thead>\n",
              "  <tbody>\n",
              "    <tr>\n",
              "      <th>0</th>\n",
              "      <td>사직동</td>\n",
              "    </tr>\n",
              "    <tr>\n",
              "      <th>1</th>\n",
              "      <td>사직동</td>\n",
              "    </tr>\n",
              "    <tr>\n",
              "      <th>2</th>\n",
              "      <td>사직동</td>\n",
              "    </tr>\n",
              "    <tr>\n",
              "      <th>3</th>\n",
              "      <td>당주동</td>\n",
              "    </tr>\n",
              "    <tr>\n",
              "      <th>4</th>\n",
              "      <td>신문로2가</td>\n",
              "    </tr>\n",
              "    <tr>\n",
              "      <th>...</th>\n",
              "      <td>...</td>\n",
              "    </tr>\n",
              "    <tr>\n",
              "      <th>2299</th>\n",
              "      <td>도곡동</td>\n",
              "    </tr>\n",
              "    <tr>\n",
              "      <th>2300</th>\n",
              "      <td>도곡동</td>\n",
              "    </tr>\n",
              "    <tr>\n",
              "      <th>2301</th>\n",
              "      <td>도곡동</td>\n",
              "    </tr>\n",
              "    <tr>\n",
              "      <th>2302</th>\n",
              "      <td>도곡동</td>\n",
              "    </tr>\n",
              "    <tr>\n",
              "      <th>2303</th>\n",
              "      <td>도곡동</td>\n",
              "    </tr>\n",
              "  </tbody>\n",
              "</table>\n",
              "<p>2304 rows × 1 columns</p>\n",
              "</div><br><label><b>dtype:</b> object</label>"
            ]
          },
          "metadata": {},
          "execution_count": 8
        }
      ]
    },
    {
      "cell_type": "code",
      "source": [
        "data = df.groupby('기준년월')['거래금액'].mean()"
      ],
      "metadata": {
        "id": "DAjPqKnz72Lp"
      },
      "id": "DAjPqKnz72Lp",
      "execution_count": null,
      "outputs": []
    },
    {
      "cell_type": "code",
      "source": [
        "data"
      ],
      "metadata": {
        "colab": {
          "base_uri": "https://localhost:8080/",
          "height": 680
        },
        "id": "4rvJ3Y-pFvRo",
        "outputId": "ce75d597-cddf-4e4b-ec57-c61f3546b4f5"
      },
      "id": "4rvJ3Y-pFvRo",
      "execution_count": null,
      "outputs": [
        {
          "output_type": "execute_result",
          "data": {
            "text/plain": [
              "기준년월\n",
              "202201    178784.907895\n",
              "202202    176651.564706\n",
              "202203    197273.245614\n",
              "202204    232832.446043\n",
              "202205    208996.691176\n",
              "202206    213556.690476\n",
              "202207    196403.571429\n",
              "202208     94087.318584\n",
              "202209    142999.937500\n",
              "202210    160898.142857\n",
              "202211    169720.408163\n",
              "202212    163493.877551\n",
              "202301    168342.123894\n",
              "202302    167463.177570\n",
              "202303    199844.976303\n",
              "202304    216480.601852\n",
              "202305    195190.343643\n",
              "202306    219275.095785\n",
              "Name: 거래금액, dtype: float64"
            ],
            "text/html": [
              "<div>\n",
              "<style scoped>\n",
              "    .dataframe tbody tr th:only-of-type {\n",
              "        vertical-align: middle;\n",
              "    }\n",
              "\n",
              "    .dataframe tbody tr th {\n",
              "        vertical-align: top;\n",
              "    }\n",
              "\n",
              "    .dataframe thead th {\n",
              "        text-align: right;\n",
              "    }\n",
              "</style>\n",
              "<table border=\"1\" class=\"dataframe\">\n",
              "  <thead>\n",
              "    <tr style=\"text-align: right;\">\n",
              "      <th></th>\n",
              "      <th>거래금액</th>\n",
              "    </tr>\n",
              "    <tr>\n",
              "      <th>기준년월</th>\n",
              "      <th></th>\n",
              "    </tr>\n",
              "  </thead>\n",
              "  <tbody>\n",
              "    <tr>\n",
              "      <th>202201</th>\n",
              "      <td>178784.907895</td>\n",
              "    </tr>\n",
              "    <tr>\n",
              "      <th>202202</th>\n",
              "      <td>176651.564706</td>\n",
              "    </tr>\n",
              "    <tr>\n",
              "      <th>202203</th>\n",
              "      <td>197273.245614</td>\n",
              "    </tr>\n",
              "    <tr>\n",
              "      <th>202204</th>\n",
              "      <td>232832.446043</td>\n",
              "    </tr>\n",
              "    <tr>\n",
              "      <th>202205</th>\n",
              "      <td>208996.691176</td>\n",
              "    </tr>\n",
              "    <tr>\n",
              "      <th>202206</th>\n",
              "      <td>213556.690476</td>\n",
              "    </tr>\n",
              "    <tr>\n",
              "      <th>202207</th>\n",
              "      <td>196403.571429</td>\n",
              "    </tr>\n",
              "    <tr>\n",
              "      <th>202208</th>\n",
              "      <td>94087.318584</td>\n",
              "    </tr>\n",
              "    <tr>\n",
              "      <th>202209</th>\n",
              "      <td>142999.937500</td>\n",
              "    </tr>\n",
              "    <tr>\n",
              "      <th>202210</th>\n",
              "      <td>160898.142857</td>\n",
              "    </tr>\n",
              "    <tr>\n",
              "      <th>202211</th>\n",
              "      <td>169720.408163</td>\n",
              "    </tr>\n",
              "    <tr>\n",
              "      <th>202212</th>\n",
              "      <td>163493.877551</td>\n",
              "    </tr>\n",
              "    <tr>\n",
              "      <th>202301</th>\n",
              "      <td>168342.123894</td>\n",
              "    </tr>\n",
              "    <tr>\n",
              "      <th>202302</th>\n",
              "      <td>167463.177570</td>\n",
              "    </tr>\n",
              "    <tr>\n",
              "      <th>202303</th>\n",
              "      <td>199844.976303</td>\n",
              "    </tr>\n",
              "    <tr>\n",
              "      <th>202304</th>\n",
              "      <td>216480.601852</td>\n",
              "    </tr>\n",
              "    <tr>\n",
              "      <th>202305</th>\n",
              "      <td>195190.343643</td>\n",
              "    </tr>\n",
              "    <tr>\n",
              "      <th>202306</th>\n",
              "      <td>219275.095785</td>\n",
              "    </tr>\n",
              "  </tbody>\n",
              "</table>\n",
              "</div><br><label><b>dtype:</b> float64</label>"
            ]
          },
          "metadata": {},
          "execution_count": 15
        }
      ]
    },
    {
      "cell_type": "code",
      "source": [
        "data.index"
      ],
      "metadata": {
        "colab": {
          "base_uri": "https://localhost:8080/"
        },
        "id": "WxB9HBmYI5sA",
        "outputId": "801a3110-8c47-4eca-bc00-be20d2ddbb69"
      },
      "id": "WxB9HBmYI5sA",
      "execution_count": null,
      "outputs": [
        {
          "output_type": "execute_result",
          "data": {
            "text/plain": [
              "Index([202201, 202202, 202203, 202204, 202205, 202206, 202207, 202208, 202209,\n",
              "       202210, 202211, 202212, 202301, 202302, 202303, 202304, 202305, 202306],\n",
              "      dtype='int64', name='기준년월')"
            ]
          },
          "metadata": {},
          "execution_count": 34
        }
      ]
    },
    {
      "cell_type": "code",
      "source": [
        "index = data.index"
      ],
      "metadata": {
        "id": "vae6rnYNKrI2"
      },
      "id": "vae6rnYNKrI2",
      "execution_count": null,
      "outputs": []
    },
    {
      "cell_type": "code",
      "source": [
        "index"
      ],
      "metadata": {
        "colab": {
          "base_uri": "https://localhost:8080/"
        },
        "id": "-ZQj-bamK2Mv",
        "outputId": "a4db2347-dffb-44fe-8e96-aa2973669fd2"
      },
      "id": "-ZQj-bamK2Mv",
      "execution_count": null,
      "outputs": [
        {
          "output_type": "execute_result",
          "data": {
            "text/plain": [
              "Index([202201, 202202, 202203, 202204, 202205, 202206, 202207, 202208, 202209,\n",
              "       202210, 202211, 202212, 202301, 202302, 202303, 202304, 202305, 202306],\n",
              "      dtype='int64', name='기준년월')"
            ]
          },
          "metadata": {},
          "execution_count": 52
        }
      ]
    },
    {
      "cell_type": "code",
      "source": [
        "index.shape"
      ],
      "metadata": {
        "colab": {
          "base_uri": "https://localhost:8080/"
        },
        "id": "J4__ehEWK4Te",
        "outputId": "3f7f6de2-e2ab-499a-f63b-83654acf2f1f"
      },
      "id": "J4__ehEWK4Te",
      "execution_count": null,
      "outputs": [
        {
          "output_type": "execute_result",
          "data": {
            "text/plain": [
              "(18,)"
            ]
          },
          "metadata": {},
          "execution_count": 54
        }
      ]
    },
    {
      "cell_type": "code",
      "source": [
        "index"
      ],
      "metadata": {
        "colab": {
          "base_uri": "https://localhost:8080/"
        },
        "id": "9E4ujUsmLIPB",
        "outputId": "06a770c8-59d9-48a5-daf5-216b5ff9d50b"
      },
      "id": "9E4ujUsmLIPB",
      "execution_count": null,
      "outputs": [
        {
          "output_type": "execute_result",
          "data": {
            "text/plain": [
              "Index([202201, 202202, 202203, 202204, 202205, 202206, 202207, 202208, 202209,\n",
              "       202210, 202211, 202212, 202301, 202302, 202303, 202304, 202305, 202306],\n",
              "      dtype='int64', name='기준년월')"
            ]
          },
          "metadata": {},
          "execution_count": 58
        }
      ]
    },
    {
      "cell_type": "code",
      "source": [
        "len(data.index)"
      ],
      "metadata": {
        "colab": {
          "base_uri": "https://localhost:8080/"
        },
        "id": "BAmbWjx-I8uC",
        "outputId": "c09401b4-0d68-40ab-9e52-0feb2cb35ac2"
      },
      "id": "BAmbWjx-I8uC",
      "execution_count": null,
      "outputs": [
        {
          "output_type": "execute_result",
          "data": {
            "text/plain": [
              "18"
            ]
          },
          "metadata": {},
          "execution_count": 35
        }
      ]
    },
    {
      "cell_type": "code",
      "source": [
        "np.arange(len(data.index))"
      ],
      "metadata": {
        "colab": {
          "base_uri": "https://localhost:8080/"
        },
        "id": "Otnr6IuQKdNC",
        "outputId": "4c686c11-c12d-4832-efa8-8929071d949e"
      },
      "id": "Otnr6IuQKdNC",
      "execution_count": null,
      "outputs": [
        {
          "output_type": "execute_result",
          "data": {
            "text/plain": [
              "array([ 0,  1,  2,  3,  4,  5,  6,  7,  8,  9, 10, 11, 12, 13, 14, 15, 16,\n",
              "       17])"
            ]
          },
          "metadata": {},
          "execution_count": 45
        }
      ]
    },
    {
      "cell_type": "code",
      "source": [
        "# df = df.sort_index()"
      ],
      "metadata": {
        "id": "cM0fpOtwJ6Is"
      },
      "id": "cM0fpOtwJ6Is",
      "execution_count": null,
      "outputs": []
    },
    {
      "cell_type": "code",
      "source": [
        "\n",
        "# # 데이터프레임 생성 및 문자열 인덱스 설정\n",
        "# df = pd.DataFrame(data)\n",
        "# df.set_index('기준년월', inplace=True)\n",
        "\n",
        "# # 인덱스 정렬 (문자열이므로 사전순 정렬 필요)\n",
        "# df = df.sort_index()\n",
        "\n",
        "# 그래프 그리기\n",
        "plt.figure(figsize=(7, 5))\n",
        "plt.plot(data.index, data, marker='o', linestyle='-', color='steelblue')\n",
        "plt.xticks(np.arange(len(data.index)), labels = data.index)\n",
        "plt.title('price of realestate')\n",
        "plt.xlabel('date')\n",
        "plt.ylabel('price')\n",
        "plt.grid(True)\n",
        "plt.tight_layout()\n",
        "plt.ylim(-1000,250000)\n",
        "plt.show()"
      ],
      "metadata": {
        "colab": {
          "base_uri": "https://localhost:8080/",
          "height": 507
        },
        "id": "uUR_4GjAC5ZW",
        "outputId": "018e31f1-eaba-4840-ee17-655b9e0b9828"
      },
      "id": "uUR_4GjAC5ZW",
      "execution_count": null,
      "outputs": [
        {
          "output_type": "display_data",
          "data": {
            "text/plain": [
              "<Figure size 700x500 with 1 Axes>"
            ],
            "image/png": "[encoded data removed]"
          },
          "metadata": {}
        }
      ]
    },
    {
      "cell_type": "code",
      "source": [
        "data = pd.DataFrame(data)"
      ],
      "metadata": {
        "id": "Ay4MmE1s9rk6"
      },
      "id": "Ay4MmE1s9rk6",
      "execution_count": null,
      "outputs": []
    },
    {
      "cell_type": "code",
      "source": [
        "data = data.sort_index()\n"
      ],
      "metadata": {
        "id": "LCXE9_hp_KLf"
      },
      "id": "LCXE9_hp_KLf",
      "execution_count": null,
      "outputs": []
    },
    {
      "cell_type": "code",
      "source": [
        "data.index"
      ],
      "metadata": {
        "colab": {
          "base_uri": "https://localhost:8080/"
        },
        "id": "a02niisZA-oX",
        "outputId": "f789b322-dc7d-44ba-b389-c75a7a65e687"
      },
      "id": "a02niisZA-oX",
      "execution_count": null,
      "outputs": [
        {
          "output_type": "execute_result",
          "data": {
            "text/plain": [
              "Index([202201, 202202, 202203, 202204, 202205, 202206, 202207, 202208, 202209,\n",
              "       202210, 202211, 202212, 202301, 202302, 202303, 202304, 202305, 202306],\n",
              "      dtype='int64', name='기준년월')"
            ]
          },
          "metadata": {},
          "execution_count": 96
        }
      ]
    },
    {
      "cell_type": "code",
      "source": [
        "data"
      ],
      "metadata": {
        "colab": {
          "base_uri": "https://localhost:8080/",
          "height": 645
        },
        "id": "6XU8orFd_4TH",
        "outputId": "102da0ce-e9f1-4cbf-ee17-f3d2df1d9e94"
      },
      "id": "6XU8orFd_4TH",
      "execution_count": null,
      "outputs": [
        {
          "output_type": "execute_result",
          "data": {
            "text/plain": [
              "                 거래금액\n",
              "기준년월                 \n",
              "202201  178784.907895\n",
              "202202  176651.564706\n",
              "202203  197273.245614\n",
              "202204  232832.446043\n",
              "202205  208996.691176\n",
              "202206  213556.690476\n",
              "202207  196403.571429\n",
              "202208   94087.318584\n",
              "202209  142999.937500\n",
              "202210  160898.142857\n",
              "202211  169720.408163\n",
              "202212  163493.877551\n",
              "202301  168342.123894\n",
              "202302  167463.177570\n",
              "202303  199844.976303\n",
              "202304  216480.601852\n",
              "202305  195190.343643\n",
              "202306  219275.095785"
            ],
            "text/html": [
              "\n",
              "  <div id=\"df-c55a3467-3c67-4bcd-9e4c-66952cbecd58\" class=\"colab-df-container\">\n",
              "    <div>\n",
              "<style scoped>\n",
              "    .dataframe tbody tr th:only-of-type {\n",
              "        vertical-align: middle;\n",
              "    }\n",
              "\n",
              "    .dataframe tbody tr th {\n",
              "        vertical-align: top;\n",
              "    }\n",
              "\n",
              "    .dataframe thead th {\n",
              "        text-align: right;\n",
              "    }\n",
              "</style>\n",
              "<table border=\"1\" class=\"dataframe\">\n",
              "  <thead>\n",
              "    <tr style=\"text-align: right;\">\n",
              "      <th></th>\n",
              "      <th>거래금액</th>\n",
              "    </tr>\n",
              "    <tr>\n",
              "      <th>기준년월</th>\n",
              "      <th></th>\n",
              "    </tr>\n",
              "  </thead>\n",
              "  <tbody>\n",
              "    <tr>\n",
              "      <th>202201</th>\n",
              "      <td>178784.907895</td>\n",
              "    </tr>\n",
              "    <tr>\n",
              "      <th>202202</th>\n",
              "      <td>176651.564706</td>\n",
              "    </tr>\n",
              "    <tr>\n",
              "      <th>202203</th>\n",
              "      <td>197273.245614</td>\n",
              "    </tr>\n",
              "    <tr>\n",
              "      <th>202204</th>\n",
              "      <td>232832.446043</td>\n",
              "    </tr>\n",
              "    <tr>\n",
              "      <th>202205</th>\n",
              "      <td>208996.691176</td>\n",
              "    </tr>\n",
              "    <tr>\n",
              "      <th>202206</th>\n",
              "      <td>213556.690476</td>\n",
              "    </tr>\n",
              "    <tr>\n",
              "      <th>202207</th>\n",
              "      <td>196403.571429</td>\n",
              "    </tr>\n",
              "    <tr>\n",
              "      <th>202208</th>\n",
              "      <td>94087.318584</td>\n",
              "    </tr>\n",
              "    <tr>\n",
              "      <th>202209</th>\n",
              "      <td>142999.937500</td>\n",
              "    </tr>\n",
              "    <tr>\n",
              "      <th>202210</th>\n",
              "      <td>160898.142857</td>\n",
              "    </tr>\n",
              "    <tr>\n",
              "      <th>202211</th>\n",
              "      <td>169720.408163</td>\n",
              "    </tr>\n",
              "    <tr>\n",
              "      <th>202212</th>\n",
              "      <td>163493.877551</td>\n",
              "    </tr>\n",
              "    <tr>\n",
              "      <th>202301</th>\n",
              "      <td>168342.123894</td>\n",
              "    </tr>\n",
              "    <tr>\n",
              "      <th>202302</th>\n",
              "      <td>167463.177570</td>\n",
              "    </tr>\n",
              "    <tr>\n",
              "      <th>202303</th>\n",
              "      <td>199844.976303</td>\n",
              "    </tr>\n",
              "    <tr>\n",
              "      <th>202304</th>\n",
              "      <td>216480.601852</td>\n",
              "    </tr>\n",
              "    <tr>\n",
              "      <th>202305</th>\n",
              "      <td>195190.343643</td>\n",
              "    </tr>\n",
              "    <tr>\n",
              "      <th>202306</th>\n",
              "      <td>219275.095785</td>\n",
              "    </tr>\n",
              "  </tbody>\n",
              "</table>\n",
              "</div>\n",
              "    <div class=\"colab-df-buttons\">\n",
              "\n",
              "  <div class=\"colab-df-container\">\n",
              "    <button class=\"colab-df-convert\" onclick=\"convertToInteractive('df-c55a3467-3c67-4bcd-9e4c-66952cbecd58')\"\n",
              "            title=\"Convert this dataframe to an interactive table.\"\n",
              "            style=\"display:none;\">\n",
              "\n",
              "  <svg xmlns=\"http://www.w3.org/2000/svg\" height=\"24px\" viewBox=\"0 -960 960 960\">\n",
              "    <path d=\"M120-120v-720h720v720H120Zm60-500h600v-160H180v160Zm220 220h160v-160H400v160Zm0 220h160v-160H400v160ZM180-400h160v-160H180v160Zm440 0h160v-160H620v160ZM180-180h160v-160H180v160Zm440 0h160v-160H620v160Z\"/>\n",
              "  </svg>\n",
              "    </button>\n",
              "\n",
              "  <style>\n",
              "    .colab-df-container {\n",
              "      display:flex;\n",
              "      gap: 12px;\n",
              "    }\n",
              "\n",
              "    .colab-df-convert {\n",
              "      background-color: #E8F0FE;\n",
              "      border: none;\n",
              "      border-radius: 50%;\n",
              "      cursor: pointer;\n",
              "      display: none;\n",
              "      fill: #1967D2;\n",
              "      height: 32px;\n",
              "      padding: 0 0 0 0;\n",
              "      width: 32px;\n",
              "    }\n",
              "\n",
              "    .colab-df-convert:hover {\n",
              "      background-color: #E2EBFA;\n",
              "      box-shadow: 0px 1px 2px rgba(60, 64, 67, 0.3), 0px 1px 3px 1px rgba(60, 64, 67, 0.15);\n",
              "      fill: #174EA6;\n",
              "    }\n",
              "\n",
              "    .colab-df-buttons div {\n",
              "      margin-bottom: 4px;\n",
              "    }\n",
              "\n",
              "    [theme=dark] .colab-df-convert {\n",
              "      background-color: #3B4455;\n",
              "      fill: #D2E3FC;\n",
              "    }\n",
              "\n",
              "    [theme=dark] .colab-df-convert:hover {\n",
              "      background-color: #434B5C;\n",
              "      box-shadow: 0px 1px 3px 1px rgba(0, 0, 0, 0.15);\n",
              "      filter: drop-shadow(0px 1px 2px rgba(0, 0, 0, 0.3));\n",
              "      fill: #FFFFFF;\n",
              "    }\n",
              "  </style>\n",
              "\n",
              "    <script>\n",
              "      const buttonEl =\n",
              "        document.querySelector('#df-c55a3467-3c67-4bcd-9e4c-66952cbecd58 button.colab-df-convert');\n",
              "      buttonEl.style.display =\n",
              "        google.colab.kernel.accessAllowed ? 'block' : 'none';\n",
              "\n",
              "      async function convertToInteractive(key) {\n",
              "        const element = document.querySelector('#df-c55a3467-3c67-4bcd-9e4c-66952cbecd58');\n",
              "        const dataTable =\n",
              "          await google.colab.kernel.invokeFunction('convertToInteractive',\n",
              "                                                    [key], {});\n",
              "        if (!dataTable) return;\n",
              "\n",
              "        const docLinkHtml = 'Like what you see? Visit the ' +\n",
              "          '<a target=\"_blank\" href=https://colab.research.google.com/notebooks/data_table.ipynb>data table notebook</a>'\n",
              "          + ' to learn more about interactive tables.';\n",
              "        element.innerHTML = '';\n",
              "        dataTable['output_type'] = 'display_data';\n",
              "        await google.colab.output.renderOutput(dataTable, element);\n",
              "        const docLink = document.createElement('div');\n",
              "        docLink.innerHTML = docLinkHtml;\n",
              "        element.appendChild(docLink);\n",
              "      }\n",
              "    </script>\n",
              "  </div>\n",
              "\n",
              "\n",
              "    <div id=\"df-bb199807-6185-4ad4-879d-21f1504dccce\">\n",
              "      <button class=\"colab-df-quickchart\" onclick=\"quickchart('df-bb199807-6185-4ad4-879d-21f1504dccce')\"\n",
              "                title=\"Suggest charts\"\n",
              "                style=\"display:none;\">\n",
              "\n",
              "<svg xmlns=\"http://www.w3.org/2000/svg\" height=\"24px\"viewBox=\"0 0 24 24\"\n",
              "     width=\"24px\">\n",
              "    <g>\n",
              "        <path d=\"M19 3H5c-1.1 0-2 .9-2 2v14c0 1.1.9 2 2 2h14c1.1 0 2-.9 2-2V5c0-1.1-.9-2-2-2zM9 17H7v-7h2v7zm4 0h-2V7h2v10zm4 0h-2v-4h2v4z\"/>\n",
              "    </g>\n",
              "</svg>\n",
              "      </button>\n",
              "\n",
              "<style>\n",
              "  .colab-df-quickchart {\n",
              "      --bg-color: #E8F0FE;\n",
              "      --fill-color: #1967D2;\n",
              "      --hover-bg-color: #E2EBFA;\n",
              "      --hover-fill-color: #174EA6;\n",
              "      --disabled-fill-color: #AAA;\n",
              "      --disabled-bg-color: #DDD;\n",
              "  }\n",
              "\n",
              "  [theme=dark] .colab-df-quickchart {\n",
              "      --bg-color: #3B4455;\n",
              "      --fill-color: #D2E3FC;\n",
              "      --hover-bg-color: #434B5C;\n",
              "      --hover-fill-color: #FFFFFF;\n",
              "      --disabled-bg-color: #3B4455;\n",
              "      --disabled-fill-color: #666;\n",
              "  }\n",
              "\n",
              "  .colab-df-quickchart {\n",
              "    background-color: var(--bg-color);\n",
              "    border: none;\n",
              "    border-radius: 50%;\n",
              "    cursor: pointer;\n",
              "    display: none;\n",
              "    fill: var(--fill-color);\n",
              "    height: 32px;\n",
              "    padding: 0;\n",
              "    width: 32px;\n",
              "  }\n",
              "\n",
              "  .colab-df-quickchart:hover {\n",
              "    background-color: var(--hover-bg-color);\n",
              "    box-shadow: 0 1px 2px rgba(60, 64, 67, 0.3), 0 1px 3px 1px rgba(60, 64, 67, 0.15);\n",
              "    fill: var(--button-hover-fill-color);\n",
              "  }\n",
              "\n",
              "  .colab-df-quickchart-complete:disabled,\n",
              "  .colab-df-quickchart-complete:disabled:hover {\n",
              "    background-color: var(--disabled-bg-color);\n",
              "    fill: var(--disabled-fill-color);\n",
              "    box-shadow: none;\n",
              "  }\n",
              "\n",
              "  .colab-df-spinner {\n",
              "    border: 2px solid var(--fill-color);\n",
              "    border-color: transparent;\n",
              "    border-bottom-color: var(--fill-color);\n",
              "    animation:\n",
              "      spin 1s steps(1) infinite;\n",
              "  }\n",
              "\n",
              "  @keyframes spin {\n",
              "    0% {\n",
              "      border-color: transparent;\n",
              "      border-bottom-color: var(--fill-color);\n",
              "      border-left-color: var(--fill-color);\n",
              "    }\n",
              "    20% {\n",
              "      border-color: transparent;\n",
              "      border-left-color: var(--fill-color);\n",
              "      border-top-color: var(--fill-color);\n",
              "    }\n",
              "    30% {\n",
              "      border-color: transparent;\n",
              "      border-left-color: var(--fill-color);\n",
              "      border-top-color: var(--fill-color);\n",
              "      border-right-color: var(--fill-color);\n",
              "    }\n",
              "    40% {\n",
              "      border-color: transparent;\n",
              "      border-right-color: var(--fill-color);\n",
              "      border-top-color: var(--fill-color);\n",
              "    }\n",
              "    60% {\n",
              "      border-color: transparent;\n",
              "      border-right-color: var(--fill-color);\n",
              "    }\n",
              "    80% {\n",
              "      border-color: transparent;\n",
              "      border-right-color: var(--fill-color);\n",
              "      border-bottom-color: var(--fill-color);\n",
              "    }\n",
              "    90% {\n",
              "      border-color: transparent;\n",
              "      border-bottom-color: var(--fill-color);\n",
              "    }\n",
              "  }\n",
              "</style>\n",
              "\n",
              "      <script>\n",
              "        async function quickchart(key) {\n",
              "          const quickchartButtonEl =\n",
              "            document.querySelector('#' + key + ' button');\n",
              "          quickchartButtonEl.disabled = true;  // To prevent multiple clicks.\n",
              "          quickchartButtonEl.classList.add('colab-df-spinner');\n",
              "          try {\n",
              "            const charts = await google.colab.kernel.invokeFunction(\n",
              "                'suggestCharts', [key], {});\n",
              "          } catch (error) {\n",
              "            console.error('Error during call to suggestCharts:', error);\n",
              "          }\n",
              "          quickchartButtonEl.classList.remove('colab-df-spinner');\n",
              "          quickchartButtonEl.classList.add('colab-df-quickchart-complete');\n",
              "        }\n",
              "        (() => {\n",
              "          let quickchartButtonEl =\n",
              "            document.querySelector('#df-bb199807-6185-4ad4-879d-21f1504dccce button');\n",
              "          quickchartButtonEl.style.display =\n",
              "            google.colab.kernel.accessAllowed ? 'block' : 'none';\n",
              "        })();\n",
              "      </script>\n",
              "    </div>\n",
              "\n",
              "  <div id=\"id_213708e4-d352-43b5-9653-13750ea2ae6e\">\n",
              "    <style>\n",
              "      .colab-df-generate {\n",
              "        background-color: #E8F0FE;\n",
              "        border: none;\n",
              "        border-radius: 50%;\n",
              "        cursor: pointer;\n",
              "        display: none;\n",
              "        fill: #1967D2;\n",
              "        height: 32px;\n",
              "        padding: 0 0 0 0;\n",
              "        width: 32px;\n",
              "      }\n",
              "\n",
              "      .colab-df-generate:hover {\n",
              "        background-color: #E2EBFA;\n",
              "        box-shadow: 0px 1px 2px rgba(60, 64, 67, 0.3), 0px 1px 3px 1px rgba(60, 64, 67, 0.15);\n",
              "        fill: #174EA6;\n",
              "      }\n",
              "\n",
              "      [theme=dark] .colab-df-generate {\n",
              "        background-color: #3B4455;\n",
              "        fill: #D2E3FC;\n",
              "      }\n",
              "\n",
              "      [theme=dark] .colab-df-generate:hover {\n",
              "        background-color: #434B5C;\n",
              "        box-shadow: 0px 1px 3px 1px rgba(0, 0, 0, 0.15);\n",
              "        filter: drop-shadow(0px 1px 2px rgba(0, 0, 0, 0.3));\n",
              "        fill: #FFFFFF;\n",
              "      }\n",
              "    </style>\n",
              "    <button class=\"colab-df-generate\" onclick=\"generateWithVariable('data')\"\n",
              "            title=\"Generate code using this dataframe.\"\n",
              "            style=\"display:none;\">\n",
              "\n",
              "  <svg xmlns=\"http://www.w3.org/2000/svg\" height=\"24px\"viewBox=\"0 0 24 24\"\n",
              "       width=\"24px\">\n",
              "    <path d=\"M7,19H8.4L18.45,9,17,7.55,7,17.6ZM5,21V16.75L18.45,3.32a2,2,0,0,1,2.83,0l1.4,1.43a1.91,1.91,0,0,1,.58,1.4,1.91,1.91,0,0,1-.58,1.4L9.25,21ZM18.45,9,17,7.55Zm-12,3A5.31,5.31,0,0,0,4.9,8.1,5.31,5.31,0,0,0,1,6.5,5.31,5.31,0,0,0,4.9,4.9,5.31,5.31,0,0,0,6.5,1,5.31,5.31,0,0,0,8.1,4.9,5.31,5.31,0,0,0,12,6.5,5.46,5.46,0,0,0,6.5,12Z\"/>\n",
              "  </svg>\n",
              "    </button>\n",
              "    <script>\n",
              "      (() => {\n",
              "      const buttonEl =\n",
              "        document.querySelector('#id_213708e4-d352-43b5-9653-13750ea2ae6e button.colab-df-generate');\n",
              "      buttonEl.style.display =\n",
              "        google.colab.kernel.accessAllowed ? 'block' : 'none';\n",
              "\n",
              "      buttonEl.onclick = () => {\n",
              "        google.colab.notebook.generateWithVariable('data');\n",
              "      }\n",
              "      })();\n",
              "    </script>\n",
              "  </div>\n",
              "\n",
              "    </div>\n",
              "  </div>\n"
            ],
            "application/vnd.google.colaboratory.intrinsic+json": {
              "type": "dataframe",
              "variable_name": "data",
              "summary": "{\n  \"name\": \"data\",\n  \"rows\": 18,\n  \"fields\": [\n    {\n      \"column\": \"\\uae30\\uc900\\ub144\\uc6d4\",\n      \"properties\": {\n        \"dtype\": \"number\",\n        \"std\": 47,\n        \"min\": 202201,\n        \"max\": 202306,\n        \"num_unique_values\": 18,\n        \"samples\": [\n          202201,\n          202202,\n          202209\n        ],\n        \"semantic_type\": \"\",\n        \"description\": \"\"\n      }\n    },\n    {\n      \"column\": \"\\uac70\\ub798\\uae08\\uc561\",\n      \"properties\": {\n        \"dtype\": \"number\",\n        \"std\": 32905.10033748603,\n        \"min\": 94087.3185840708,\n        \"max\": 232832.44604316546,\n        \"num_unique_values\": 18,\n        \"samples\": [\n          178784.90789473685,\n          176651.56470588237,\n          142999.9375\n        ],\n        \"semantic_type\": \"\",\n        \"description\": \"\"\n      }\n    }\n  ]\n}"
            }
          },
          "metadata": {},
          "execution_count": 92
        }
      ]
    },
    {
      "cell_type": "code",
      "source": [
        "data.info()"
      ],
      "metadata": {
        "colab": {
          "base_uri": "https://localhost:8080/"
        },
        "id": "InHqfABhEVHb",
        "outputId": "cc632e47-317d-4de3-d74e-b32ba2812448"
      },
      "id": "InHqfABhEVHb",
      "execution_count": null,
      "outputs": [
        {
          "output_type": "stream",
          "name": "stdout",
          "text": [
            "<class 'pandas.core.frame.DataFrame'>\n",
            "Index: 18 entries, 202201 to 202306\n",
            "Data columns (total 1 columns):\n",
            " #   Column  Non-Null Count  Dtype  \n",
            "---  ------  --------------  -----  \n",
            " 0   거래금액    18 non-null     float64\n",
            "dtypes: float64(1)\n",
            "memory usage: 288.0 bytes\n"
          ]
        }
      ]
    },
    {
      "cell_type": "code",
      "source": [
        "data['거래금액'] = data['거래금액'].astype(int)"
      ],
      "metadata": {
        "id": "_fSP4-1yEa8_"
      },
      "id": "_fSP4-1yEa8_",
      "execution_count": null,
      "outputs": []
    },
    {
      "cell_type": "code",
      "source": [
        "# data = data.set_index('기준년월')"
      ],
      "metadata": {
        "id": "xQFOG_lqBLcd"
      },
      "id": "xQFOG_lqBLcd",
      "execution_count": null,
      "outputs": []
    },
    {
      "cell_type": "code",
      "source": [
        "data.index"
      ],
      "metadata": {
        "colab": {
          "base_uri": "https://localhost:8080/"
        },
        "id": "kfH7OmPrEqbh",
        "outputId": "190c9ba4-11a9-4cda-c46a-6d7020e09abd"
      },
      "id": "kfH7OmPrEqbh",
      "execution_count": null,
      "outputs": [
        {
          "output_type": "execute_result",
          "data": {
            "text/plain": [
              "Index([202201, 202202, 202203, 202204, 202205, 202206, 202207, 202208, 202209,\n",
              "       202210, 202211, 202212, 202301, 202302, 202303, 202304, 202305, 202306],\n",
              "      dtype='int64', name='기준년월')"
            ]
          },
          "metadata": {},
          "execution_count": 108
        }
      ]
    },
    {
      "cell_type": "markdown",
      "source": [
        "1. 기본차트 그려보기"
      ],
      "metadata": {
        "id": "_s-s1wTOkSGU"
      },
      "id": "_s-s1wTOkSGU"
    },
    {
      "cell_type": "code",
      "source": [
        "plt.figure(figsize=(6, 5))\n",
        "plt.plot(data, marker='o', linestyle='-', color='steelblue')\n",
        "\n",
        "# x축 날짜 전체 표시\n",
        "plt.xticks(rotation=45)\n",
        "\n",
        "# 제목, 축 라벨, 기타\n",
        "plt.title('realestate price')\n",
        "plt.xlabel('date')\n",
        "plt.ylabel('price')\n",
        "plt.grid(True)\n",
        "plt.tight_layout()\n",
        "plt.show()"
      ],
      "metadata": {
        "colab": {
          "base_uri": "https://localhost:8080/",
          "height": 507
        },
        "id": "mRHAk-h-igj6",
        "outputId": "33a326af-4425-45a2-f84f-29f093f4e6e8"
      },
      "id": "mRHAk-h-igj6",
      "execution_count": null,
      "outputs": [
        {
          "output_type": "display_data",
          "data": {
            "text/plain": [
              "<Figure size 600x500 with 1 Axes>"
            ],
            "image/png": "[encoded data removed]"
          },
          "metadata": {}
        }
      ]
    },
    {
      "cell_type": "markdown",
      "source": [
        "2. 데이터 추가하기"
      ],
      "metadata": {
        "id": "b_6ufGobkWXx"
      },
      "id": "b_6ufGobkWXx"
    },
    {
      "cell_type": "code",
      "source": [],
      "metadata": {
        "colab": {
          "base_uri": "https://localhost:8080/"
        },
        "id": "fM0LyD_DjPlu",
        "outputId": "d30c64ac-4b93-4adc-c64c-7427c1552237"
      },
      "id": "fM0LyD_DjPlu",
      "execution_count": null,
      "outputs": [
        {
          "output_type": "stream",
          "name": "stderr",
          "text": [
            "<ipython-input-9-7a44a32ba82e>:1: FutureWarning: The default value of numeric_only in DataFrameGroupBy.mean is deprecated. In a future version, numeric_only will default to False. Either specify numeric_only or select only columns which should be valid for the function.\n",
            "  df_mean = df.groupby('기준년월').mean()['거래금액']\n"
          ]
        },
        {
          "output_type": "execute_result",
          "data": {
            "text/plain": [
              "기준년월\n",
              "202201    178784.907895\n",
              "202202    176651.564706\n",
              "202203    197273.245614\n",
              "202204    232832.446043\n",
              "202205    208996.691176\n",
              "202206    213556.690476\n",
              "202207    196403.571429\n",
              "202208     94087.318584\n",
              "202209    142999.937500\n",
              "202210    160898.142857\n",
              "202211    203631.578947\n",
              "202212    163493.877551\n",
              "202301    168342.123894\n",
              "202302    167463.177570\n",
              "202303    199844.976303\n",
              "202304    216480.601852\n",
              "202305    195190.343643\n",
              "202306    217566.666667\n",
              "Name: 거래금액, dtype: float64"
            ]
          },
          "metadata": {},
          "execution_count": 9
        }
      ]
    },
    {
      "cell_type": "code",
      "source": [],
      "metadata": {
        "colab": {
          "base_uri": "https://localhost:8080/",
          "height": 469
        },
        "id": "S64dWs04TxQE",
        "outputId": "73166571-61c8-4a62-b7f6-a5c446d88446"
      },
      "id": "S64dWs04TxQE",
      "execution_count": null,
      "outputs": [
        {
          "output_type": "display_data",
          "data": {
            "text/plain": [
              "<Figure size 640x480 with 1 Axes>"
            ],
            "image/png": "[encoded data removed]"
          },
          "metadata": {}
        }
      ]
    },
    {
      "cell_type": "code",
      "source": [
        "ax2 = ax1.twinx()"
      ],
      "metadata": {
        "colab": {
          "base_uri": "https://localhost:8080/",
          "height": 469
        },
        "id": "1xKrMpZoT9bH",
        "outputId": "18673a29-a306-45c3-f65a-0388f0439d57"
      },
      "id": "1xKrMpZoT9bH",
      "execution_count": null,
      "outputs": [
        {
          "output_type": "display_data",
          "data": {
            "text/plain": [
              "<Figure size 640x480 with 2 Axes>"
            ],
            "image/png": "[encoded data removed]"
          },
          "metadata": {}
        }
      ]
    },
    {
      "cell_type": "markdown",
      "source": [
        "차트 요소 정리"
      ],
      "metadata": {
        "id": "hJaVURcXX2iA"
      },
      "id": "hJaVURcXX2iA"
    },
    {
      "cell_type": "code",
      "source": [],
      "metadata": {
        "colab": {
          "base_uri": "https://localhost:8080/",
          "height": 541
        },
        "id": "JvyDA5HSU8Ck",
        "outputId": "b53b8a60-8bc8-4589-edf3-75fe551e7128"
      },
      "id": "JvyDA5HSU8Ck",
      "execution_count": null,
      "outputs": [
        {
          "output_type": "display_data",
          "data": {
            "text/plain": [
              "<Figure size 1200x500 with 2 Axes>"
            ],
            "image/png": "[encoded data removed]"
          },
          "metadata": {}
        }
      ]
    },
    {
      "cell_type": "code",
      "source": [],
      "metadata": {
        "id": "VxggakmsYDhE"
      },
      "id": "VxggakmsYDhE",
      "execution_count": null,
      "outputs": []
    }
  ],
  "metadata": {
    "kernelspec": {
      "display_name": "Python 3 (ipykernel)",
      "language": "python",
      "name": "python3"
    },
    "language_info": {
      "codemirror_mode": {
        "name": "ipython",
        "version": 3
      },
      "file_extension": ".py",
      "mimetype": "text/x-python",
      "name": "python",
      "nbconvert_exporter": "python",
      "pygments_lexer": "ipython3",
      "version": "3.8.0"
    },
    "colab": {
      "provenance": [],
      "include_colab_link": true
    }
  },
  "nbformat": 4,
  "nbformat_minor": 5
}