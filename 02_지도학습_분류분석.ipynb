{
  "nbformat": 4,
  "nbformat_minor": 0,
  "metadata": {
    "colab": {
      "provenance": [],
      "include_colab_link": true
    },
    "kernelspec": {
      "name": "python3",
      "display_name": "Python 3"
    },
    "language_info": {
      "name": "python"
    }
  },
  "cells": [
    {
      "cell_type": "markdown",
      "metadata": {
        "id": "view-in-github",
        "colab_type": "text"
      },
      "source": [
        "<a href=\"https://colab.research.google.com/github/kimjaehwankimjaehwan/deeplearningstudy/blob/main/02_%EC%A7%80%EB%8F%84%ED%95%99%EC%8A%B5_%EB%B6%84%EB%A5%98%EB%B6%84%EC%84%9D.ipynb\" target=\"_parent\"><img src=\"https://colab.research.google.com/assets/colab-badge.svg\" alt=\"Open In Colab\"/></a>"
      ]
    },
    {
      "cell_type": "code",
      "source": [
        "from google.colab import drive\n",
        "drive.mount('/content/drive')"
      ],
      "metadata": {
        "colab": {
          "base_uri": "https://localhost:8080/"
        },
        "id": "9BYiJHweIaf6",
        "outputId": "96a793b7-ac22-49d3-8820-1937f33e3add"
      },
      "execution_count": null,
      "outputs": [
        {
          "output_type": "stream",
          "name": "stdout",
          "text": [
            "Mounted at /content/drive\n"
          ]
        }
      ]
    },
    {
      "cell_type": "code",
      "source": [
        "file_path = '/content/drive/MyDrive/kdt_2506/챕터3/data/iris3.csv'\n",
        "y_column_name = 'species'\n",
        "SEED = 777"
      ],
      "metadata": {
        "id": "HwZoyJ6kY0dw"
      },
      "execution_count": null,
      "outputs": []
    },
    {
      "cell_type": "code",
      "source": [
        "import pandas as pd\n",
        "from sklearn.model_selection import train_test_split\n",
        "\n",
        "# Regressor를 Classifier로 변경\n",
        "from sklearn.ensemble import RandomForestRegressor, RandomForestClassifier\n",
        "from sklearn.preprocessing import LabelEncoder\n",
        "from sklearn.metrics import classification_report, accuracy_score\n",
        "\n",
        "model = RandomForestClassifier(random_state=SEED)\n",
        "\n",
        "df = pd.read_csv(file_path)\n",
        "\n",
        "X = df.drop(y_column_name, axis=1)\n",
        "y = df[y_column_name]\n",
        "\n",
        "# y도 dummy처리 : categorical하게 변환\n",
        "X = pd.get_dummies(X)\n",
        "\n",
        "le = LabelEncoder()\n",
        "y = le.fit_transform(df[y_column_name])  # 1차원 정수형으로 변환\n",
        "\n",
        "X_train, X_test, y_train, y_test = train_test_split(X, y, test_size=0.25, stratify=y, random_state=SEED)\n",
        "\n",
        "X_train = X_train.fillna(X_train.mean())\n",
        "X_test = X_test.fillna(X_train.mean())\n",
        "\n",
        "model.fit(X_train, y_train)\n",
        "\n",
        "train_pred = model.predict(X_train)\n",
        "test_pred = model.predict(X_test)\n",
        "\n",
        "print(f\"Accuracy(Train / Test): {accuracy_score(y_train, train_pred):.4f} / {accuracy_score(y_test, test_pred):.4f}\\n\")\n",
        "print(classification_report(y_train, train_pred))\n",
        "print(classification_report(y_test, test_pred))"
      ],
      "metadata": {
        "colab": {
          "base_uri": "https://localhost:8080/"
        },
        "id": "vOQUFa2CYoVX",
        "outputId": "42388091-8d2a-4967-cb45-898d647bc2a3"
      },
      "execution_count": null,
      "outputs": [
        {
          "output_type": "stream",
          "name": "stdout",
          "text": [
            "Accuracy(Train / Test): 1.0000 / 0.9737\n",
            "\n",
            "              precision    recall  f1-score   support\n",
            "\n",
            "           0       1.00      1.00      1.00        37\n",
            "           1       1.00      1.00      1.00        37\n",
            "           2       1.00      1.00      1.00        38\n",
            "\n",
            "    accuracy                           1.00       112\n",
            "   macro avg       1.00      1.00      1.00       112\n",
            "weighted avg       1.00      1.00      1.00       112\n",
            "\n",
            "              precision    recall  f1-score   support\n",
            "\n",
            "           0       1.00      1.00      1.00        13\n",
            "           1       1.00      0.92      0.96        13\n",
            "           2       0.92      1.00      0.96        12\n",
            "\n",
            "    accuracy                           0.97        38\n",
            "   macro avg       0.97      0.97      0.97        38\n",
            "weighted avg       0.98      0.97      0.97        38\n",
            "\n"
          ]
        }
      ]
    },
    {
      "cell_type": "code",
      "source": [
        "test_pred"
      ],
      "metadata": {
        "colab": {
          "base_uri": "https://localhost:8080/"
        },
        "id": "PvEVPKfaKSA4",
        "outputId": "93ad3edd-dda2-4e2f-9063-58161e5791bb"
      },
      "execution_count": null,
      "outputs": [
        {
          "output_type": "execute_result",
          "data": {
            "text/plain": [
              "array([0, 0, 2, 1, 0, 1, 0, 2, 0, 2, 2, 1, 0, 0, 2, 2, 0, 1, 2, 0, 0, 2,\n",
              "       2, 2, 1, 1, 1, 1, 0, 1, 1, 2, 0, 0, 1, 1, 2, 2])"
            ]
          },
          "metadata": {},
          "execution_count": 10
        }
      ]
    },
    {
      "cell_type": "code",
      "source": [
        "model.predict_proba(X_test)"
      ],
      "metadata": {
        "colab": {
          "base_uri": "https://localhost:8080/"
        },
        "id": "U0eobVvdKV_A",
        "outputId": "9b14e900-05ed-4658-f315-1d679d92609d"
      },
      "execution_count": null,
      "outputs": [
        {
          "output_type": "execute_result",
          "data": {
            "text/plain": [
              "array([[1.  , 0.  , 0.  ],\n",
              "       [1.  , 0.  , 0.  ],\n",
              "       [0.  , 0.19, 0.81],\n",
              "       [0.  , 1.  , 0.  ],\n",
              "       [1.  , 0.  , 0.  ],\n",
              "       [0.  , 1.  , 0.  ],\n",
              "       [1.  , 0.  , 0.  ],\n",
              "       [0.  , 0.3 , 0.7 ],\n",
              "       [1.  , 0.  , 0.  ],\n",
              "       [0.  , 0.  , 1.  ],\n",
              "       [0.  , 0.  , 1.  ],\n",
              "       [0.  , 0.95, 0.05],\n",
              "       [0.99, 0.01, 0.  ],\n",
              "       [1.  , 0.  , 0.  ],\n",
              "       [0.  , 0.15, 0.85],\n",
              "       [0.  , 0.08, 0.92],\n",
              "       [1.  , 0.  , 0.  ],\n",
              "       [0.  , 0.94, 0.06],\n",
              "       [0.  , 0.08, 0.92],\n",
              "       [0.95, 0.05, 0.  ],\n",
              "       [1.  , 0.  , 0.  ],\n",
              "       [0.  , 0.  , 1.  ],\n",
              "       [0.  , 0.06, 0.94],\n",
              "       [0.  , 0.02, 0.98],\n",
              "       [0.  , 0.98, 0.02],\n",
              "       [0.01, 0.89, 0.1 ],\n",
              "       [0.  , 0.97, 0.03],\n",
              "       [0.  , 0.99, 0.01],\n",
              "       [1.  , 0.  , 0.  ],\n",
              "       [0.02, 0.76, 0.22],\n",
              "       [0.  , 0.97, 0.03],\n",
              "       [0.  , 0.  , 1.  ],\n",
              "       [0.98, 0.02, 0.  ],\n",
              "       [1.  , 0.  , 0.  ],\n",
              "       [0.02, 0.93, 0.05],\n",
              "       [0.  , 1.  , 0.  ],\n",
              "       [0.  , 0.  , 1.  ],\n",
              "       [0.  , 0.  , 1.  ]])"
            ]
          },
          "metadata": {},
          "execution_count": 13
        }
      ]
    },
    {
      "cell_type": "code",
      "source": [
        "import pandas as pd\n",
        "from sklearn.model_selection import train_test_split\n",
        "from sklearn.preprocessing import LabelEncoder\n",
        "from sklearn.metrics import classification_report, accuracy_score\n",
        "\n",
        "from sklearn.ensemble import RandomForestClassifier\n",
        "from sklearn.linear_model import LogisticRegression\n",
        "from sklearn.svm import SVC\n",
        "from xgboost import XGBClassifier\n",
        "\n",
        "\n",
        "model = RandomForestClassifier(random_state=SEED)\n",
        "\n",
        "df = pd.read_csv(file_path)\n",
        "\n",
        "X = df.drop(y_column_name, axis=1)\n",
        "y = df[y_column_name]\n",
        "\n",
        "# y도 dummy처리 : categorical하게 변환\n",
        "X = pd.get_dummies(X)\n",
        "\n",
        "le = LabelEncoder()\n",
        "y = le.fit_transform(df[y_column_name])  # 1차원 정수형으로 변환\n",
        "\n",
        "X_train, X_test, y_train, y_test = train_test_split(X, y, test_size=0.25, stratify=y, random_state=SEED)\n",
        "\n",
        "X_train = X_train.fillna(X_train.mean())\n",
        "X_test = X_test.fillna(X_train.mean())\n",
        "\n",
        "# 모델 리스트 정의\n",
        "models = {\n",
        "    \"RandomForest\": RandomForestClassifier(random_state=SEED),\n",
        "    \"LogisticRegression\": LogisticRegression(max_iter=200, random_state=SEED),\n",
        "    \"SVM\": SVC(probability=True, random_state=SEED),\n",
        "    \"XGBoost\": XGBClassifier(eval_metric='mlogloss', random_state=SEED)\n",
        "}\n",
        "\n",
        "# 결과 저장용 리스트\n",
        "results = []\n",
        "\n",
        "# 각 모델 학습 및 평가\n",
        "for name, model in models.items():\n",
        "    print(f\"\\n* {name} 결과\")\n",
        "    model.fit(X_train, y_train)\n",
        "\n",
        "    train_pred = model.predict(X_train)\n",
        "    test_pred = model.predict(X_test)\n",
        "\n",
        "    acc_train = accuracy_score(y_train, train_pred)\n",
        "    acc_test = accuracy_score(y_test, test_pred)\n",
        "\n",
        "    # 결과 저장\n",
        "    results.append({\n",
        "        \"Model\": name,\n",
        "        \"Train Accuracy\": acc_train,\n",
        "        \"Test Accuracy\": acc_test\n",
        "    })\n",
        "\n",
        "    print(f\"Accuracy (Train / Test): {acc_train:.4f} / {acc_test:.4f}\")\n",
        "    print(\"Train classification report:\")\n",
        "    print(classification_report(y_train, train_pred))\n",
        "    print(\"Test classification report:\")\n",
        "    print(classification_report(y_test, test_pred))\n",
        "\n",
        "\n",
        "# 결과 비교표 출력\n",
        "print(\"\\n* 전체 모델 성능 비교\")\n",
        "df_result = pd.DataFrame(results)\n",
        "print(df_result.sort_values(by=\"Test Accuracy\", ascending=False).to_string(index=False))"
      ],
      "metadata": {
        "colab": {
          "base_uri": "https://localhost:8080/"
        },
        "id": "LtgFBdXVbqvr",
        "outputId": "fa10e879-e029-455a-8080-00079ab790af"
      },
      "execution_count": null,
      "outputs": [
        {
          "output_type": "stream",
          "name": "stdout",
          "text": [
            "\n",
            "* RandomForest 결과\n",
            "Accuracy (Train / Test): 1.0000 / 0.9211\n",
            "Train classification report:\n",
            "              precision    recall  f1-score   support\n",
            "\n",
            "           0       1.00      1.00      1.00        38\n",
            "           1       1.00      1.00      1.00        37\n",
            "           2       1.00      1.00      1.00        37\n",
            "\n",
            "    accuracy                           1.00       112\n",
            "   macro avg       1.00      1.00      1.00       112\n",
            "weighted avg       1.00      1.00      1.00       112\n",
            "\n",
            "Test classification report:\n",
            "              precision    recall  f1-score   support\n",
            "\n",
            "           0       1.00      1.00      1.00        12\n",
            "           1       0.92      0.85      0.88        13\n",
            "           2       0.86      0.92      0.89        13\n",
            "\n",
            "    accuracy                           0.92        38\n",
            "   macro avg       0.92      0.92      0.92        38\n",
            "weighted avg       0.92      0.92      0.92        38\n",
            "\n",
            "\n",
            "* LogisticRegression 결과\n",
            "Accuracy (Train / Test): 0.9911 / 0.9211\n",
            "Train classification report:\n",
            "              precision    recall  f1-score   support\n",
            "\n",
            "           0       1.00      1.00      1.00        38\n",
            "           1       1.00      0.97      0.99        37\n",
            "           2       0.97      1.00      0.99        37\n",
            "\n",
            "    accuracy                           0.99       112\n",
            "   macro avg       0.99      0.99      0.99       112\n",
            "weighted avg       0.99      0.99      0.99       112\n",
            "\n",
            "Test classification report:\n",
            "              precision    recall  f1-score   support\n",
            "\n",
            "           0       1.00      1.00      1.00        12\n",
            "           1       0.92      0.85      0.88        13\n",
            "           2       0.86      0.92      0.89        13\n",
            "\n",
            "    accuracy                           0.92        38\n",
            "   macro avg       0.92      0.92      0.92        38\n",
            "weighted avg       0.92      0.92      0.92        38\n",
            "\n",
            "\n",
            "* SVM 결과\n",
            "Accuracy (Train / Test): 0.9821 / 0.9211\n",
            "Train classification report:\n",
            "              precision    recall  f1-score   support\n",
            "\n",
            "           0       1.00      1.00      1.00        38\n",
            "           1       1.00      0.95      0.97        37\n",
            "           2       0.95      1.00      0.97        37\n",
            "\n",
            "    accuracy                           0.98       112\n",
            "   macro avg       0.98      0.98      0.98       112\n",
            "weighted avg       0.98      0.98      0.98       112\n",
            "\n",
            "Test classification report:\n",
            "              precision    recall  f1-score   support\n",
            "\n",
            "           0       1.00      1.00      1.00        12\n",
            "           1       0.92      0.85      0.88        13\n",
            "           2       0.86      0.92      0.89        13\n",
            "\n",
            "    accuracy                           0.92        38\n",
            "   macro avg       0.92      0.92      0.92        38\n",
            "weighted avg       0.92      0.92      0.92        38\n",
            "\n",
            "\n",
            "* XGBoost 결과\n",
            "Accuracy (Train / Test): 1.0000 / 0.9211\n",
            "Train classification report:\n",
            "              precision    recall  f1-score   support\n",
            "\n",
            "           0       1.00      1.00      1.00        38\n",
            "           1       1.00      1.00      1.00        37\n",
            "           2       1.00      1.00      1.00        37\n",
            "\n",
            "    accuracy                           1.00       112\n",
            "   macro avg       1.00      1.00      1.00       112\n",
            "weighted avg       1.00      1.00      1.00       112\n",
            "\n",
            "Test classification report:\n",
            "              precision    recall  f1-score   support\n",
            "\n",
            "           0       1.00      1.00      1.00        12\n",
            "           1       0.92      0.85      0.88        13\n",
            "           2       0.86      0.92      0.89        13\n",
            "\n",
            "    accuracy                           0.92        38\n",
            "   macro avg       0.92      0.92      0.92        38\n",
            "weighted avg       0.92      0.92      0.92        38\n",
            "\n",
            "\n",
            "* 전체 모델 성능 비교\n",
            "             Model  Train Accuracy  Test Accuracy\n",
            "      RandomForest        1.000000       0.921053\n",
            "LogisticRegression        0.991071       0.921053\n",
            "               SVM        0.982143       0.921053\n",
            "           XGBoost        1.000000       0.921053\n"
          ]
        }
      ]
    },
    {
      "cell_type": "markdown",
      "source": [
        "* CV 추가"
      ],
      "metadata": {
        "id": "y9UFith5gSpZ"
      }
    },
    {
      "cell_type": "code",
      "source": [
        "file_path = '/content/drive/MyDrive/kdt_2506/챕터3/data/iris3.csv'\n",
        "y_column_name = 'species'\n",
        "SEED = 7\n",
        "cv = 5"
      ],
      "metadata": {
        "id": "5XKobS_Dgbys"
      },
      "execution_count": null,
      "outputs": []
    },
    {
      "cell_type": "code",
      "source": [
        "import pandas as pd\n",
        "# from sklearn.model_selection import train_test_split\n",
        "from sklearn.model_selection import cross_val_score\n",
        "from sklearn.preprocessing import LabelEncoder\n",
        "from sklearn.metrics import classification_report, accuracy_score\n",
        "\n",
        "from sklearn.ensemble import RandomForestClassifier\n",
        "from sklearn.linear_model import LogisticRegression\n",
        "from sklearn.svm import SVC\n",
        "from xgboost import XGBClassifier\n",
        "\n",
        "\n",
        "model = RandomForestClassifier(random_state=SEED)\n",
        "\n",
        "df = pd.read_csv(file_path)\n",
        "\n",
        "X = df.drop(y_column_name, axis=1)\n",
        "y = df[y_column_name]\n",
        "\n",
        "# y도 dummy처리 : categorical하게 변환\n",
        "X = pd.get_dummies(X)\n",
        "\n",
        "le = LabelEncoder()\n",
        "y = le.fit_transform(df[y_column_name])  # 1차원 정수형으로 변환\n",
        "\n",
        "X_train, X_test, y_train, y_test = train_test_split(X, y, test_size=0.25, stratify=y, random_state=SEED)\n",
        "\n",
        "X_train = X_train.fillna(X_train.mean())\n",
        "X_test = X_test.fillna(X_train.mean())\n",
        "\n",
        "# 모델 리스트 정의\n",
        "models = {\n",
        "    \"RandomForest\": RandomForestClassifier(random_state=SEED),\n",
        "    \"LogisticRegression\": LogisticRegression(max_iter=200, random_state=SEED),\n",
        "    \"SVM\": SVC(probability=True, random_state=SEED),\n",
        "    \"XGBoost\": XGBClassifier(eval_metric='mlogloss', random_state=SEED)\n",
        "}\n",
        "\n",
        "# 교차검증 결과 저장\n",
        "results = []\n",
        "\n",
        "for name, model in models.items():\n",
        "    scores = cross_val_score(model, X_train, y_train, cv=cv, scoring=\"accuracy\")\n",
        "    results.append({\n",
        "        \"Model\": name,\n",
        "        \"CV Mean Accuracy\": scores.mean(),\n",
        "        \"CV Std Dev\": scores.std(),\n",
        "        \"Estimator\": model  # 모델 객체 저장\n",
        "    })\n",
        "    print(f\"* {name} | Fold Accuracies: {scores} | Mean: {scores.mean():.4f}\")\n",
        "\n",
        "# 결과 테이블\n",
        "df_result = pd.DataFrame(results).drop(columns=[\"Estimator\"])\n",
        "print(\"\\n- 교차검증 정확도 비교표\")\n",
        "print(df_result.sort_values(by=\"CV Mean Accuracy\", ascending=False).to_string(index=False))\n",
        "\n",
        "# 가장 좋은 모델 선택\n",
        "best_model_entry = max(results, key=lambda x: x[\"CV Mean Accuracy\"])\n",
        "best_model_name = best_model_entry[\"Model\"]\n",
        "best_model = best_model_entry[\"Estimator\"]\n",
        "\n",
        "# 전체 train 데이터로 재학습 → test 데이터 예측\n",
        "best_model.fit(X_train, y_train)\n",
        "test_pred = best_model.predict(X_test)\n",
        "\n",
        "print(f\"\\n- 최종 선택된 모델: {best_model_name}\")\n",
        "print(f\"- Test Accuracy: {accuracy_score(y_test, test_pred):.4f}\")\n",
        "print(\"- Test Classification Report:\")\n",
        "print(classification_report(y_test, test_pred))"
      ],
      "metadata": {
        "colab": {
          "base_uri": "https://localhost:8080/"
        },
        "id": "COzi_20BgRfO",
        "outputId": "17ac74f1-a3d9-47f4-d4ba-972529ceaf7f"
      },
      "execution_count": null,
      "outputs": [
        {
          "output_type": "stream",
          "name": "stdout",
          "text": [
            "* RandomForest | Fold Accuracies: [0.95652174 1.         0.86363636 0.95454545 1.        ] | Mean: 0.9549\n",
            "* LogisticRegression | Fold Accuracies: [0.95652174 1.         0.86363636 1.         1.        ] | Mean: 0.9640\n",
            "* SVM | Fold Accuracies: [0.95652174 0.91304348 0.86363636 0.95454545 1.        ] | Mean: 0.9375\n",
            "* XGBoost | Fold Accuracies: [0.95652174 0.95652174 0.90909091 1.         0.95454545] | Mean: 0.9553\n",
            "\n",
            "- 교차검증 정확도 비교표\n",
            "             Model  CV Mean Accuracy  CV Std Dev\n",
            "LogisticRegression          0.964032    0.052947\n",
            "           XGBoost          0.955336    0.028764\n",
            "      RandomForest          0.954941    0.049799\n",
            "               SVM          0.937549    0.046071\n",
            "\n",
            "- 최종 선택된 모델: LogisticRegression\n",
            "- Test Accuracy: 0.9737\n",
            "- Test Classification Report:\n",
            "              precision    recall  f1-score   support\n",
            "\n",
            "           0       1.00      1.00      1.00        13\n",
            "           1       1.00      0.92      0.96        13\n",
            "           2       0.92      1.00      0.96        12\n",
            "\n",
            "    accuracy                           0.97        38\n",
            "   macro avg       0.97      0.97      0.97        38\n",
            "weighted avg       0.98      0.97      0.97        38\n",
            "\n"
          ]
        }
      ]
    },
    {
      "cell_type": "code",
      "source": [],
      "metadata": {
        "id": "CJPja5wMcSg2"
      },
      "execution_count": null,
      "outputs": []
    }
  ]
}