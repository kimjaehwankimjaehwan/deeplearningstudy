{
  "nbformat": 4,
  "nbformat_minor": 0,
  "metadata": {
    "colab": {
      "provenance": [],
      "gpuType": "A100",
      "authorship_tag": "ABX9TyMDGusF3KA+rrf0ochFTiMq",
      "include_colab_link": true
    },
    "kernelspec": {
      "name": "python3",
      "display_name": "Python 3"
    },
    "language_info": {
      "name": "python"
    },
    "accelerator": "GPU"
  },
  "cells": [
    {
      "cell_type": "markdown",
      "metadata": {
        "id": "view-in-github",
        "colab_type": "text"
      },
      "source": [
        "<a href=\"https://colab.research.google.com/github/kimjaehwankimjaehwan/deeplearningstudy/blob/main/cats_dogs_YOLOv8x.ipynb\" target=\"_parent\"><img src=\"https://colab.research.google.com/assets/colab-badge.svg\" alt=\"Open In Colab\"/></a>"
      ]
    },
    {
      "cell_type": "code",
      "execution_count": 1,
      "metadata": {
        "colab": {
          "base_uri": "https://localhost:8080/"
        },
        "id": "73SiGhy38DHR",
        "outputId": "17bf0b19-602b-4cf8-947e-731db3acd4cc"
      },
      "outputs": [
        {
          "output_type": "stream",
          "name": "stdout",
          "text": [
            "Mounted at /content/drive\n"
          ]
        }
      ],
      "source": [
        "# 📌 1. Google Drive 연동\n",
        "from google.colab import drive\n",
        "drive.mount('/content/drive')\n"
      ]
    },
    {
      "cell_type": "code",
      "source": [
        "# 📌 2. 필요한 라이브러리 설치\n",
        "!pip install ultralytics matplotlib seaborn\n"
      ],
      "metadata": {
        "colab": {
          "base_uri": "https://localhost:8080/"
        },
        "id": "ZTFTAi5H9DrK",
        "outputId": "3fab79aa-4978-4cf5-e822-c9a270a8e3bb"
      },
      "execution_count": 3,
      "outputs": [
        {
          "output_type": "stream",
          "name": "stdout",
          "text": [
            "Collecting ultralytics\n",
            "  Downloading ultralytics-8.3.159-py3-none-any.whl.metadata (37 kB)\n",
            "Requirement already satisfied: matplotlib in /usr/local/lib/python3.11/dist-packages (3.10.0)\n",
            "Requirement already satisfied: seaborn in /usr/local/lib/python3.11/dist-packages (0.13.2)\n",
            "Requirement already satisfied: numpy>=1.23.0 in /usr/local/lib/python3.11/dist-packages (from ultralytics) (2.0.2)\n",
            "Requirement already satisfied: opencv-python>=4.6.0 in /usr/local/lib/python3.11/dist-packages (from ultralytics) (4.11.0.86)\n",
            "Requirement already satisfied: pillow>=7.1.2 in /usr/local/lib/python3.11/dist-packages (from ultralytics) (11.2.1)\n",
            "Requirement already satisfied: pyyaml>=5.3.1 in /usr/local/lib/python3.11/dist-packages (from ultralytics) (6.0.2)\n",
            "Requirement already satisfied: requests>=2.23.0 in /usr/local/lib/python3.11/dist-packages (from ultralytics) (2.32.3)\n",
            "Requirement already satisfied: scipy>=1.4.1 in /usr/local/lib/python3.11/dist-packages (from ultralytics) (1.15.3)\n",
            "Requirement already satisfied: torch>=1.8.0 in /usr/local/lib/python3.11/dist-packages (from ultralytics) (2.6.0+cu124)\n",
            "Requirement already satisfied: torchvision>=0.9.0 in /usr/local/lib/python3.11/dist-packages (from ultralytics) (0.21.0+cu124)\n",
            "Requirement already satisfied: tqdm>=4.64.0 in /usr/local/lib/python3.11/dist-packages (from ultralytics) (4.67.1)\n",
            "Requirement already satisfied: psutil in /usr/local/lib/python3.11/dist-packages (from ultralytics) (5.9.5)\n",
            "Requirement already satisfied: py-cpuinfo in /usr/local/lib/python3.11/dist-packages (from ultralytics) (9.0.0)\n",
            "Requirement already satisfied: pandas>=1.1.4 in /usr/local/lib/python3.11/dist-packages (from ultralytics) (2.2.2)\n",
            "Collecting ultralytics-thop>=2.0.0 (from ultralytics)\n",
            "  Downloading ultralytics_thop-2.0.14-py3-none-any.whl.metadata (9.4 kB)\n",
            "Requirement already satisfied: contourpy>=1.0.1 in /usr/local/lib/python3.11/dist-packages (from matplotlib) (1.3.2)\n",
            "Requirement already satisfied: cycler>=0.10 in /usr/local/lib/python3.11/dist-packages (from matplotlib) (0.12.1)\n",
            "Requirement already satisfied: fonttools>=4.22.0 in /usr/local/lib/python3.11/dist-packages (from matplotlib) (4.58.4)\n",
            "Requirement already satisfied: kiwisolver>=1.3.1 in /usr/local/lib/python3.11/dist-packages (from matplotlib) (1.4.8)\n",
            "Requirement already satisfied: packaging>=20.0 in /usr/local/lib/python3.11/dist-packages (from matplotlib) (24.2)\n",
            "Requirement already satisfied: pyparsing>=2.3.1 in /usr/local/lib/python3.11/dist-packages (from matplotlib) (3.2.3)\n",
            "Requirement already satisfied: python-dateutil>=2.7 in /usr/local/lib/python3.11/dist-packages (from matplotlib) (2.9.0.post0)\n",
            "Requirement already satisfied: pytz>=2020.1 in /usr/local/lib/python3.11/dist-packages (from pandas>=1.1.4->ultralytics) (2025.2)\n",
            "Requirement already satisfied: tzdata>=2022.7 in /usr/local/lib/python3.11/dist-packages (from pandas>=1.1.4->ultralytics) (2025.2)\n",
            "Requirement already satisfied: six>=1.5 in /usr/local/lib/python3.11/dist-packages (from python-dateutil>=2.7->matplotlib) (1.17.0)\n",
            "Requirement already satisfied: charset-normalizer<4,>=2 in /usr/local/lib/python3.11/dist-packages (from requests>=2.23.0->ultralytics) (3.4.2)\n",
            "Requirement already satisfied: idna<4,>=2.5 in /usr/local/lib/python3.11/dist-packages (from requests>=2.23.0->ultralytics) (3.10)\n",
            "Requirement already satisfied: urllib3<3,>=1.21.1 in /usr/local/lib/python3.11/dist-packages (from requests>=2.23.0->ultralytics) (2.4.0)\n",
            "Requirement already satisfied: certifi>=2017.4.17 in /usr/local/lib/python3.11/dist-packages (from requests>=2.23.0->ultralytics) (2025.6.15)\n",
            "Requirement already satisfied: filelock in /usr/local/lib/python3.11/dist-packages (from torch>=1.8.0->ultralytics) (3.18.0)\n",
            "Requirement already satisfied: typing-extensions>=4.10.0 in /usr/local/lib/python3.11/dist-packages (from torch>=1.8.0->ultralytics) (4.14.0)\n",
            "Requirement already satisfied: networkx in /usr/local/lib/python3.11/dist-packages (from torch>=1.8.0->ultralytics) (3.5)\n",
            "Requirement already satisfied: jinja2 in /usr/local/lib/python3.11/dist-packages (from torch>=1.8.0->ultralytics) (3.1.6)\n",
            "Requirement already satisfied: fsspec in /usr/local/lib/python3.11/dist-packages (from torch>=1.8.0->ultralytics) (2025.3.2)\n",
            "Collecting nvidia-cuda-nvrtc-cu12==12.4.127 (from torch>=1.8.0->ultralytics)\n",
            "  Downloading nvidia_cuda_nvrtc_cu12-12.4.127-py3-none-manylinux2014_x86_64.whl.metadata (1.5 kB)\n",
            "Collecting nvidia-cuda-runtime-cu12==12.4.127 (from torch>=1.8.0->ultralytics)\n",
            "  Downloading nvidia_cuda_runtime_cu12-12.4.127-py3-none-manylinux2014_x86_64.whl.metadata (1.5 kB)\n",
            "Collecting nvidia-cuda-cupti-cu12==12.4.127 (from torch>=1.8.0->ultralytics)\n",
            "  Downloading nvidia_cuda_cupti_cu12-12.4.127-py3-none-manylinux2014_x86_64.whl.metadata (1.6 kB)\n",
            "Collecting nvidia-cudnn-cu12==9.1.0.70 (from torch>=1.8.0->ultralytics)\n",
            "  Downloading nvidia_cudnn_cu12-9.1.0.70-py3-none-manylinux2014_x86_64.whl.metadata (1.6 kB)\n",
            "Collecting nvidia-cublas-cu12==12.4.5.8 (from torch>=1.8.0->ultralytics)\n",
            "  Downloading nvidia_cublas_cu12-12.4.5.8-py3-none-manylinux2014_x86_64.whl.metadata (1.5 kB)\n",
            "Collecting nvidia-cufft-cu12==11.2.1.3 (from torch>=1.8.0->ultralytics)\n",
            "  Downloading nvidia_cufft_cu12-11.2.1.3-py3-none-manylinux2014_x86_64.whl.metadata (1.5 kB)\n",
            "Collecting nvidia-curand-cu12==10.3.5.147 (from torch>=1.8.0->ultralytics)\n",
            "  Downloading nvidia_curand_cu12-10.3.5.147-py3-none-manylinux2014_x86_64.whl.metadata (1.5 kB)\n",
            "Collecting nvidia-cusolver-cu12==11.6.1.9 (from torch>=1.8.0->ultralytics)\n",
            "  Downloading nvidia_cusolver_cu12-11.6.1.9-py3-none-manylinux2014_x86_64.whl.metadata (1.6 kB)\n",
            "Collecting nvidia-cusparse-cu12==12.3.1.170 (from torch>=1.8.0->ultralytics)\n",
            "  Downloading nvidia_cusparse_cu12-12.3.1.170-py3-none-manylinux2014_x86_64.whl.metadata (1.6 kB)\n",
            "Requirement already satisfied: nvidia-cusparselt-cu12==0.6.2 in /usr/local/lib/python3.11/dist-packages (from torch>=1.8.0->ultralytics) (0.6.2)\n",
            "Requirement already satisfied: nvidia-nccl-cu12==2.21.5 in /usr/local/lib/python3.11/dist-packages (from torch>=1.8.0->ultralytics) (2.21.5)\n",
            "Requirement already satisfied: nvidia-nvtx-cu12==12.4.127 in /usr/local/lib/python3.11/dist-packages (from torch>=1.8.0->ultralytics) (12.4.127)\n",
            "Collecting nvidia-nvjitlink-cu12==12.4.127 (from torch>=1.8.0->ultralytics)\n",
            "  Downloading nvidia_nvjitlink_cu12-12.4.127-py3-none-manylinux2014_x86_64.whl.metadata (1.5 kB)\n",
            "Requirement already satisfied: triton==3.2.0 in /usr/local/lib/python3.11/dist-packages (from torch>=1.8.0->ultralytics) (3.2.0)\n",
            "Requirement already satisfied: sympy==1.13.1 in /usr/local/lib/python3.11/dist-packages (from torch>=1.8.0->ultralytics) (1.13.1)\n",
            "Requirement already satisfied: mpmath<1.4,>=1.1.0 in /usr/local/lib/python3.11/dist-packages (from sympy==1.13.1->torch>=1.8.0->ultralytics) (1.3.0)\n",
            "Requirement already satisfied: MarkupSafe>=2.0 in /usr/local/lib/python3.11/dist-packages (from jinja2->torch>=1.8.0->ultralytics) (3.0.2)\n",
            "Downloading ultralytics-8.3.159-py3-none-any.whl (1.0 MB)\n",
            "\u001b[2K   \u001b[90m━━━━━━━━━━━━━━━━━━━━━━━━━━━━━━━━━━━━━━━━\u001b[0m \u001b[32m1.0/1.0 MB\u001b[0m \u001b[31m18.9 MB/s\u001b[0m eta \u001b[36m0:00:00\u001b[0m\n",
            "\u001b[?25hDownloading nvidia_cublas_cu12-12.4.5.8-py3-none-manylinux2014_x86_64.whl (363.4 MB)\n",
            "\u001b[2K   \u001b[90m━━━━━━━━━━━━━━━━━━━━━━━━━━━━━━━━━━━━━━━━\u001b[0m \u001b[32m363.4/363.4 MB\u001b[0m \u001b[31m2.5 MB/s\u001b[0m eta \u001b[36m0:00:00\u001b[0m\n",
            "\u001b[?25hDownloading nvidia_cuda_cupti_cu12-12.4.127-py3-none-manylinux2014_x86_64.whl (13.8 MB)\n",
            "\u001b[2K   \u001b[90m━━━━━━━━━━━━━━━━━━━━━━━━━━━━━━━━━━━━━━━━\u001b[0m \u001b[32m13.8/13.8 MB\u001b[0m \u001b[31m126.9 MB/s\u001b[0m eta \u001b[36m0:00:00\u001b[0m\n",
            "\u001b[?25hDownloading nvidia_cuda_nvrtc_cu12-12.4.127-py3-none-manylinux2014_x86_64.whl (24.6 MB)\n",
            "\u001b[2K   \u001b[90m━━━━━━━━━━━━━━━━━━━━━━━━━━━━━━━━━━━━━━━━\u001b[0m \u001b[32m24.6/24.6 MB\u001b[0m \u001b[31m100.5 MB/s\u001b[0m eta \u001b[36m0:00:00\u001b[0m\n",
            "\u001b[?25hDownloading nvidia_cuda_runtime_cu12-12.4.127-py3-none-manylinux2014_x86_64.whl (883 kB)\n",
            "\u001b[2K   \u001b[90m━━━━━━━━━━━━━━━━━━━━━━━━━━━━━━━━━━━━━━━━\u001b[0m \u001b[32m883.7/883.7 kB\u001b[0m \u001b[31m55.2 MB/s\u001b[0m eta \u001b[36m0:00:00\u001b[0m\n",
            "\u001b[?25hDownloading nvidia_cudnn_cu12-9.1.0.70-py3-none-manylinux2014_x86_64.whl (664.8 MB)\n",
            "\u001b[2K   \u001b[90m━━━━━━━━━━━━━━━━━━━━━━━━━━━━━━━━━━━━━━━━\u001b[0m \u001b[32m664.8/664.8 MB\u001b[0m \u001b[31m1.3 MB/s\u001b[0m eta \u001b[36m0:00:00\u001b[0m\n",
            "\u001b[?25hDownloading nvidia_cufft_cu12-11.2.1.3-py3-none-manylinux2014_x86_64.whl (211.5 MB)\n",
            "\u001b[2K   \u001b[90m━━━━━━━━━━━━━━━━━━━━━━━━━━━━━━━━━━━━━━━━\u001b[0m \u001b[32m211.5/211.5 MB\u001b[0m \u001b[31m9.7 MB/s\u001b[0m eta \u001b[36m0:00:00\u001b[0m\n",
            "\u001b[?25hDownloading nvidia_curand_cu12-10.3.5.147-py3-none-manylinux2014_x86_64.whl (56.3 MB)\n",
            "\u001b[2K   \u001b[90m━━━━━━━━━━━━━━━━━━━━━━━━━━━━━━━━━━━━━━━━\u001b[0m \u001b[32m56.3/56.3 MB\u001b[0m \u001b[31m35.2 MB/s\u001b[0m eta \u001b[36m0:00:00\u001b[0m\n",
            "\u001b[?25hDownloading nvidia_cusolver_cu12-11.6.1.9-py3-none-manylinux2014_x86_64.whl (127.9 MB)\n",
            "\u001b[2K   \u001b[90m━━━━━━━━━━━━━━━━━━━━━━━━━━━━━━━━━━━━━━━━\u001b[0m \u001b[32m127.9/127.9 MB\u001b[0m \u001b[31m15.6 MB/s\u001b[0m eta \u001b[36m0:00:00\u001b[0m\n",
            "\u001b[?25hDownloading nvidia_cusparse_cu12-12.3.1.170-py3-none-manylinux2014_x86_64.whl (207.5 MB)\n",
            "\u001b[2K   \u001b[90m━━━━━━━━━━━━━━━━━━━━━━━━━━━━━━━━━━━━━━━━\u001b[0m \u001b[32m207.5/207.5 MB\u001b[0m \u001b[31m2.6 MB/s\u001b[0m eta \u001b[36m0:00:00\u001b[0m\n",
            "\u001b[?25hDownloading nvidia_nvjitlink_cu12-12.4.127-py3-none-manylinux2014_x86_64.whl (21.1 MB)\n",
            "\u001b[2K   \u001b[90m━━━━━━━━━━━━━━━━━━━━━━━━━━━━━━━━━━━━━━━━\u001b[0m \u001b[32m21.1/21.1 MB\u001b[0m \u001b[31m64.9 MB/s\u001b[0m eta \u001b[36m0:00:00\u001b[0m\n",
            "\u001b[?25hDownloading ultralytics_thop-2.0.14-py3-none-any.whl (26 kB)\n",
            "Installing collected packages: nvidia-nvjitlink-cu12, nvidia-curand-cu12, nvidia-cufft-cu12, nvidia-cuda-runtime-cu12, nvidia-cuda-nvrtc-cu12, nvidia-cuda-cupti-cu12, nvidia-cublas-cu12, nvidia-cusparse-cu12, nvidia-cudnn-cu12, nvidia-cusolver-cu12, ultralytics-thop, ultralytics\n",
            "  Attempting uninstall: nvidia-nvjitlink-cu12\n",
            "    Found existing installation: nvidia-nvjitlink-cu12 12.5.82\n",
            "    Uninstalling nvidia-nvjitlink-cu12-12.5.82:\n",
            "      Successfully uninstalled nvidia-nvjitlink-cu12-12.5.82\n",
            "  Attempting uninstall: nvidia-curand-cu12\n",
            "    Found existing installation: nvidia-curand-cu12 10.3.6.82\n",
            "    Uninstalling nvidia-curand-cu12-10.3.6.82:\n",
            "      Successfully uninstalled nvidia-curand-cu12-10.3.6.82\n",
            "  Attempting uninstall: nvidia-cufft-cu12\n",
            "    Found existing installation: nvidia-cufft-cu12 11.2.3.61\n",
            "    Uninstalling nvidia-cufft-cu12-11.2.3.61:\n",
            "      Successfully uninstalled nvidia-cufft-cu12-11.2.3.61\n",
            "  Attempting uninstall: nvidia-cuda-runtime-cu12\n",
            "    Found existing installation: nvidia-cuda-runtime-cu12 12.5.82\n",
            "    Uninstalling nvidia-cuda-runtime-cu12-12.5.82:\n",
            "      Successfully uninstalled nvidia-cuda-runtime-cu12-12.5.82\n",
            "  Attempting uninstall: nvidia-cuda-nvrtc-cu12\n",
            "    Found existing installation: nvidia-cuda-nvrtc-cu12 12.5.82\n",
            "    Uninstalling nvidia-cuda-nvrtc-cu12-12.5.82:\n",
            "      Successfully uninstalled nvidia-cuda-nvrtc-cu12-12.5.82\n",
            "  Attempting uninstall: nvidia-cuda-cupti-cu12\n",
            "    Found existing installation: nvidia-cuda-cupti-cu12 12.5.82\n",
            "    Uninstalling nvidia-cuda-cupti-cu12-12.5.82:\n",
            "      Successfully uninstalled nvidia-cuda-cupti-cu12-12.5.82\n",
            "  Attempting uninstall: nvidia-cublas-cu12\n",
            "    Found existing installation: nvidia-cublas-cu12 12.5.3.2\n",
            "    Uninstalling nvidia-cublas-cu12-12.5.3.2:\n",
            "      Successfully uninstalled nvidia-cublas-cu12-12.5.3.2\n",
            "  Attempting uninstall: nvidia-cusparse-cu12\n",
            "    Found existing installation: nvidia-cusparse-cu12 12.5.1.3\n",
            "    Uninstalling nvidia-cusparse-cu12-12.5.1.3:\n",
            "      Successfully uninstalled nvidia-cusparse-cu12-12.5.1.3\n",
            "  Attempting uninstall: nvidia-cudnn-cu12\n",
            "    Found existing installation: nvidia-cudnn-cu12 9.3.0.75\n",
            "    Uninstalling nvidia-cudnn-cu12-9.3.0.75:\n",
            "      Successfully uninstalled nvidia-cudnn-cu12-9.3.0.75\n",
            "  Attempting uninstall: nvidia-cusolver-cu12\n",
            "    Found existing installation: nvidia-cusolver-cu12 11.6.3.83\n",
            "    Uninstalling nvidia-cusolver-cu12-11.6.3.83:\n",
            "      Successfully uninstalled nvidia-cusolver-cu12-11.6.3.83\n",
            "Successfully installed nvidia-cublas-cu12-12.4.5.8 nvidia-cuda-cupti-cu12-12.4.127 nvidia-cuda-nvrtc-cu12-12.4.127 nvidia-cuda-runtime-cu12-12.4.127 nvidia-cudnn-cu12-9.1.0.70 nvidia-cufft-cu12-11.2.1.3 nvidia-curand-cu12-10.3.5.147 nvidia-cusolver-cu12-11.6.1.9 nvidia-cusparse-cu12-12.3.1.170 nvidia-nvjitlink-cu12-12.4.127 ultralytics-8.3.159 ultralytics-thop-2.0.14\n"
          ]
        }
      ]
    },
    {
      "cell_type": "code",
      "source": [
        "# 📌 3. YOLO 불러오기\n",
        "from ultralytics import YOLO\n",
        "import matplotlib.pyplot as plt\n",
        "import seaborn as sns\n",
        "import os\n",
        "\n",
        "# 🔧 경로 설정\n",
        "project_dir = \"/content/drive/MyDrive/cat and dog/cat and dog.v1i.yolov8\"\n",
        "data_yaml = os.path.join(project_dir, \"data.yaml\")\n"
      ],
      "metadata": {
        "colab": {
          "base_uri": "https://localhost:8080/"
        },
        "id": "RFAwNB_p9DxW",
        "outputId": "94133ead-076b-47b3-a056-ec33c18f3e7c"
      },
      "execution_count": 4,
      "outputs": [
        {
          "output_type": "stream",
          "name": "stdout",
          "text": [
            "Creating new Ultralytics Settings v0.0.6 file ✅ \n",
            "View Ultralytics Settings with 'yolo settings' or at '/root/.config/Ultralytics/settings.json'\n",
            "Update Settings with 'yolo settings key=value', i.e. 'yolo settings runs_dir=path/to/dir'. For help see https://docs.ultralytics.com/quickstart/#ultralytics-settings.\n"
          ]
        }
      ]
    },
    {
      "cell_type": "code",
      "source": [
        "# 📌 4. YOLOv8x 모델 로드 및 학습\n",
        "model = YOLO(\"yolov8x.pt\")\n",
        "\n",
        "results = model.train(\n",
        "    data=data_yaml,\n",
        "    epochs=100,\n",
        "    imgsz=640,\n",
        "    batch=16,\n",
        "    project=project_dir,\n",
        "    name=\"yolov8x_results\",\n",
        "    exist_ok=True\n",
        ")\n"
      ],
      "metadata": {
        "colab": {
          "base_uri": "https://localhost:8080/"
        },
        "id": "-ATfAywq9D3D",
        "outputId": "de5d04e4-5f58-4a1f-b56c-5d55eea9f71e"
      },
      "execution_count": 5,
      "outputs": [
        {
          "output_type": "stream",
          "name": "stdout",
          "text": [
            "Downloading https://github.com/ultralytics/assets/releases/download/v8.3.0/yolov8x.pt to 'yolov8x.pt'...\n"
          ]
        },
        {
          "output_type": "stream",
          "name": "stderr",
          "text": [
            "100%|██████████| 131M/131M [00:00<00:00, 227MB/s]\n"
          ]
        },
        {
          "output_type": "stream",
          "name": "stdout",
          "text": [
            "Ultralytics 8.3.159 🚀 Python-3.11.13 torch-2.6.0+cu124 CUDA:0 (NVIDIA A100-SXM4-40GB, 40507MiB)\n",
            "\u001b[34m\u001b[1mengine/trainer: \u001b[0magnostic_nms=False, amp=True, augment=False, auto_augment=randaugment, batch=16, bgr=0.0, box=7.5, cache=False, cfg=None, classes=None, close_mosaic=10, cls=0.5, conf=None, copy_paste=0.0, copy_paste_mode=flip, cos_lr=False, cutmix=0.0, data=/content/drive/MyDrive/cat and dog/cat and dog.v1i.yolov8/data.yaml, degrees=0.0, deterministic=True, device=None, dfl=1.5, dnn=False, dropout=0.0, dynamic=False, embed=None, epochs=100, erasing=0.4, exist_ok=True, fliplr=0.5, flipud=0.0, format=torchscript, fraction=1.0, freeze=None, half=False, hsv_h=0.015, hsv_s=0.7, hsv_v=0.4, imgsz=640, int8=False, iou=0.7, keras=False, kobj=1.0, line_width=None, lr0=0.01, lrf=0.01, mask_ratio=4, max_det=300, mixup=0.0, mode=train, model=yolov8x.pt, momentum=0.937, mosaic=1.0, multi_scale=False, name=yolov8x_results, nbs=64, nms=False, opset=None, optimize=False, optimizer=auto, overlap_mask=True, patience=100, perspective=0.0, plots=True, pose=12.0, pretrained=True, profile=False, project=/content/drive/MyDrive/cat and dog/cat and dog.v1i.yolov8, rect=False, resume=False, retina_masks=False, save=True, save_conf=False, save_crop=False, save_dir=/content/drive/MyDrive/cat and dog/cat and dog.v1i.yolov8/yolov8x_results, save_frames=False, save_json=False, save_period=-1, save_txt=False, scale=0.5, seed=0, shear=0.0, show=False, show_boxes=True, show_conf=True, show_labels=True, simplify=True, single_cls=False, source=None, split=val, stream_buffer=False, task=detect, time=None, tracker=botsort.yaml, translate=0.1, val=True, verbose=True, vid_stride=1, visualize=False, warmup_bias_lr=0.1, warmup_epochs=3.0, warmup_momentum=0.8, weight_decay=0.0005, workers=8, workspace=None\n",
            "Downloading https://ultralytics.com/assets/Arial.ttf to '/root/.config/Ultralytics/Arial.ttf'...\n"
          ]
        },
        {
          "output_type": "stream",
          "name": "stderr",
          "text": [
            "100%|██████████| 755k/755k [00:00<00:00, 14.5MB/s]"
          ]
        },
        {
          "output_type": "stream",
          "name": "stdout",
          "text": [
            "Overriding model.yaml nc=80 with nc=2\n",
            "\n",
            "                   from  n    params  module                                       arguments                     \n",
            "  0                  -1  1      2320  ultralytics.nn.modules.conv.Conv             [3, 80, 3, 2]                 \n",
            "  1                  -1  1    115520  ultralytics.nn.modules.conv.Conv             [80, 160, 3, 2]               \n",
            "  2                  -1  3    436800  ultralytics.nn.modules.block.C2f             [160, 160, 3, True]           \n",
            "  3                  -1  1    461440  ultralytics.nn.modules.conv.Conv             [160, 320, 3, 2]              \n",
            "  4                  -1  6   3281920  ultralytics.nn.modules.block.C2f             [320, 320, 6, True]           \n",
            "  5                  -1  1   1844480  ultralytics.nn.modules.conv.Conv             [320, 640, 3, 2]              \n"
          ]
        },
        {
          "output_type": "stream",
          "name": "stderr",
          "text": [
            "\n"
          ]
        },
        {
          "output_type": "stream",
          "name": "stdout",
          "text": [
            "  6                  -1  6  13117440  ultralytics.nn.modules.block.C2f             [640, 640, 6, True]           \n",
            "  7                  -1  1   3687680  ultralytics.nn.modules.conv.Conv             [640, 640, 3, 2]              \n",
            "  8                  -1  3   6969600  ultralytics.nn.modules.block.C2f             [640, 640, 3, True]           \n",
            "  9                  -1  1   1025920  ultralytics.nn.modules.block.SPPF            [640, 640, 5]                 \n",
            " 10                  -1  1         0  torch.nn.modules.upsampling.Upsample         [None, 2, 'nearest']          \n",
            " 11             [-1, 6]  1         0  ultralytics.nn.modules.conv.Concat           [1]                           \n",
            " 12                  -1  3   7379200  ultralytics.nn.modules.block.C2f             [1280, 640, 3]                \n",
            " 13                  -1  1         0  torch.nn.modules.upsampling.Upsample         [None, 2, 'nearest']          \n",
            " 14             [-1, 4]  1         0  ultralytics.nn.modules.conv.Concat           [1]                           \n",
            " 15                  -1  3   1948800  ultralytics.nn.modules.block.C2f             [960, 320, 3]                 \n",
            " 16                  -1  1    922240  ultralytics.nn.modules.conv.Conv             [320, 320, 3, 2]              \n",
            " 17            [-1, 12]  1         0  ultralytics.nn.modules.conv.Concat           [1]                           \n",
            " 18                  -1  3   7174400  ultralytics.nn.modules.block.C2f             [960, 640, 3]                 \n",
            " 19                  -1  1   3687680  ultralytics.nn.modules.conv.Conv             [640, 640, 3, 2]              \n",
            " 20             [-1, 9]  1         0  ultralytics.nn.modules.conv.Concat           [1]                           \n",
            " 21                  -1  3   7379200  ultralytics.nn.modules.block.C2f             [1280, 640, 3]                \n",
            " 22        [15, 18, 21]  1   8719894  ultralytics.nn.modules.head.Detect           [2, [320, 640, 640]]          \n",
            "Model summary: 209 layers, 68,154,534 parameters, 68,154,518 gradients, 258.1 GFLOPs\n",
            "\n",
            "Transferred 589/595 items from pretrained weights\n",
            "Freezing layer 'model.22.dfl.conv.weight'\n",
            "\u001b[34m\u001b[1mAMP: \u001b[0mrunning Automatic Mixed Precision (AMP) checks...\n",
            "Downloading https://github.com/ultralytics/assets/releases/download/v8.3.0/yolo11n.pt to 'yolo11n.pt'...\n"
          ]
        },
        {
          "output_type": "stream",
          "name": "stderr",
          "text": [
            "100%|██████████| 5.35M/5.35M [00:00<00:00, 64.9MB/s]\n"
          ]
        },
        {
          "output_type": "stream",
          "name": "stdout",
          "text": [
            "\u001b[34m\u001b[1mAMP: \u001b[0mchecks passed ✅\n",
            "\u001b[34m\u001b[1mtrain: \u001b[0mFast image access ✅ (ping: 0.4±0.1 ms, read: 0.1±0.1 MB/s, size: 55.3 KB)\n"
          ]
        },
        {
          "output_type": "stream",
          "name": "stderr",
          "text": [
            "\u001b[34m\u001b[1mtrain: \u001b[0mScanning /content/drive/MyDrive/cat and dog/cat and dog.v1i.yolov8/train/labels... 1400 images, 31 backgrounds, 0 corrupt: 100%|██████████| 1400/1400 [01:26<00:00, 16.13it/s]\n"
          ]
        },
        {
          "output_type": "stream",
          "name": "stdout",
          "text": [
            "\u001b[34m\u001b[1mtrain: \u001b[0mNew cache created: /content/drive/MyDrive/cat and dog/cat and dog.v1i.yolov8/train/labels.cache\n",
            "\u001b[34m\u001b[1malbumentations: \u001b[0mBlur(p=0.01, blur_limit=(3, 7)), MedianBlur(p=0.01, blur_limit=(3, 7)), ToGray(p=0.01, method='weighted_average', num_output_channels=3), CLAHE(p=0.01, clip_limit=(1.0, 4.0), tile_grid_size=(8, 8))\n",
            "\u001b[34m\u001b[1mval: \u001b[0mFast image access ✅ (ping: 0.5±0.1 ms, read: 0.1±0.0 MB/s, size: 38.2 KB)\n"
          ]
        },
        {
          "output_type": "stream",
          "name": "stderr",
          "text": [
            "\u001b[34m\u001b[1mval: \u001b[0mScanning /content/drive/MyDrive/cat and dog/cat and dog.v1i.yolov8/valid/labels... 400 images, 10 backgrounds, 0 corrupt: 100%|██████████| 400/400 [00:21<00:00, 18.84it/s]"
          ]
        },
        {
          "output_type": "stream",
          "name": "stdout",
          "text": [
            "\u001b[34m\u001b[1mval: \u001b[0mNew cache created: /content/drive/MyDrive/cat and dog/cat and dog.v1i.yolov8/valid/labels.cache\n"
          ]
        },
        {
          "output_type": "stream",
          "name": "stderr",
          "text": [
            "\n"
          ]
        },
        {
          "output_type": "stream",
          "name": "stdout",
          "text": [
            "Plotting labels to /content/drive/MyDrive/cat and dog/cat and dog.v1i.yolov8/yolov8x_results/labels.jpg... \n",
            "\u001b[34m\u001b[1moptimizer:\u001b[0m 'optimizer=auto' found, ignoring 'lr0=0.01' and 'momentum=0.937' and determining best 'optimizer', 'lr0' and 'momentum' automatically... \n",
            "\u001b[34m\u001b[1moptimizer:\u001b[0m AdamW(lr=0.001667, momentum=0.9) with parameter groups 97 weight(decay=0.0), 104 weight(decay=0.0005), 103 bias(decay=0.0)\n",
            "Image sizes 640 train, 640 val\n",
            "Using 8 dataloader workers\n",
            "Logging results to \u001b[1m/content/drive/MyDrive/cat and dog/cat and dog.v1i.yolov8/yolov8x_results\u001b[0m\n",
            "Starting training for 100 epochs...\n",
            "\n",
            "      Epoch    GPU_mem   box_loss   cls_loss   dfl_loss  Instances       Size\n"
          ]
        },
        {
          "output_type": "stream",
          "name": "stderr",
          "text": [
            "      1/100      11.5G      1.201      1.837      1.728         22        640: 100%|██████████| 88/88 [00:21<00:00,  4.13it/s]\n",
            "                 Class     Images  Instances      Box(P          R      mAP50  mAP50-95): 100%|██████████| 13/13 [00:03<00:00,  3.51it/s]\n"
          ]
        },
        {
          "output_type": "stream",
          "name": "stdout",
          "text": [
            "                   all        400        419     0.0005     0.0658   0.000275   7.78e-05\n",
            "\n",
            "      Epoch    GPU_mem   box_loss   cls_loss   dfl_loss  Instances       Size\n"
          ]
        },
        {
          "output_type": "stream",
          "name": "stderr",
          "text": [
            "      2/100      13.5G      1.474      1.893      1.915         31        640: 100%|██████████| 88/88 [00:19<00:00,  4.60it/s]\n",
            "                 Class     Images  Instances      Box(P          R      mAP50  mAP50-95): 100%|██████████| 13/13 [00:02<00:00,  4.68it/s]"
          ]
        },
        {
          "output_type": "stream",
          "name": "stdout",
          "text": [
            "                   all        400        419    0.00311      0.208    0.00196   0.000455\n"
          ]
        },
        {
          "output_type": "stream",
          "name": "stderr",
          "text": [
            "\n"
          ]
        },
        {
          "output_type": "stream",
          "name": "stdout",
          "text": [
            "\n",
            "      Epoch    GPU_mem   box_loss   cls_loss   dfl_loss  Instances       Size\n"
          ]
        },
        {
          "output_type": "stream",
          "name": "stderr",
          "text": [
            "      3/100      13.5G      1.483      1.871      1.919         18        640: 100%|██████████| 88/88 [00:23<00:00,  3.74it/s]\n",
            "                 Class     Images  Instances      Box(P          R      mAP50  mAP50-95): 100%|██████████| 13/13 [00:02<00:00,  4.47it/s]"
          ]
        },
        {
          "output_type": "stream",
          "name": "stdout",
          "text": [
            "                   all        400        419      0.366      0.682      0.339      0.161\n"
          ]
        },
        {
          "output_type": "stream",
          "name": "stderr",
          "text": [
            "\n"
          ]
        },
        {
          "output_type": "stream",
          "name": "stdout",
          "text": [
            "\n",
            "      Epoch    GPU_mem   box_loss   cls_loss   dfl_loss  Instances       Size\n"
          ]
        },
        {
          "output_type": "stream",
          "name": "stderr",
          "text": [
            "      4/100      13.6G       1.39      1.822      1.847         26        640: 100%|██████████| 88/88 [00:23<00:00,  3.74it/s]\n",
            "                 Class     Images  Instances      Box(P          R      mAP50  mAP50-95): 100%|██████████| 13/13 [00:02<00:00,  4.57it/s]"
          ]
        },
        {
          "output_type": "stream",
          "name": "stdout",
          "text": [
            "                   all        400        419      0.169      0.395      0.134      0.032\n"
          ]
        },
        {
          "output_type": "stream",
          "name": "stderr",
          "text": [
            "\n"
          ]
        },
        {
          "output_type": "stream",
          "name": "stdout",
          "text": [
            "\n",
            "      Epoch    GPU_mem   box_loss   cls_loss   dfl_loss  Instances       Size\n"
          ]
        },
        {
          "output_type": "stream",
          "name": "stderr",
          "text": [
            "      5/100      13.6G      1.359      1.772      1.825         25        640: 100%|██████████| 88/88 [00:23<00:00,  3.75it/s]\n",
            "                 Class     Images  Instances      Box(P          R      mAP50  mAP50-95): 100%|██████████| 13/13 [00:02<00:00,  4.56it/s]"
          ]
        },
        {
          "output_type": "stream",
          "name": "stdout",
          "text": [
            "                   all        400        419      0.309      0.647      0.348      0.163\n"
          ]
        },
        {
          "output_type": "stream",
          "name": "stderr",
          "text": [
            "\n"
          ]
        },
        {
          "output_type": "stream",
          "name": "stdout",
          "text": [
            "\n",
            "      Epoch    GPU_mem   box_loss   cls_loss   dfl_loss  Instances       Size\n"
          ]
        },
        {
          "output_type": "stream",
          "name": "stderr",
          "text": [
            "      6/100      13.7G      1.326       1.72      1.786         26        640: 100%|██████████| 88/88 [00:23<00:00,  3.74it/s]\n",
            "                 Class     Images  Instances      Box(P          R      mAP50  mAP50-95): 100%|██████████| 13/13 [00:02<00:00,  4.63it/s]"
          ]
        },
        {
          "output_type": "stream",
          "name": "stdout",
          "text": [
            "                   all        400        419      0.403      0.737      0.398      0.199\n"
          ]
        },
        {
          "output_type": "stream",
          "name": "stderr",
          "text": [
            "\n"
          ]
        },
        {
          "output_type": "stream",
          "name": "stdout",
          "text": [
            "\n",
            "      Epoch    GPU_mem   box_loss   cls_loss   dfl_loss  Instances       Size\n"
          ]
        },
        {
          "output_type": "stream",
          "name": "stderr",
          "text": [
            "      7/100      13.7G      1.281        1.7      1.772         20        640: 100%|██████████| 88/88 [00:23<00:00,  3.76it/s]\n",
            "                 Class     Images  Instances      Box(P          R      mAP50  mAP50-95): 100%|██████████| 13/13 [00:02<00:00,  4.53it/s]"
          ]
        },
        {
          "output_type": "stream",
          "name": "stdout",
          "text": [
            "                   all        400        419      0.334      0.675      0.362      0.151\n"
          ]
        },
        {
          "output_type": "stream",
          "name": "stderr",
          "text": [
            "\n"
          ]
        },
        {
          "output_type": "stream",
          "name": "stdout",
          "text": [
            "\n",
            "      Epoch    GPU_mem   box_loss   cls_loss   dfl_loss  Instances       Size\n"
          ]
        },
        {
          "output_type": "stream",
          "name": "stderr",
          "text": [
            "      8/100      14.2G      1.215      1.625      1.714         23        640: 100%|██████████| 88/88 [00:23<00:00,  3.75it/s]\n",
            "                 Class     Images  Instances      Box(P          R      mAP50  mAP50-95): 100%|██████████| 13/13 [00:02<00:00,  4.51it/s]"
          ]
        },
        {
          "output_type": "stream",
          "name": "stdout",
          "text": [
            "                   all        400        419       0.36      0.582      0.308      0.119\n"
          ]
        },
        {
          "output_type": "stream",
          "name": "stderr",
          "text": [
            "\n"
          ]
        },
        {
          "output_type": "stream",
          "name": "stdout",
          "text": [
            "\n",
            "      Epoch    GPU_mem   box_loss   cls_loss   dfl_loss  Instances       Size\n"
          ]
        },
        {
          "output_type": "stream",
          "name": "stderr",
          "text": [
            "      9/100      14.4G      1.191      1.606      1.694         20        640: 100%|██████████| 88/88 [00:23<00:00,  3.75it/s]\n",
            "                 Class     Images  Instances      Box(P          R      mAP50  mAP50-95): 100%|██████████| 13/13 [00:02<00:00,  4.43it/s]"
          ]
        },
        {
          "output_type": "stream",
          "name": "stdout",
          "text": [
            "                   all        400        419      0.402      0.697      0.407      0.215\n"
          ]
        },
        {
          "output_type": "stream",
          "name": "stderr",
          "text": [
            "\n"
          ]
        },
        {
          "output_type": "stream",
          "name": "stdout",
          "text": [
            "\n",
            "      Epoch    GPU_mem   box_loss   cls_loss   dfl_loss  Instances       Size\n"
          ]
        },
        {
          "output_type": "stream",
          "name": "stderr",
          "text": [
            "     10/100      14.9G      1.159      1.594      1.676         21        640: 100%|██████████| 88/88 [00:23<00:00,  3.74it/s]\n",
            "                 Class     Images  Instances      Box(P          R      mAP50  mAP50-95): 100%|██████████| 13/13 [00:02<00:00,  4.57it/s]"
          ]
        },
        {
          "output_type": "stream",
          "name": "stdout",
          "text": [
            "                   all        400        419      0.425      0.734      0.437       0.24\n"
          ]
        },
        {
          "output_type": "stream",
          "name": "stderr",
          "text": [
            "\n"
          ]
        },
        {
          "output_type": "stream",
          "name": "stdout",
          "text": [
            "\n",
            "      Epoch    GPU_mem   box_loss   cls_loss   dfl_loss  Instances       Size\n"
          ]
        },
        {
          "output_type": "stream",
          "name": "stderr",
          "text": [
            "     11/100      15.5G      1.167      1.567      1.668         21        640: 100%|██████████| 88/88 [00:23<00:00,  3.74it/s]\n",
            "                 Class     Images  Instances      Box(P          R      mAP50  mAP50-95): 100%|██████████| 13/13 [00:02<00:00,  4.63it/s]"
          ]
        },
        {
          "output_type": "stream",
          "name": "stdout",
          "text": [
            "                   all        400        419      0.395       0.69      0.399      0.212\n"
          ]
        },
        {
          "output_type": "stream",
          "name": "stderr",
          "text": [
            "\n"
          ]
        },
        {
          "output_type": "stream",
          "name": "stdout",
          "text": [
            "\n",
            "      Epoch    GPU_mem   box_loss   cls_loss   dfl_loss  Instances       Size\n"
          ]
        },
        {
          "output_type": "stream",
          "name": "stderr",
          "text": [
            "     12/100      15.6G      1.159      1.591      1.667         19        640: 100%|██████████| 88/88 [00:23<00:00,  3.72it/s]\n",
            "                 Class     Images  Instances      Box(P          R      mAP50  mAP50-95): 100%|██████████| 13/13 [00:02<00:00,  4.47it/s]"
          ]
        },
        {
          "output_type": "stream",
          "name": "stdout",
          "text": [
            "                   all        400        419      0.406      0.778      0.445       0.25\n"
          ]
        },
        {
          "output_type": "stream",
          "name": "stderr",
          "text": [
            "\n"
          ]
        },
        {
          "output_type": "stream",
          "name": "stdout",
          "text": [
            "\n",
            "      Epoch    GPU_mem   box_loss   cls_loss   dfl_loss  Instances       Size\n"
          ]
        },
        {
          "output_type": "stream",
          "name": "stderr",
          "text": [
            "     13/100      16.1G      1.153       1.54      1.649         26        640: 100%|██████████| 88/88 [00:23<00:00,  3.70it/s]\n",
            "                 Class     Images  Instances      Box(P          R      mAP50  mAP50-95): 100%|██████████| 13/13 [00:02<00:00,  4.62it/s]"
          ]
        },
        {
          "output_type": "stream",
          "name": "stdout",
          "text": [
            "                   all        400        419      0.427      0.821      0.465      0.275\n"
          ]
        },
        {
          "output_type": "stream",
          "name": "stderr",
          "text": [
            "\n"
          ]
        },
        {
          "output_type": "stream",
          "name": "stdout",
          "text": [
            "\n",
            "      Epoch    GPU_mem   box_loss   cls_loss   dfl_loss  Instances       Size\n"
          ]
        },
        {
          "output_type": "stream",
          "name": "stderr",
          "text": [
            "     14/100      16.6G      1.127      1.514      1.644         17        640: 100%|██████████| 88/88 [00:23<00:00,  3.72it/s]\n",
            "                 Class     Images  Instances      Box(P          R      mAP50  mAP50-95): 100%|██████████| 13/13 [00:02<00:00,  4.50it/s]"
          ]
        },
        {
          "output_type": "stream",
          "name": "stdout",
          "text": [
            "                   all        400        419      0.428      0.698      0.437      0.255\n"
          ]
        },
        {
          "output_type": "stream",
          "name": "stderr",
          "text": [
            "\n"
          ]
        },
        {
          "output_type": "stream",
          "name": "stdout",
          "text": [
            "\n",
            "      Epoch    GPU_mem   box_loss   cls_loss   dfl_loss  Instances       Size\n"
          ]
        },
        {
          "output_type": "stream",
          "name": "stderr",
          "text": [
            "     15/100      16.8G      1.103      1.514      1.624         27        640: 100%|██████████| 88/88 [00:18<00:00,  4.66it/s]\n",
            "                 Class     Images  Instances      Box(P          R      mAP50  mAP50-95): 100%|██████████| 13/13 [00:02<00:00,  4.50it/s]"
          ]
        },
        {
          "output_type": "stream",
          "name": "stdout",
          "text": [
            "                   all        400        419      0.468      0.719      0.479      0.281\n"
          ]
        },
        {
          "output_type": "stream",
          "name": "stderr",
          "text": [
            "\n"
          ]
        },
        {
          "output_type": "stream",
          "name": "stdout",
          "text": [
            "\n",
            "      Epoch    GPU_mem   box_loss   cls_loss   dfl_loss  Instances       Size\n"
          ]
        },
        {
          "output_type": "stream",
          "name": "stderr",
          "text": [
            "     16/100      17.2G      1.112      1.499      1.635         24        640: 100%|██████████| 88/88 [00:23<00:00,  3.72it/s]\n",
            "                 Class     Images  Instances      Box(P          R      mAP50  mAP50-95): 100%|██████████| 13/13 [00:02<00:00,  4.55it/s]"
          ]
        },
        {
          "output_type": "stream",
          "name": "stdout",
          "text": [
            "                   all        400        419      0.475      0.725      0.494      0.283\n"
          ]
        },
        {
          "output_type": "stream",
          "name": "stderr",
          "text": [
            "\n"
          ]
        },
        {
          "output_type": "stream",
          "name": "stdout",
          "text": [
            "\n",
            "      Epoch    GPU_mem   box_loss   cls_loss   dfl_loss  Instances       Size\n"
          ]
        },
        {
          "output_type": "stream",
          "name": "stderr",
          "text": [
            "     17/100      17.8G       1.09      1.481      1.605         22        640: 100%|██████████| 88/88 [00:26<00:00,  3.35it/s]\n",
            "                 Class     Images  Instances      Box(P          R      mAP50  mAP50-95): 100%|██████████| 13/13 [00:02<00:00,  4.53it/s]"
          ]
        },
        {
          "output_type": "stream",
          "name": "stdout",
          "text": [
            "                   all        400        419      0.457      0.719      0.473      0.292\n"
          ]
        },
        {
          "output_type": "stream",
          "name": "stderr",
          "text": [
            "\n"
          ]
        },
        {
          "output_type": "stream",
          "name": "stdout",
          "text": [
            "\n",
            "      Epoch    GPU_mem   box_loss   cls_loss   dfl_loss  Instances       Size\n"
          ]
        },
        {
          "output_type": "stream",
          "name": "stderr",
          "text": [
            "     18/100      17.9G      1.044       1.45      1.575         33        640: 100%|██████████| 88/88 [00:23<00:00,  3.76it/s]\n",
            "                 Class     Images  Instances      Box(P          R      mAP50  mAP50-95): 100%|██████████| 13/13 [00:02<00:00,  4.58it/s]"
          ]
        },
        {
          "output_type": "stream",
          "name": "stdout",
          "text": [
            "                   all        400        419      0.466      0.739      0.514      0.299\n"
          ]
        },
        {
          "output_type": "stream",
          "name": "stderr",
          "text": [
            "\n"
          ]
        },
        {
          "output_type": "stream",
          "name": "stdout",
          "text": [
            "\n",
            "      Epoch    GPU_mem   box_loss   cls_loss   dfl_loss  Instances       Size\n"
          ]
        },
        {
          "output_type": "stream",
          "name": "stderr",
          "text": [
            "     19/100      18.4G      1.045      1.465      1.573         24        640: 100%|██████████| 88/88 [00:23<00:00,  3.76it/s]\n",
            "                 Class     Images  Instances      Box(P          R      mAP50  mAP50-95): 100%|██████████| 13/13 [00:02<00:00,  4.37it/s]"
          ]
        },
        {
          "output_type": "stream",
          "name": "stdout",
          "text": [
            "                   all        400        419      0.471      0.694      0.517      0.311\n"
          ]
        },
        {
          "output_type": "stream",
          "name": "stderr",
          "text": [
            "\n"
          ]
        },
        {
          "output_type": "stream",
          "name": "stdout",
          "text": [
            "\n",
            "      Epoch    GPU_mem   box_loss   cls_loss   dfl_loss  Instances       Size\n"
          ]
        },
        {
          "output_type": "stream",
          "name": "stderr",
          "text": [
            "     20/100      18.9G      1.034      1.434      1.574         17        640: 100%|██████████| 88/88 [00:23<00:00,  3.73it/s]\n",
            "                 Class     Images  Instances      Box(P          R      mAP50  mAP50-95): 100%|██████████| 13/13 [00:02<00:00,  4.60it/s]"
          ]
        },
        {
          "output_type": "stream",
          "name": "stdout",
          "text": [
            "                   all        400        419       0.48      0.711      0.497      0.314\n"
          ]
        },
        {
          "output_type": "stream",
          "name": "stderr",
          "text": [
            "\n"
          ]
        },
        {
          "output_type": "stream",
          "name": "stdout",
          "text": [
            "\n",
            "      Epoch    GPU_mem   box_loss   cls_loss   dfl_loss  Instances       Size\n"
          ]
        },
        {
          "output_type": "stream",
          "name": "stderr",
          "text": [
            "     21/100      19.1G      1.044      1.418      1.578         17        640: 100%|██████████| 88/88 [00:25<00:00,  3.52it/s]\n",
            "                 Class     Images  Instances      Box(P          R      mAP50  mAP50-95): 100%|██████████| 13/13 [00:02<00:00,  4.49it/s]"
          ]
        },
        {
          "output_type": "stream",
          "name": "stdout",
          "text": [
            "                   all        400        419      0.485      0.709      0.565      0.319\n"
          ]
        },
        {
          "output_type": "stream",
          "name": "stderr",
          "text": [
            "\n"
          ]
        },
        {
          "output_type": "stream",
          "name": "stdout",
          "text": [
            "\n",
            "      Epoch    GPU_mem   box_loss   cls_loss   dfl_loss  Instances       Size\n"
          ]
        },
        {
          "output_type": "stream",
          "name": "stderr",
          "text": [
            "     22/100      19.6G       1.02      1.408      1.553         21        640: 100%|██████████| 88/88 [00:23<00:00,  3.76it/s]\n",
            "                 Class     Images  Instances      Box(P          R      mAP50  mAP50-95): 100%|██████████| 13/13 [00:02<00:00,  4.40it/s]"
          ]
        },
        {
          "output_type": "stream",
          "name": "stdout",
          "text": [
            "                   all        400        419      0.442      0.738      0.517      0.305\n"
          ]
        },
        {
          "output_type": "stream",
          "name": "stderr",
          "text": [
            "\n"
          ]
        },
        {
          "output_type": "stream",
          "name": "stdout",
          "text": [
            "\n",
            "      Epoch    GPU_mem   box_loss   cls_loss   dfl_loss  Instances       Size\n"
          ]
        },
        {
          "output_type": "stream",
          "name": "stderr",
          "text": [
            "     23/100      20.1G      1.026      1.413      1.571         17        640: 100%|██████████| 88/88 [00:28<00:00,  3.10it/s]\n",
            "                 Class     Images  Instances      Box(P          R      mAP50  mAP50-95): 100%|██████████| 13/13 [00:02<00:00,  4.44it/s]"
          ]
        },
        {
          "output_type": "stream",
          "name": "stdout",
          "text": [
            "                   all        400        419      0.439      0.735      0.532       0.34\n"
          ]
        },
        {
          "output_type": "stream",
          "name": "stderr",
          "text": [
            "\n"
          ]
        },
        {
          "output_type": "stream",
          "name": "stdout",
          "text": [
            "\n",
            "      Epoch    GPU_mem   box_loss   cls_loss   dfl_loss  Instances       Size\n"
          ]
        },
        {
          "output_type": "stream",
          "name": "stderr",
          "text": [
            "     24/100      12.1G      1.009      1.399      1.544         26        640: 100%|██████████| 88/88 [00:23<00:00,  3.75it/s]\n",
            "                 Class     Images  Instances      Box(P          R      mAP50  mAP50-95): 100%|██████████| 13/13 [00:02<00:00,  4.42it/s]"
          ]
        },
        {
          "output_type": "stream",
          "name": "stdout",
          "text": [
            "                   all        400        419        0.5       0.69      0.565      0.341\n"
          ]
        },
        {
          "output_type": "stream",
          "name": "stderr",
          "text": [
            "\n"
          ]
        },
        {
          "output_type": "stream",
          "name": "stdout",
          "text": [
            "\n",
            "      Epoch    GPU_mem   box_loss   cls_loss   dfl_loss  Instances       Size\n"
          ]
        },
        {
          "output_type": "stream",
          "name": "stderr",
          "text": [
            "     25/100      12.3G     0.9748      1.346       1.54         20        640: 100%|██████████| 88/88 [00:23<00:00,  3.72it/s]\n",
            "                 Class     Images  Instances      Box(P          R      mAP50  mAP50-95): 100%|██████████| 13/13 [00:02<00:00,  4.57it/s]"
          ]
        },
        {
          "output_type": "stream",
          "name": "stdout",
          "text": [
            "                   all        400        419      0.515      0.746      0.603      0.379\n"
          ]
        },
        {
          "output_type": "stream",
          "name": "stderr",
          "text": [
            "\n"
          ]
        },
        {
          "output_type": "stream",
          "name": "stdout",
          "text": [
            "\n",
            "      Epoch    GPU_mem   box_loss   cls_loss   dfl_loss  Instances       Size\n"
          ]
        },
        {
          "output_type": "stream",
          "name": "stderr",
          "text": [
            "     26/100      12.7G      0.964      1.331      1.512         17        640: 100%|██████████| 88/88 [00:23<00:00,  3.76it/s]\n",
            "                 Class     Images  Instances      Box(P          R      mAP50  mAP50-95): 100%|██████████| 13/13 [00:02<00:00,  4.58it/s]"
          ]
        },
        {
          "output_type": "stream",
          "name": "stdout",
          "text": [
            "                   all        400        419      0.553      0.771      0.641      0.403\n"
          ]
        },
        {
          "output_type": "stream",
          "name": "stderr",
          "text": [
            "\n"
          ]
        },
        {
          "output_type": "stream",
          "name": "stdout",
          "text": [
            "\n",
            "      Epoch    GPU_mem   box_loss   cls_loss   dfl_loss  Instances       Size\n"
          ]
        },
        {
          "output_type": "stream",
          "name": "stderr",
          "text": [
            "     27/100      13.1G     0.9938      1.355      1.548         18        640: 100%|██████████| 88/88 [00:23<00:00,  3.76it/s]\n",
            "                 Class     Images  Instances      Box(P          R      mAP50  mAP50-95): 100%|██████████| 13/13 [00:02<00:00,  4.56it/s]"
          ]
        },
        {
          "output_type": "stream",
          "name": "stdout",
          "text": [
            "                   all        400        419      0.496      0.724      0.599      0.385\n"
          ]
        },
        {
          "output_type": "stream",
          "name": "stderr",
          "text": [
            "\n"
          ]
        },
        {
          "output_type": "stream",
          "name": "stdout",
          "text": [
            "\n",
            "      Epoch    GPU_mem   box_loss   cls_loss   dfl_loss  Instances       Size\n"
          ]
        },
        {
          "output_type": "stream",
          "name": "stderr",
          "text": [
            "     28/100      13.3G     0.9902      1.356      1.533         20        640: 100%|██████████| 88/88 [00:23<00:00,  3.75it/s]\n",
            "                 Class     Images  Instances      Box(P          R      mAP50  mAP50-95): 100%|██████████| 13/13 [00:03<00:00,  4.24it/s]"
          ]
        },
        {
          "output_type": "stream",
          "name": "stdout",
          "text": [
            "                   all        400        419      0.586      0.746       0.66      0.421\n"
          ]
        },
        {
          "output_type": "stream",
          "name": "stderr",
          "text": [
            "\n"
          ]
        },
        {
          "output_type": "stream",
          "name": "stdout",
          "text": [
            "\n",
            "      Epoch    GPU_mem   box_loss   cls_loss   dfl_loss  Instances       Size\n"
          ]
        },
        {
          "output_type": "stream",
          "name": "stderr",
          "text": [
            "     29/100      13.8G     0.9689      1.297      1.508         19        640: 100%|██████████| 88/88 [00:23<00:00,  3.76it/s]\n",
            "                 Class     Images  Instances      Box(P          R      mAP50  mAP50-95): 100%|██████████| 13/13 [00:02<00:00,  4.58it/s]"
          ]
        },
        {
          "output_type": "stream",
          "name": "stdout",
          "text": [
            "                   all        400        419      0.616      0.676      0.672      0.407\n"
          ]
        },
        {
          "output_type": "stream",
          "name": "stderr",
          "text": [
            "\n"
          ]
        },
        {
          "output_type": "stream",
          "name": "stdout",
          "text": [
            "\n",
            "      Epoch    GPU_mem   box_loss   cls_loss   dfl_loss  Instances       Size\n"
          ]
        },
        {
          "output_type": "stream",
          "name": "stderr",
          "text": [
            "     30/100        14G      0.965      1.292      1.525         24        640: 100%|██████████| 88/88 [00:18<00:00,  4.74it/s]\n",
            "                 Class     Images  Instances      Box(P          R      mAP50  mAP50-95): 100%|██████████| 13/13 [00:02<00:00,  4.60it/s]"
          ]
        },
        {
          "output_type": "stream",
          "name": "stdout",
          "text": [
            "                   all        400        419      0.606      0.686      0.672      0.419\n"
          ]
        },
        {
          "output_type": "stream",
          "name": "stderr",
          "text": [
            "\n"
          ]
        },
        {
          "output_type": "stream",
          "name": "stdout",
          "text": [
            "\n",
            "      Epoch    GPU_mem   box_loss   cls_loss   dfl_loss  Instances       Size\n"
          ]
        },
        {
          "output_type": "stream",
          "name": "stderr",
          "text": [
            "     31/100      14.8G     0.9534      1.308      1.502         25        640: 100%|██████████| 88/88 [00:23<00:00,  3.75it/s]\n",
            "                 Class     Images  Instances      Box(P          R      mAP50  mAP50-95): 100%|██████████| 13/13 [00:02<00:00,  4.48it/s]"
          ]
        },
        {
          "output_type": "stream",
          "name": "stdout",
          "text": [
            "                   all        400        419      0.566      0.767      0.675      0.409\n"
          ]
        },
        {
          "output_type": "stream",
          "name": "stderr",
          "text": [
            "\n"
          ]
        },
        {
          "output_type": "stream",
          "name": "stdout",
          "text": [
            "\n",
            "      Epoch    GPU_mem   box_loss   cls_loss   dfl_loss  Instances       Size\n"
          ]
        },
        {
          "output_type": "stream",
          "name": "stderr",
          "text": [
            "     32/100      14.8G     0.9139      1.295      1.465         26        640: 100%|██████████| 88/88 [00:18<00:00,  4.75it/s]\n",
            "                 Class     Images  Instances      Box(P          R      mAP50  mAP50-95): 100%|██████████| 13/13 [00:02<00:00,  4.48it/s]"
          ]
        },
        {
          "output_type": "stream",
          "name": "stdout",
          "text": [
            "                   all        400        419      0.632      0.733      0.708      0.436\n"
          ]
        },
        {
          "output_type": "stream",
          "name": "stderr",
          "text": [
            "\n"
          ]
        },
        {
          "output_type": "stream",
          "name": "stdout",
          "text": [
            "\n",
            "      Epoch    GPU_mem   box_loss   cls_loss   dfl_loss  Instances       Size\n"
          ]
        },
        {
          "output_type": "stream",
          "name": "stderr",
          "text": [
            "     33/100      15.4G     0.9369       1.29      1.498         25        640: 100%|██████████| 88/88 [00:24<00:00,  3.58it/s]\n",
            "                 Class     Images  Instances      Box(P          R      mAP50  mAP50-95): 100%|██████████| 13/13 [00:02<00:00,  4.60it/s]"
          ]
        },
        {
          "output_type": "stream",
          "name": "stdout",
          "text": [
            "                   all        400        419      0.561      0.768      0.676      0.433\n"
          ]
        },
        {
          "output_type": "stream",
          "name": "stderr",
          "text": [
            "\n"
          ]
        },
        {
          "output_type": "stream",
          "name": "stdout",
          "text": [
            "\n",
            "      Epoch    GPU_mem   box_loss   cls_loss   dfl_loss  Instances       Size\n"
          ]
        },
        {
          "output_type": "stream",
          "name": "stderr",
          "text": [
            "     34/100      15.6G     0.9088      1.266      1.473         23        640: 100%|██████████| 88/88 [00:23<00:00,  3.74it/s]\n",
            "                 Class     Images  Instances      Box(P          R      mAP50  mAP50-95): 100%|██████████| 13/13 [00:02<00:00,  4.59it/s]"
          ]
        },
        {
          "output_type": "stream",
          "name": "stdout",
          "text": [
            "                   all        400        419       0.59      0.764      0.706      0.426\n"
          ]
        },
        {
          "output_type": "stream",
          "name": "stderr",
          "text": [
            "\n"
          ]
        },
        {
          "output_type": "stream",
          "name": "stdout",
          "text": [
            "\n",
            "      Epoch    GPU_mem   box_loss   cls_loss   dfl_loss  Instances       Size\n"
          ]
        },
        {
          "output_type": "stream",
          "name": "stderr",
          "text": [
            "     35/100      16.2G     0.9149      1.243      1.487         32        640: 100%|██████████| 88/88 [00:23<00:00,  3.74it/s]\n",
            "                 Class     Images  Instances      Box(P          R      mAP50  mAP50-95): 100%|██████████| 13/13 [00:02<00:00,  4.46it/s]"
          ]
        },
        {
          "output_type": "stream",
          "name": "stdout",
          "text": [
            "                   all        400        419      0.696      0.741      0.754      0.495\n"
          ]
        },
        {
          "output_type": "stream",
          "name": "stderr",
          "text": [
            "\n"
          ]
        },
        {
          "output_type": "stream",
          "name": "stdout",
          "text": [
            "\n",
            "      Epoch    GPU_mem   box_loss   cls_loss   dfl_loss  Instances       Size\n"
          ]
        },
        {
          "output_type": "stream",
          "name": "stderr",
          "text": [
            "     36/100      16.4G     0.9031      1.225      1.474         20        640: 100%|██████████| 88/88 [00:23<00:00,  3.72it/s]\n",
            "                 Class     Images  Instances      Box(P          R      mAP50  mAP50-95): 100%|██████████| 13/13 [00:02<00:00,  4.65it/s]"
          ]
        },
        {
          "output_type": "stream",
          "name": "stdout",
          "text": [
            "                   all        400        419      0.631       0.76       0.72      0.468\n"
          ]
        },
        {
          "output_type": "stream",
          "name": "stderr",
          "text": [
            "\n"
          ]
        },
        {
          "output_type": "stream",
          "name": "stdout",
          "text": [
            "\n",
            "      Epoch    GPU_mem   box_loss   cls_loss   dfl_loss  Instances       Size\n"
          ]
        },
        {
          "output_type": "stream",
          "name": "stderr",
          "text": [
            "     37/100      16.9G     0.8985      1.207       1.46         22        640: 100%|██████████| 88/88 [00:23<00:00,  3.73it/s]\n",
            "                 Class     Images  Instances      Box(P          R      mAP50  mAP50-95): 100%|██████████| 13/13 [00:02<00:00,  4.49it/s]"
          ]
        },
        {
          "output_type": "stream",
          "name": "stdout",
          "text": [
            "                   all        400        419       0.68      0.753      0.756      0.488\n"
          ]
        },
        {
          "output_type": "stream",
          "name": "stderr",
          "text": [
            "\n"
          ]
        },
        {
          "output_type": "stream",
          "name": "stdout",
          "text": [
            "\n",
            "      Epoch    GPU_mem   box_loss   cls_loss   dfl_loss  Instances       Size\n"
          ]
        },
        {
          "output_type": "stream",
          "name": "stderr",
          "text": [
            "     38/100      17.4G     0.9027      1.215      1.466         25        640: 100%|██████████| 88/88 [00:23<00:00,  3.74it/s]\n",
            "                 Class     Images  Instances      Box(P          R      mAP50  mAP50-95): 100%|██████████| 13/13 [00:02<00:00,  4.56it/s]"
          ]
        },
        {
          "output_type": "stream",
          "name": "stdout",
          "text": [
            "                   all        400        419      0.704      0.757      0.774      0.515\n"
          ]
        },
        {
          "output_type": "stream",
          "name": "stderr",
          "text": [
            "\n"
          ]
        },
        {
          "output_type": "stream",
          "name": "stdout",
          "text": [
            "\n",
            "      Epoch    GPU_mem   box_loss   cls_loss   dfl_loss  Instances       Size\n"
          ]
        },
        {
          "output_type": "stream",
          "name": "stderr",
          "text": [
            "     39/100      17.6G     0.8942      1.178      1.454         25        640: 100%|██████████| 88/88 [00:23<00:00,  3.73it/s]\n",
            "                 Class     Images  Instances      Box(P          R      mAP50  mAP50-95): 100%|██████████| 13/13 [00:02<00:00,  4.55it/s]"
          ]
        },
        {
          "output_type": "stream",
          "name": "stdout",
          "text": [
            "                   all        400        419      0.595      0.756      0.724      0.465\n"
          ]
        },
        {
          "output_type": "stream",
          "name": "stderr",
          "text": [
            "\n"
          ]
        },
        {
          "output_type": "stream",
          "name": "stdout",
          "text": [
            "\n",
            "      Epoch    GPU_mem   box_loss   cls_loss   dfl_loss  Instances       Size\n"
          ]
        },
        {
          "output_type": "stream",
          "name": "stderr",
          "text": [
            "     40/100      18.2G     0.9033      1.201       1.47         23        640: 100%|██████████| 88/88 [00:28<00:00,  3.05it/s]\n",
            "                 Class     Images  Instances      Box(P          R      mAP50  mAP50-95): 100%|██████████| 13/13 [00:02<00:00,  4.56it/s]"
          ]
        },
        {
          "output_type": "stream",
          "name": "stdout",
          "text": [
            "                   all        400        419      0.767      0.738      0.788      0.527\n"
          ]
        },
        {
          "output_type": "stream",
          "name": "stderr",
          "text": [
            "\n"
          ]
        },
        {
          "output_type": "stream",
          "name": "stdout",
          "text": [
            "\n",
            "      Epoch    GPU_mem   box_loss   cls_loss   dfl_loss  Instances       Size\n"
          ]
        },
        {
          "output_type": "stream",
          "name": "stderr",
          "text": [
            "     41/100      18.4G     0.8775      1.165      1.451         25        640: 100%|██████████| 88/88 [00:23<00:00,  3.72it/s]\n",
            "                 Class     Images  Instances      Box(P          R      mAP50  mAP50-95): 100%|██████████| 13/13 [00:02<00:00,  4.57it/s]"
          ]
        },
        {
          "output_type": "stream",
          "name": "stdout",
          "text": [
            "                   all        400        419      0.725       0.77      0.794      0.546\n"
          ]
        },
        {
          "output_type": "stream",
          "name": "stderr",
          "text": [
            "\n"
          ]
        },
        {
          "output_type": "stream",
          "name": "stdout",
          "text": [
            "\n",
            "      Epoch    GPU_mem   box_loss   cls_loss   dfl_loss  Instances       Size\n"
          ]
        },
        {
          "output_type": "stream",
          "name": "stderr",
          "text": [
            "     42/100      18.8G     0.8613       1.15      1.434         22        640: 100%|██████████| 88/88 [00:23<00:00,  3.73it/s]\n",
            "                 Class     Images  Instances      Box(P          R      mAP50  mAP50-95): 100%|██████████| 13/13 [00:02<00:00,  4.49it/s]"
          ]
        },
        {
          "output_type": "stream",
          "name": "stdout",
          "text": [
            "                   all        400        419      0.736      0.683      0.739      0.501\n"
          ]
        },
        {
          "output_type": "stream",
          "name": "stderr",
          "text": [
            "\n"
          ]
        },
        {
          "output_type": "stream",
          "name": "stdout",
          "text": [
            "\n",
            "      Epoch    GPU_mem   box_loss   cls_loss   dfl_loss  Instances       Size\n"
          ]
        },
        {
          "output_type": "stream",
          "name": "stderr",
          "text": [
            "     43/100      19.3G     0.8814      1.179      1.455         19        640: 100%|██████████| 88/88 [00:23<00:00,  3.75it/s]\n",
            "                 Class     Images  Instances      Box(P          R      mAP50  mAP50-95): 100%|██████████| 13/13 [00:02<00:00,  4.50it/s]"
          ]
        },
        {
          "output_type": "stream",
          "name": "stdout",
          "text": [
            "                   all        400        419      0.736      0.719       0.76      0.514\n"
          ]
        },
        {
          "output_type": "stream",
          "name": "stderr",
          "text": [
            "\n"
          ]
        },
        {
          "output_type": "stream",
          "name": "stdout",
          "text": [
            "\n",
            "      Epoch    GPU_mem   box_loss   cls_loss   dfl_loss  Instances       Size\n"
          ]
        },
        {
          "output_type": "stream",
          "name": "stderr",
          "text": [
            "     44/100      19.5G     0.8661      1.131       1.45         23        640: 100%|██████████| 88/88 [00:23<00:00,  3.73it/s]\n",
            "                 Class     Images  Instances      Box(P          R      mAP50  mAP50-95): 100%|██████████| 13/13 [00:02<00:00,  4.44it/s]"
          ]
        },
        {
          "output_type": "stream",
          "name": "stdout",
          "text": [
            "                   all        400        419      0.761      0.766       0.82      0.564\n"
          ]
        },
        {
          "output_type": "stream",
          "name": "stderr",
          "text": [
            "\n"
          ]
        },
        {
          "output_type": "stream",
          "name": "stdout",
          "text": [
            "\n",
            "      Epoch    GPU_mem   box_loss   cls_loss   dfl_loss  Instances       Size\n"
          ]
        },
        {
          "output_type": "stream",
          "name": "stderr",
          "text": [
            "     45/100      20.1G     0.8196      1.132      1.399         23        640: 100%|██████████| 88/88 [00:23<00:00,  3.74it/s]\n",
            "                 Class     Images  Instances      Box(P          R      mAP50  mAP50-95): 100%|██████████| 13/13 [00:02<00:00,  4.65it/s]"
          ]
        },
        {
          "output_type": "stream",
          "name": "stdout",
          "text": [
            "                   all        400        419       0.68      0.751      0.772      0.527\n"
          ]
        },
        {
          "output_type": "stream",
          "name": "stderr",
          "text": [
            "\n"
          ]
        },
        {
          "output_type": "stream",
          "name": "stdout",
          "text": [
            "\n",
            "      Epoch    GPU_mem   box_loss   cls_loss   dfl_loss  Instances       Size\n"
          ]
        },
        {
          "output_type": "stream",
          "name": "stderr",
          "text": [
            "     46/100      12.5G     0.8692      1.134      1.435         16        640: 100%|██████████| 88/88 [00:24<00:00,  3.56it/s]\n",
            "                 Class     Images  Instances      Box(P          R      mAP50  mAP50-95): 100%|██████████| 13/13 [00:02<00:00,  4.48it/s]"
          ]
        },
        {
          "output_type": "stream",
          "name": "stdout",
          "text": [
            "                   all        400        419      0.783      0.736      0.797      0.542\n"
          ]
        },
        {
          "output_type": "stream",
          "name": "stderr",
          "text": [
            "\n"
          ]
        },
        {
          "output_type": "stream",
          "name": "stdout",
          "text": [
            "\n",
            "      Epoch    GPU_mem   box_loss   cls_loss   dfl_loss  Instances       Size\n"
          ]
        },
        {
          "output_type": "stream",
          "name": "stderr",
          "text": [
            "     47/100      12.5G      0.819        1.1      1.413         15        640: 100%|██████████| 88/88 [00:23<00:00,  3.76it/s]\n",
            "                 Class     Images  Instances      Box(P          R      mAP50  mAP50-95): 100%|██████████| 13/13 [00:02<00:00,  4.48it/s]"
          ]
        },
        {
          "output_type": "stream",
          "name": "stdout",
          "text": [
            "                   all        400        419      0.745      0.779      0.807      0.555\n"
          ]
        },
        {
          "output_type": "stream",
          "name": "stderr",
          "text": [
            "\n"
          ]
        },
        {
          "output_type": "stream",
          "name": "stdout",
          "text": [
            "\n",
            "      Epoch    GPU_mem   box_loss   cls_loss   dfl_loss  Instances       Size\n"
          ]
        },
        {
          "output_type": "stream",
          "name": "stderr",
          "text": [
            "     48/100      12.6G      0.829      1.111      1.407         16        640: 100%|██████████| 88/88 [00:23<00:00,  3.74it/s]\n",
            "                 Class     Images  Instances      Box(P          R      mAP50  mAP50-95): 100%|██████████| 13/13 [00:02<00:00,  4.55it/s]"
          ]
        },
        {
          "output_type": "stream",
          "name": "stdout",
          "text": [
            "                   all        400        419      0.734      0.769      0.791      0.536\n"
          ]
        },
        {
          "output_type": "stream",
          "name": "stderr",
          "text": [
            "\n"
          ]
        },
        {
          "output_type": "stream",
          "name": "stdout",
          "text": [
            "\n",
            "      Epoch    GPU_mem   box_loss   cls_loss   dfl_loss  Instances       Size\n"
          ]
        },
        {
          "output_type": "stream",
          "name": "stderr",
          "text": [
            "     49/100        13G     0.8257      1.133      1.411         14        640: 100%|██████████| 88/88 [00:18<00:00,  4.73it/s]\n",
            "                 Class     Images  Instances      Box(P          R      mAP50  mAP50-95): 100%|██████████| 13/13 [00:02<00:00,  4.47it/s]"
          ]
        },
        {
          "output_type": "stream",
          "name": "stdout",
          "text": [
            "                   all        400        419      0.717      0.744       0.79      0.569\n"
          ]
        },
        {
          "output_type": "stream",
          "name": "stderr",
          "text": [
            "\n"
          ]
        },
        {
          "output_type": "stream",
          "name": "stdout",
          "text": [
            "\n",
            "      Epoch    GPU_mem   box_loss   cls_loss   dfl_loss  Instances       Size\n"
          ]
        },
        {
          "output_type": "stream",
          "name": "stderr",
          "text": [
            "     50/100      13.5G     0.8008      1.078      1.399         22        640: 100%|██████████| 88/88 [00:23<00:00,  3.75it/s]\n",
            "                 Class     Images  Instances      Box(P          R      mAP50  mAP50-95): 100%|██████████| 13/13 [00:02<00:00,  4.63it/s]"
          ]
        },
        {
          "output_type": "stream",
          "name": "stdout",
          "text": [
            "                   all        400        419      0.702      0.767      0.784      0.548\n"
          ]
        },
        {
          "output_type": "stream",
          "name": "stderr",
          "text": [
            "\n"
          ]
        },
        {
          "output_type": "stream",
          "name": "stdout",
          "text": [
            "\n",
            "      Epoch    GPU_mem   box_loss   cls_loss   dfl_loss  Instances       Size\n"
          ]
        },
        {
          "output_type": "stream",
          "name": "stderr",
          "text": [
            "     51/100      13.6G     0.7992       1.06       1.39         25        640: 100%|██████████| 88/88 [00:18<00:00,  4.72it/s]\n",
            "                 Class     Images  Instances      Box(P          R      mAP50  mAP50-95): 100%|██████████| 13/13 [00:02<00:00,  4.56it/s]"
          ]
        },
        {
          "output_type": "stream",
          "name": "stdout",
          "text": [
            "                   all        400        419      0.816      0.756       0.85      0.614\n"
          ]
        },
        {
          "output_type": "stream",
          "name": "stderr",
          "text": [
            "\n"
          ]
        },
        {
          "output_type": "stream",
          "name": "stdout",
          "text": [
            "\n",
            "      Epoch    GPU_mem   box_loss   cls_loss   dfl_loss  Instances       Size\n"
          ]
        },
        {
          "output_type": "stream",
          "name": "stderr",
          "text": [
            "     52/100      14.1G     0.7884      1.041      1.376         24        640: 100%|██████████| 88/88 [00:23<00:00,  3.75it/s]\n",
            "                 Class     Images  Instances      Box(P          R      mAP50  mAP50-95): 100%|██████████| 13/13 [00:02<00:00,  4.55it/s]"
          ]
        },
        {
          "output_type": "stream",
          "name": "stdout",
          "text": [
            "                   all        400        419      0.693      0.751      0.782      0.558\n"
          ]
        },
        {
          "output_type": "stream",
          "name": "stderr",
          "text": [
            "\n"
          ]
        },
        {
          "output_type": "stream",
          "name": "stdout",
          "text": [
            "\n",
            "      Epoch    GPU_mem   box_loss   cls_loss   dfl_loss  Instances       Size\n"
          ]
        },
        {
          "output_type": "stream",
          "name": "stderr",
          "text": [
            "     53/100      14.7G     0.8362      1.068      1.406         20        640: 100%|██████████| 88/88 [00:28<00:00,  3.06it/s]\n",
            "                 Class     Images  Instances      Box(P          R      mAP50  mAP50-95): 100%|██████████| 13/13 [00:02<00:00,  4.62it/s]"
          ]
        },
        {
          "output_type": "stream",
          "name": "stdout",
          "text": [
            "                   all        400        419      0.778      0.716       0.79      0.556\n"
          ]
        },
        {
          "output_type": "stream",
          "name": "stderr",
          "text": [
            "\n"
          ]
        },
        {
          "output_type": "stream",
          "name": "stdout",
          "text": [
            "\n",
            "      Epoch    GPU_mem   box_loss   cls_loss   dfl_loss  Instances       Size\n"
          ]
        },
        {
          "output_type": "stream",
          "name": "stderr",
          "text": [
            "     54/100      14.8G     0.8119      1.046      1.393         25        640: 100%|██████████| 88/88 [00:23<00:00,  3.72it/s]\n",
            "                 Class     Images  Instances      Box(P          R      mAP50  mAP50-95): 100%|██████████| 13/13 [00:02<00:00,  4.55it/s]"
          ]
        },
        {
          "output_type": "stream",
          "name": "stdout",
          "text": [
            "                   all        400        419      0.732      0.761      0.814      0.594\n"
          ]
        },
        {
          "output_type": "stream",
          "name": "stderr",
          "text": [
            "\n"
          ]
        },
        {
          "output_type": "stream",
          "name": "stdout",
          "text": [
            "\n",
            "      Epoch    GPU_mem   box_loss   cls_loss   dfl_loss  Instances       Size\n"
          ]
        },
        {
          "output_type": "stream",
          "name": "stderr",
          "text": [
            "     55/100      15.3G     0.7873      1.067      1.378         22        640: 100%|██████████| 88/88 [00:23<00:00,  3.70it/s]\n",
            "                 Class     Images  Instances      Box(P          R      mAP50  mAP50-95): 100%|██████████| 13/13 [00:02<00:00,  4.60it/s]"
          ]
        },
        {
          "output_type": "stream",
          "name": "stdout",
          "text": [
            "                   all        400        419      0.791      0.782       0.84      0.613\n"
          ]
        },
        {
          "output_type": "stream",
          "name": "stderr",
          "text": [
            "\n"
          ]
        },
        {
          "output_type": "stream",
          "name": "stdout",
          "text": [
            "\n",
            "      Epoch    GPU_mem   box_loss   cls_loss   dfl_loss  Instances       Size\n"
          ]
        },
        {
          "output_type": "stream",
          "name": "stderr",
          "text": [
            "     56/100      15.8G     0.7863      1.028      1.373         21        640: 100%|██████████| 88/88 [00:23<00:00,  3.73it/s]\n",
            "                 Class     Images  Instances      Box(P          R      mAP50  mAP50-95): 100%|██████████| 13/13 [00:02<00:00,  4.60it/s]"
          ]
        },
        {
          "output_type": "stream",
          "name": "stdout",
          "text": [
            "                   all        400        419      0.757      0.744      0.821      0.561\n"
          ]
        },
        {
          "output_type": "stream",
          "name": "stderr",
          "text": [
            "\n"
          ]
        },
        {
          "output_type": "stream",
          "name": "stdout",
          "text": [
            "\n",
            "      Epoch    GPU_mem   box_loss   cls_loss   dfl_loss  Instances       Size\n"
          ]
        },
        {
          "output_type": "stream",
          "name": "stderr",
          "text": [
            "     57/100        16G     0.7967      1.024      1.377         19        640: 100%|██████████| 88/88 [00:18<00:00,  4.73it/s]\n",
            "                 Class     Images  Instances      Box(P          R      mAP50  mAP50-95): 100%|██████████| 13/13 [00:02<00:00,  4.61it/s]"
          ]
        },
        {
          "output_type": "stream",
          "name": "stdout",
          "text": [
            "                   all        400        419      0.806      0.725      0.846      0.597\n"
          ]
        },
        {
          "output_type": "stream",
          "name": "stderr",
          "text": [
            "\n"
          ]
        },
        {
          "output_type": "stream",
          "name": "stdout",
          "text": [
            "\n",
            "      Epoch    GPU_mem   box_loss   cls_loss   dfl_loss  Instances       Size\n"
          ]
        },
        {
          "output_type": "stream",
          "name": "stderr",
          "text": [
            "     58/100      16.5G      0.791      1.033      1.382         22        640: 100%|██████████| 88/88 [00:18<00:00,  4.73it/s]\n",
            "                 Class     Images  Instances      Box(P          R      mAP50  mAP50-95): 100%|██████████| 13/13 [00:02<00:00,  4.59it/s]"
          ]
        },
        {
          "output_type": "stream",
          "name": "stdout",
          "text": [
            "                   all        400        419      0.851      0.735      0.855      0.625\n"
          ]
        },
        {
          "output_type": "stream",
          "name": "stderr",
          "text": [
            "\n"
          ]
        },
        {
          "output_type": "stream",
          "name": "stdout",
          "text": [
            "\n",
            "      Epoch    GPU_mem   box_loss   cls_loss   dfl_loss  Instances       Size\n"
          ]
        },
        {
          "output_type": "stream",
          "name": "stderr",
          "text": [
            "     59/100        17G     0.7673      1.007      1.354         22        640: 100%|██████████| 88/88 [00:23<00:00,  3.73it/s]\n",
            "                 Class     Images  Instances      Box(P          R      mAP50  mAP50-95): 100%|██████████| 13/13 [00:02<00:00,  4.57it/s]"
          ]
        },
        {
          "output_type": "stream",
          "name": "stdout",
          "text": [
            "                   all        400        419      0.844      0.769      0.843      0.616\n"
          ]
        },
        {
          "output_type": "stream",
          "name": "stderr",
          "text": [
            "\n"
          ]
        },
        {
          "output_type": "stream",
          "name": "stdout",
          "text": [
            "\n",
            "      Epoch    GPU_mem   box_loss   cls_loss   dfl_loss  Instances       Size\n"
          ]
        },
        {
          "output_type": "stream",
          "name": "stderr",
          "text": [
            "     60/100      17.2G     0.7533     0.9806      1.351         21        640: 100%|██████████| 88/88 [00:23<00:00,  3.74it/s]\n",
            "                 Class     Images  Instances      Box(P          R      mAP50  mAP50-95): 100%|██████████| 13/13 [00:02<00:00,  4.53it/s]"
          ]
        },
        {
          "output_type": "stream",
          "name": "stdout",
          "text": [
            "                   all        400        419      0.825      0.773      0.855      0.622\n"
          ]
        },
        {
          "output_type": "stream",
          "name": "stderr",
          "text": [
            "\n"
          ]
        },
        {
          "output_type": "stream",
          "name": "stdout",
          "text": [
            "\n",
            "      Epoch    GPU_mem   box_loss   cls_loss   dfl_loss  Instances       Size\n"
          ]
        },
        {
          "output_type": "stream",
          "name": "stderr",
          "text": [
            "     61/100      17.8G      0.769       0.99      1.361         19        640: 100%|██████████| 88/88 [00:23<00:00,  3.73it/s]\n",
            "                 Class     Images  Instances      Box(P          R      mAP50  mAP50-95): 100%|██████████| 13/13 [00:02<00:00,  4.44it/s]"
          ]
        },
        {
          "output_type": "stream",
          "name": "stdout",
          "text": [
            "                   all        400        419      0.882      0.772      0.872      0.646\n"
          ]
        },
        {
          "output_type": "stream",
          "name": "stderr",
          "text": [
            "\n"
          ]
        },
        {
          "output_type": "stream",
          "name": "stdout",
          "text": [
            "\n",
            "      Epoch    GPU_mem   box_loss   cls_loss   dfl_loss  Instances       Size\n"
          ]
        },
        {
          "output_type": "stream",
          "name": "stderr",
          "text": [
            "     62/100        18G     0.7568      1.013       1.36         17        640: 100%|██████████| 88/88 [00:23<00:00,  3.71it/s]\n",
            "                 Class     Images  Instances      Box(P          R      mAP50  mAP50-95): 100%|██████████| 13/13 [00:02<00:00,  4.57it/s]"
          ]
        },
        {
          "output_type": "stream",
          "name": "stdout",
          "text": [
            "                   all        400        419      0.781      0.782      0.843      0.628\n"
          ]
        },
        {
          "output_type": "stream",
          "name": "stderr",
          "text": [
            "\n"
          ]
        },
        {
          "output_type": "stream",
          "name": "stdout",
          "text": [
            "\n",
            "      Epoch    GPU_mem   box_loss   cls_loss   dfl_loss  Instances       Size\n"
          ]
        },
        {
          "output_type": "stream",
          "name": "stderr",
          "text": [
            "     63/100      18.4G     0.7421      0.986      1.345         14        640: 100%|██████████| 88/88 [00:23<00:00,  3.71it/s]\n",
            "                 Class     Images  Instances      Box(P          R      mAP50  mAP50-95): 100%|██████████| 13/13 [00:02<00:00,  4.47it/s]"
          ]
        },
        {
          "output_type": "stream",
          "name": "stdout",
          "text": [
            "                   all        400        419       0.76      0.794      0.842      0.615\n"
          ]
        },
        {
          "output_type": "stream",
          "name": "stderr",
          "text": [
            "\n"
          ]
        },
        {
          "output_type": "stream",
          "name": "stdout",
          "text": [
            "\n",
            "      Epoch    GPU_mem   box_loss   cls_loss   dfl_loss  Instances       Size\n"
          ]
        },
        {
          "output_type": "stream",
          "name": "stderr",
          "text": [
            "     64/100      19.1G     0.7549     0.9763      1.362         27        640: 100%|██████████| 88/88 [00:23<00:00,  3.71it/s]\n",
            "                 Class     Images  Instances      Box(P          R      mAP50  mAP50-95): 100%|██████████| 13/13 [00:02<00:00,  4.54it/s]"
          ]
        },
        {
          "output_type": "stream",
          "name": "stdout",
          "text": [
            "                   all        400        419      0.788      0.816      0.846      0.609\n"
          ]
        },
        {
          "output_type": "stream",
          "name": "stderr",
          "text": [
            "\n"
          ]
        },
        {
          "output_type": "stream",
          "name": "stdout",
          "text": [
            "\n",
            "      Epoch    GPU_mem   box_loss   cls_loss   dfl_loss  Instances       Size\n"
          ]
        },
        {
          "output_type": "stream",
          "name": "stderr",
          "text": [
            "     65/100      19.1G     0.7311     0.9643      1.336         27        640: 100%|██████████| 88/88 [00:24<00:00,  3.56it/s]\n",
            "                 Class     Images  Instances      Box(P          R      mAP50  mAP50-95): 100%|██████████| 13/13 [00:02<00:00,  4.51it/s]"
          ]
        },
        {
          "output_type": "stream",
          "name": "stdout",
          "text": [
            "                   all        400        419      0.781      0.839      0.866      0.642\n"
          ]
        },
        {
          "output_type": "stream",
          "name": "stderr",
          "text": [
            "\n"
          ]
        },
        {
          "output_type": "stream",
          "name": "stdout",
          "text": [
            "\n",
            "      Epoch    GPU_mem   box_loss   cls_loss   dfl_loss  Instances       Size\n"
          ]
        },
        {
          "output_type": "stream",
          "name": "stderr",
          "text": [
            "     66/100      19.7G     0.7252      0.941      1.331         15        640: 100%|██████████| 88/88 [00:23<00:00,  3.74it/s]\n",
            "                 Class     Images  Instances      Box(P          R      mAP50  mAP50-95): 100%|██████████| 13/13 [00:02<00:00,  4.52it/s]"
          ]
        },
        {
          "output_type": "stream",
          "name": "stdout",
          "text": [
            "                   all        400        419      0.774      0.799      0.844      0.643\n"
          ]
        },
        {
          "output_type": "stream",
          "name": "stderr",
          "text": [
            "\n"
          ]
        },
        {
          "output_type": "stream",
          "name": "stdout",
          "text": [
            "\n",
            "      Epoch    GPU_mem   box_loss   cls_loss   dfl_loss  Instances       Size\n"
          ]
        },
        {
          "output_type": "stream",
          "name": "stderr",
          "text": [
            "     67/100      19.9G     0.7326     0.9378      1.327         19        640: 100%|██████████| 88/88 [00:23<00:00,  3.75it/s]\n",
            "                 Class     Images  Instances      Box(P          R      mAP50  mAP50-95): 100%|██████████| 13/13 [00:02<00:00,  4.35it/s]"
          ]
        },
        {
          "output_type": "stream",
          "name": "stdout",
          "text": [
            "                   all        400        419      0.767      0.808      0.856      0.639\n"
          ]
        },
        {
          "output_type": "stream",
          "name": "stderr",
          "text": [
            "\n"
          ]
        },
        {
          "output_type": "stream",
          "name": "stdout",
          "text": [
            "\n",
            "      Epoch    GPU_mem   box_loss   cls_loss   dfl_loss  Instances       Size\n"
          ]
        },
        {
          "output_type": "stream",
          "name": "stderr",
          "text": [
            "     68/100      12.4G     0.7245     0.9394       1.32         18        640: 100%|██████████| 88/88 [00:23<00:00,  3.74it/s]\n",
            "                 Class     Images  Instances      Box(P          R      mAP50  mAP50-95): 100%|██████████| 13/13 [00:02<00:00,  4.55it/s]"
          ]
        },
        {
          "output_type": "stream",
          "name": "stdout",
          "text": [
            "                   all        400        419      0.831      0.777      0.855      0.652\n"
          ]
        },
        {
          "output_type": "stream",
          "name": "stderr",
          "text": [
            "\n"
          ]
        },
        {
          "output_type": "stream",
          "name": "stdout",
          "text": [
            "\n",
            "      Epoch    GPU_mem   box_loss   cls_loss   dfl_loss  Instances       Size\n"
          ]
        },
        {
          "output_type": "stream",
          "name": "stderr",
          "text": [
            "     69/100      12.4G     0.7223     0.9252      1.327         21        640: 100%|██████████| 88/88 [00:23<00:00,  3.74it/s]\n",
            "                 Class     Images  Instances      Box(P          R      mAP50  mAP50-95): 100%|██████████| 13/13 [00:02<00:00,  4.59it/s]"
          ]
        },
        {
          "output_type": "stream",
          "name": "stdout",
          "text": [
            "                   all        400        419      0.793      0.838      0.867       0.65\n"
          ]
        },
        {
          "output_type": "stream",
          "name": "stderr",
          "text": [
            "\n"
          ]
        },
        {
          "output_type": "stream",
          "name": "stdout",
          "text": [
            "\n",
            "      Epoch    GPU_mem   box_loss   cls_loss   dfl_loss  Instances       Size\n"
          ]
        },
        {
          "output_type": "stream",
          "name": "stderr",
          "text": [
            "     70/100      12.6G     0.7335     0.9364      1.341         24        640: 100%|██████████| 88/88 [00:23<00:00,  3.72it/s]\n",
            "                 Class     Images  Instances      Box(P          R      mAP50  mAP50-95): 100%|██████████| 13/13 [00:02<00:00,  4.49it/s]"
          ]
        },
        {
          "output_type": "stream",
          "name": "stdout",
          "text": [
            "                   all        400        419      0.832      0.823      0.879      0.663\n"
          ]
        },
        {
          "output_type": "stream",
          "name": "stderr",
          "text": [
            "\n"
          ]
        },
        {
          "output_type": "stream",
          "name": "stdout",
          "text": [
            "\n",
            "      Epoch    GPU_mem   box_loss   cls_loss   dfl_loss  Instances       Size\n"
          ]
        },
        {
          "output_type": "stream",
          "name": "stderr",
          "text": [
            "     71/100      12.9G     0.7169     0.9308      1.312         20        640: 100%|██████████| 88/88 [00:23<00:00,  3.72it/s]\n",
            "                 Class     Images  Instances      Box(P          R      mAP50  mAP50-95): 100%|██████████| 13/13 [00:02<00:00,  4.51it/s]"
          ]
        },
        {
          "output_type": "stream",
          "name": "stdout",
          "text": [
            "                   all        400        419       0.74      0.806      0.852      0.637\n"
          ]
        },
        {
          "output_type": "stream",
          "name": "stderr",
          "text": [
            "\n"
          ]
        },
        {
          "output_type": "stream",
          "name": "stdout",
          "text": [
            "\n",
            "      Epoch    GPU_mem   box_loss   cls_loss   dfl_loss  Instances       Size\n"
          ]
        },
        {
          "output_type": "stream",
          "name": "stderr",
          "text": [
            "     72/100      13.3G     0.7093     0.9159      1.319         24        640: 100%|██████████| 88/88 [00:23<00:00,  3.68it/s]\n",
            "                 Class     Images  Instances      Box(P          R      mAP50  mAP50-95): 100%|██████████| 13/13 [00:02<00:00,  4.67it/s]"
          ]
        },
        {
          "output_type": "stream",
          "name": "stdout",
          "text": [
            "                   all        400        419      0.844      0.796      0.867      0.656\n"
          ]
        },
        {
          "output_type": "stream",
          "name": "stderr",
          "text": [
            "\n"
          ]
        },
        {
          "output_type": "stream",
          "name": "stdout",
          "text": [
            "\n",
            "      Epoch    GPU_mem   box_loss   cls_loss   dfl_loss  Instances       Size\n"
          ]
        },
        {
          "output_type": "stream",
          "name": "stderr",
          "text": [
            "     73/100      13.7G     0.7303     0.9088      1.335         21        640: 100%|██████████| 88/88 [00:23<00:00,  3.72it/s]\n",
            "                 Class     Images  Instances      Box(P          R      mAP50  mAP50-95): 100%|██████████| 13/13 [00:02<00:00,  4.62it/s]"
          ]
        },
        {
          "output_type": "stream",
          "name": "stdout",
          "text": [
            "                   all        400        419       0.85      0.798       0.88      0.674\n"
          ]
        },
        {
          "output_type": "stream",
          "name": "stderr",
          "text": [
            "\n"
          ]
        },
        {
          "output_type": "stream",
          "name": "stdout",
          "text": [
            "\n",
            "      Epoch    GPU_mem   box_loss   cls_loss   dfl_loss  Instances       Size\n"
          ]
        },
        {
          "output_type": "stream",
          "name": "stderr",
          "text": [
            "     74/100      14.3G     0.7116     0.8987      1.324         24        640: 100%|██████████| 88/88 [00:23<00:00,  3.70it/s]\n",
            "                 Class     Images  Instances      Box(P          R      mAP50  mAP50-95): 100%|██████████| 13/13 [00:02<00:00,  4.67it/s]"
          ]
        },
        {
          "output_type": "stream",
          "name": "stdout",
          "text": [
            "                   all        400        419      0.821      0.813      0.887      0.669\n"
          ]
        },
        {
          "output_type": "stream",
          "name": "stderr",
          "text": [
            "\n"
          ]
        },
        {
          "output_type": "stream",
          "name": "stdout",
          "text": [
            "\n",
            "      Epoch    GPU_mem   box_loss   cls_loss   dfl_loss  Instances       Size\n"
          ]
        },
        {
          "output_type": "stream",
          "name": "stderr",
          "text": [
            "     75/100      14.4G     0.7117     0.9144      1.319         23        640: 100%|██████████| 88/88 [00:23<00:00,  3.73it/s]\n",
            "                 Class     Images  Instances      Box(P          R      mAP50  mAP50-95): 100%|██████████| 13/13 [00:02<00:00,  4.46it/s]"
          ]
        },
        {
          "output_type": "stream",
          "name": "stdout",
          "text": [
            "                   all        400        419      0.802      0.791      0.862      0.655\n"
          ]
        },
        {
          "output_type": "stream",
          "name": "stderr",
          "text": [
            "\n"
          ]
        },
        {
          "output_type": "stream",
          "name": "stdout",
          "text": [
            "\n",
            "      Epoch    GPU_mem   box_loss   cls_loss   dfl_loss  Instances       Size\n"
          ]
        },
        {
          "output_type": "stream",
          "name": "stderr",
          "text": [
            "     76/100      14.9G     0.6864     0.8737      1.299         18        640: 100%|██████████| 88/88 [00:23<00:00,  3.71it/s]\n",
            "                 Class     Images  Instances      Box(P          R      mAP50  mAP50-95): 100%|██████████| 13/13 [00:02<00:00,  4.64it/s]"
          ]
        },
        {
          "output_type": "stream",
          "name": "stdout",
          "text": [
            "                   all        400        419      0.843      0.827      0.889      0.682\n"
          ]
        },
        {
          "output_type": "stream",
          "name": "stderr",
          "text": [
            "\n"
          ]
        },
        {
          "output_type": "stream",
          "name": "stdout",
          "text": [
            "\n",
            "      Epoch    GPU_mem   box_loss   cls_loss   dfl_loss  Instances       Size\n"
          ]
        },
        {
          "output_type": "stream",
          "name": "stderr",
          "text": [
            "     77/100      15.5G     0.6935     0.8996      1.301         27        640: 100%|██████████| 88/88 [00:23<00:00,  3.73it/s]\n",
            "                 Class     Images  Instances      Box(P          R      mAP50  mAP50-95): 100%|██████████| 13/13 [00:02<00:00,  4.55it/s]"
          ]
        },
        {
          "output_type": "stream",
          "name": "stdout",
          "text": [
            "                   all        400        419      0.848      0.807      0.878      0.684\n"
          ]
        },
        {
          "output_type": "stream",
          "name": "stderr",
          "text": [
            "\n"
          ]
        },
        {
          "output_type": "stream",
          "name": "stdout",
          "text": [
            "\n",
            "      Epoch    GPU_mem   box_loss   cls_loss   dfl_loss  Instances       Size\n"
          ]
        },
        {
          "output_type": "stream",
          "name": "stderr",
          "text": [
            "     78/100      15.6G     0.6745     0.8608      1.295         30        640: 100%|██████████| 88/88 [00:24<00:00,  3.52it/s]\n",
            "                 Class     Images  Instances      Box(P          R      mAP50  mAP50-95): 100%|██████████| 13/13 [00:02<00:00,  4.65it/s]"
          ]
        },
        {
          "output_type": "stream",
          "name": "stdout",
          "text": [
            "                   all        400        419      0.868      0.793      0.887      0.679\n"
          ]
        },
        {
          "output_type": "stream",
          "name": "stderr",
          "text": [
            "\n"
          ]
        },
        {
          "output_type": "stream",
          "name": "stdout",
          "text": [
            "\n",
            "      Epoch    GPU_mem   box_loss   cls_loss   dfl_loss  Instances       Size\n"
          ]
        },
        {
          "output_type": "stream",
          "name": "stderr",
          "text": [
            "     79/100      16.1G     0.6854     0.8404      1.303         24        640: 100%|██████████| 88/88 [00:23<00:00,  3.73it/s]\n",
            "                 Class     Images  Instances      Box(P          R      mAP50  mAP50-95): 100%|██████████| 13/13 [00:02<00:00,  4.62it/s]"
          ]
        },
        {
          "output_type": "stream",
          "name": "stdout",
          "text": [
            "                   all        400        419       0.83      0.835       0.89      0.687\n"
          ]
        },
        {
          "output_type": "stream",
          "name": "stderr",
          "text": [
            "\n"
          ]
        },
        {
          "output_type": "stream",
          "name": "stdout",
          "text": [
            "\n",
            "      Epoch    GPU_mem   box_loss   cls_loss   dfl_loss  Instances       Size\n"
          ]
        },
        {
          "output_type": "stream",
          "name": "stderr",
          "text": [
            "     80/100      16.6G     0.6786     0.8543      1.304         22        640: 100%|██████████| 88/88 [00:23<00:00,  3.73it/s]\n",
            "                 Class     Images  Instances      Box(P          R      mAP50  mAP50-95): 100%|██████████| 13/13 [00:02<00:00,  4.60it/s]"
          ]
        },
        {
          "output_type": "stream",
          "name": "stdout",
          "text": [
            "                   all        400        419      0.809       0.83      0.881      0.683\n"
          ]
        },
        {
          "output_type": "stream",
          "name": "stderr",
          "text": [
            "\n"
          ]
        },
        {
          "output_type": "stream",
          "name": "stdout",
          "text": [
            "\n",
            "      Epoch    GPU_mem   box_loss   cls_loss   dfl_loss  Instances       Size\n"
          ]
        },
        {
          "output_type": "stream",
          "name": "stderr",
          "text": [
            "     81/100      16.8G     0.6864     0.8524      1.294         22        640: 100%|██████████| 88/88 [00:18<00:00,  4.73it/s]\n",
            "                 Class     Images  Instances      Box(P          R      mAP50  mAP50-95): 100%|██████████| 13/13 [00:02<00:00,  4.46it/s]"
          ]
        },
        {
          "output_type": "stream",
          "name": "stdout",
          "text": [
            "                   all        400        419       0.83      0.806      0.879      0.684\n"
          ]
        },
        {
          "output_type": "stream",
          "name": "stderr",
          "text": [
            "\n"
          ]
        },
        {
          "output_type": "stream",
          "name": "stdout",
          "text": [
            "\n",
            "      Epoch    GPU_mem   box_loss   cls_loss   dfl_loss  Instances       Size\n"
          ]
        },
        {
          "output_type": "stream",
          "name": "stderr",
          "text": [
            "     82/100      17.3G     0.6781     0.8492      1.289         21        640: 100%|██████████| 88/88 [00:23<00:00,  3.73it/s]\n",
            "                 Class     Images  Instances      Box(P          R      mAP50  mAP50-95): 100%|██████████| 13/13 [00:02<00:00,  4.55it/s]"
          ]
        },
        {
          "output_type": "stream",
          "name": "stdout",
          "text": [
            "                   all        400        419      0.845      0.781      0.887      0.679\n"
          ]
        },
        {
          "output_type": "stream",
          "name": "stderr",
          "text": [
            "\n"
          ]
        },
        {
          "output_type": "stream",
          "name": "stdout",
          "text": [
            "\n",
            "      Epoch    GPU_mem   box_loss   cls_loss   dfl_loss  Instances       Size\n"
          ]
        },
        {
          "output_type": "stream",
          "name": "stderr",
          "text": [
            "     83/100      17.8G     0.6527     0.8203      1.273         20        640: 100%|██████████| 88/88 [00:23<00:00,  3.74it/s]\n",
            "                 Class     Images  Instances      Box(P          R      mAP50  mAP50-95): 100%|██████████| 13/13 [00:02<00:00,  4.59it/s]"
          ]
        },
        {
          "output_type": "stream",
          "name": "stdout",
          "text": [
            "                   all        400        419      0.847      0.826      0.895      0.699\n"
          ]
        },
        {
          "output_type": "stream",
          "name": "stderr",
          "text": [
            "\n"
          ]
        },
        {
          "output_type": "stream",
          "name": "stdout",
          "text": [
            "\n",
            "      Epoch    GPU_mem   box_loss   cls_loss   dfl_loss  Instances       Size\n"
          ]
        },
        {
          "output_type": "stream",
          "name": "stderr",
          "text": [
            "     84/100        18G     0.6524     0.8296       1.27         28        640: 100%|██████████| 88/88 [00:23<00:00,  3.74it/s]\n",
            "                 Class     Images  Instances      Box(P          R      mAP50  mAP50-95): 100%|██████████| 13/13 [00:02<00:00,  4.65it/s]"
          ]
        },
        {
          "output_type": "stream",
          "name": "stdout",
          "text": [
            "                   all        400        419      0.855      0.811       0.89      0.696\n"
          ]
        },
        {
          "output_type": "stream",
          "name": "stderr",
          "text": [
            "\n"
          ]
        },
        {
          "output_type": "stream",
          "name": "stdout",
          "text": [
            "\n",
            "      Epoch    GPU_mem   box_loss   cls_loss   dfl_loss  Instances       Size\n"
          ]
        },
        {
          "output_type": "stream",
          "name": "stderr",
          "text": [
            "     85/100      18.4G     0.6696     0.8271      1.285         23        640: 100%|██████████| 88/88 [00:23<00:00,  3.74it/s]\n",
            "                 Class     Images  Instances      Box(P          R      mAP50  mAP50-95): 100%|██████████| 13/13 [00:02<00:00,  4.67it/s]"
          ]
        },
        {
          "output_type": "stream",
          "name": "stdout",
          "text": [
            "                   all        400        419      0.854      0.837      0.891      0.702\n"
          ]
        },
        {
          "output_type": "stream",
          "name": "stderr",
          "text": [
            "\n"
          ]
        },
        {
          "output_type": "stream",
          "name": "stdout",
          "text": [
            "\n",
            "      Epoch    GPU_mem   box_loss   cls_loss   dfl_loss  Instances       Size\n"
          ]
        },
        {
          "output_type": "stream",
          "name": "stderr",
          "text": [
            "     86/100      19.1G      0.656     0.8211       1.28         25        640: 100%|██████████| 88/88 [00:23<00:00,  3.74it/s]\n",
            "                 Class     Images  Instances      Box(P          R      mAP50  mAP50-95): 100%|██████████| 13/13 [00:02<00:00,  4.57it/s]"
          ]
        },
        {
          "output_type": "stream",
          "name": "stdout",
          "text": [
            "                   all        400        419      0.829      0.825      0.886      0.683\n"
          ]
        },
        {
          "output_type": "stream",
          "name": "stderr",
          "text": [
            "\n"
          ]
        },
        {
          "output_type": "stream",
          "name": "stdout",
          "text": [
            "\n",
            "      Epoch    GPU_mem   box_loss   cls_loss   dfl_loss  Instances       Size\n"
          ]
        },
        {
          "output_type": "stream",
          "name": "stderr",
          "text": [
            "     87/100      19.2G     0.6353     0.7934      1.261         16        640: 100%|██████████| 88/88 [00:28<00:00,  3.09it/s]\n",
            "                 Class     Images  Instances      Box(P          R      mAP50  mAP50-95): 100%|██████████| 13/13 [00:02<00:00,  4.35it/s]"
          ]
        },
        {
          "output_type": "stream",
          "name": "stdout",
          "text": [
            "                   all        400        419      0.819      0.849      0.893      0.695\n"
          ]
        },
        {
          "output_type": "stream",
          "name": "stderr",
          "text": [
            "\n"
          ]
        },
        {
          "output_type": "stream",
          "name": "stdout",
          "text": [
            "\n",
            "      Epoch    GPU_mem   box_loss   cls_loss   dfl_loss  Instances       Size\n"
          ]
        },
        {
          "output_type": "stream",
          "name": "stderr",
          "text": [
            "     88/100      19.7G     0.6394     0.7863      1.264         16        640: 100%|██████████| 88/88 [00:23<00:00,  3.76it/s]\n",
            "                 Class     Images  Instances      Box(P          R      mAP50  mAP50-95): 100%|██████████| 13/13 [00:02<00:00,  4.50it/s]"
          ]
        },
        {
          "output_type": "stream",
          "name": "stdout",
          "text": [
            "                   all        400        419      0.811      0.862      0.891      0.699\n"
          ]
        },
        {
          "output_type": "stream",
          "name": "stderr",
          "text": [
            "\n"
          ]
        },
        {
          "output_type": "stream",
          "name": "stdout",
          "text": [
            "\n",
            "      Epoch    GPU_mem   box_loss   cls_loss   dfl_loss  Instances       Size\n"
          ]
        },
        {
          "output_type": "stream",
          "name": "stderr",
          "text": [
            "     89/100        13G     0.6263     0.7708      1.253         29        640: 100%|██████████| 88/88 [00:18<00:00,  4.73it/s]\n",
            "                 Class     Images  Instances      Box(P          R      mAP50  mAP50-95): 100%|██████████| 13/13 [00:02<00:00,  4.61it/s]"
          ]
        },
        {
          "output_type": "stream",
          "name": "stdout",
          "text": [
            "                   all        400        419      0.835      0.832      0.885      0.695\n"
          ]
        },
        {
          "output_type": "stream",
          "name": "stderr",
          "text": [
            "\n"
          ]
        },
        {
          "output_type": "stream",
          "name": "stdout",
          "text": [
            "\n",
            "      Epoch    GPU_mem   box_loss   cls_loss   dfl_loss  Instances       Size\n"
          ]
        },
        {
          "output_type": "stream",
          "name": "stderr",
          "text": [
            "     90/100      14.9G     0.6287     0.7916      1.249         21        640: 100%|██████████| 88/88 [00:23<00:00,  3.77it/s]\n",
            "                 Class     Images  Instances      Box(P          R      mAP50  mAP50-95): 100%|██████████| 13/13 [00:02<00:00,  4.58it/s]"
          ]
        },
        {
          "output_type": "stream",
          "name": "stdout",
          "text": [
            "                   all        400        419      0.869      0.818      0.892      0.694\n"
          ]
        },
        {
          "output_type": "stream",
          "name": "stderr",
          "text": [
            "\n"
          ]
        },
        {
          "output_type": "stream",
          "name": "stdout",
          "text": [
            "Closing dataloader mosaic\n",
            "\u001b[34m\u001b[1malbumentations: \u001b[0mBlur(p=0.01, blur_limit=(3, 7)), MedianBlur(p=0.01, blur_limit=(3, 7)), ToGray(p=0.01, method='weighted_average', num_output_channels=3), CLAHE(p=0.01, clip_limit=(1.0, 4.0), tile_grid_size=(8, 8))\n",
            "\n",
            "      Epoch    GPU_mem   box_loss   cls_loss   dfl_loss  Instances       Size\n"
          ]
        },
        {
          "output_type": "stream",
          "name": "stderr",
          "text": [
            "     91/100      14.9G     0.4916     0.5922      1.263          9        640: 100%|██████████| 88/88 [00:25<00:00,  3.46it/s]\n",
            "                 Class     Images  Instances      Box(P          R      mAP50  mAP50-95): 100%|██████████| 13/13 [00:02<00:00,  4.54it/s]"
          ]
        },
        {
          "output_type": "stream",
          "name": "stdout",
          "text": [
            "                   all        400        419      0.885      0.803      0.898      0.705\n"
          ]
        },
        {
          "output_type": "stream",
          "name": "stderr",
          "text": [
            "\n"
          ]
        },
        {
          "output_type": "stream",
          "name": "stdout",
          "text": [
            "\n",
            "      Epoch    GPU_mem   box_loss   cls_loss   dfl_loss  Instances       Size\n"
          ]
        },
        {
          "output_type": "stream",
          "name": "stderr",
          "text": [
            "     92/100      14.9G     0.4681      0.547      1.225          8        640: 100%|██████████| 88/88 [00:18<00:00,  4.75it/s]\n",
            "                 Class     Images  Instances      Box(P          R      mAP50  mAP50-95): 100%|██████████| 13/13 [00:02<00:00,  4.60it/s]"
          ]
        },
        {
          "output_type": "stream",
          "name": "stdout",
          "text": [
            "                   all        400        419      0.872      0.846      0.898      0.719\n"
          ]
        },
        {
          "output_type": "stream",
          "name": "stderr",
          "text": [
            "\n"
          ]
        },
        {
          "output_type": "stream",
          "name": "stdout",
          "text": [
            "\n",
            "      Epoch    GPU_mem   box_loss   cls_loss   dfl_loss  Instances       Size\n"
          ]
        },
        {
          "output_type": "stream",
          "name": "stderr",
          "text": [
            "     93/100      14.9G     0.4502       0.51      1.211         11        640: 100%|██████████| 88/88 [00:23<00:00,  3.75it/s]\n",
            "                 Class     Images  Instances      Box(P          R      mAP50  mAP50-95): 100%|██████████| 13/13 [00:02<00:00,  4.53it/s]"
          ]
        },
        {
          "output_type": "stream",
          "name": "stdout",
          "text": [
            "                   all        400        419      0.887      0.825      0.909      0.723\n"
          ]
        },
        {
          "output_type": "stream",
          "name": "stderr",
          "text": [
            "\n"
          ]
        },
        {
          "output_type": "stream",
          "name": "stdout",
          "text": [
            "\n",
            "      Epoch    GPU_mem   box_loss   cls_loss   dfl_loss  Instances       Size\n"
          ]
        },
        {
          "output_type": "stream",
          "name": "stderr",
          "text": [
            "     94/100      14.9G     0.4422     0.5267      1.211          8        640: 100%|██████████| 88/88 [00:18<00:00,  4.75it/s]\n",
            "                 Class     Images  Instances      Box(P          R      mAP50  mAP50-95): 100%|██████████| 13/13 [00:02<00:00,  4.66it/s]"
          ]
        },
        {
          "output_type": "stream",
          "name": "stdout",
          "text": [
            "                   all        400        419      0.871       0.84      0.906      0.721\n"
          ]
        },
        {
          "output_type": "stream",
          "name": "stderr",
          "text": [
            "\n"
          ]
        },
        {
          "output_type": "stream",
          "name": "stdout",
          "text": [
            "\n",
            "      Epoch    GPU_mem   box_loss   cls_loss   dfl_loss  Instances       Size\n"
          ]
        },
        {
          "output_type": "stream",
          "name": "stderr",
          "text": [
            "     95/100        15G     0.4367     0.5115      1.203          7        640: 100%|██████████| 88/88 [00:24<00:00,  3.55it/s]\n",
            "                 Class     Images  Instances      Box(P          R      mAP50  mAP50-95): 100%|██████████| 13/13 [00:02<00:00,  4.58it/s]"
          ]
        },
        {
          "output_type": "stream",
          "name": "stdout",
          "text": [
            "                   all        400        419      0.857      0.822      0.901      0.721\n"
          ]
        },
        {
          "output_type": "stream",
          "name": "stderr",
          "text": [
            "\n"
          ]
        },
        {
          "output_type": "stream",
          "name": "stdout",
          "text": [
            "\n",
            "      Epoch    GPU_mem   box_loss   cls_loss   dfl_loss  Instances       Size\n"
          ]
        },
        {
          "output_type": "stream",
          "name": "stderr",
          "text": [
            "     96/100        15G     0.4282     0.4881      1.186          7        640: 100%|██████████| 88/88 [00:18<00:00,  4.75it/s]\n",
            "                 Class     Images  Instances      Box(P          R      mAP50  mAP50-95): 100%|██████████| 13/13 [00:02<00:00,  4.60it/s]"
          ]
        },
        {
          "output_type": "stream",
          "name": "stdout",
          "text": [
            "                   all        400        419      0.864      0.847      0.902       0.73\n"
          ]
        },
        {
          "output_type": "stream",
          "name": "stderr",
          "text": [
            "\n"
          ]
        },
        {
          "output_type": "stream",
          "name": "stdout",
          "text": [
            "\n",
            "      Epoch    GPU_mem   box_loss   cls_loss   dfl_loss  Instances       Size\n"
          ]
        },
        {
          "output_type": "stream",
          "name": "stderr",
          "text": [
            "     97/100      15.1G     0.4222      0.491       1.18          9        640: 100%|██████████| 88/88 [00:18<00:00,  4.74it/s]\n",
            "                 Class     Images  Instances      Box(P          R      mAP50  mAP50-95): 100%|██████████| 13/13 [00:02<00:00,  4.58it/s]"
          ]
        },
        {
          "output_type": "stream",
          "name": "stdout",
          "text": [
            "                   all        400        419      0.828      0.872      0.906      0.736\n"
          ]
        },
        {
          "output_type": "stream",
          "name": "stderr",
          "text": [
            "\n"
          ]
        },
        {
          "output_type": "stream",
          "name": "stdout",
          "text": [
            "\n",
            "      Epoch    GPU_mem   box_loss   cls_loss   dfl_loss  Instances       Size\n"
          ]
        },
        {
          "output_type": "stream",
          "name": "stderr",
          "text": [
            "     98/100      15.1G     0.4236     0.4729      1.195          8        640: 100%|██████████| 88/88 [00:18<00:00,  4.74it/s]\n",
            "                 Class     Images  Instances      Box(P          R      mAP50  mAP50-95): 100%|██████████| 13/13 [00:02<00:00,  4.63it/s]"
          ]
        },
        {
          "output_type": "stream",
          "name": "stdout",
          "text": [
            "                   all        400        419      0.876      0.832      0.907      0.737\n"
          ]
        },
        {
          "output_type": "stream",
          "name": "stderr",
          "text": [
            "\n"
          ]
        },
        {
          "output_type": "stream",
          "name": "stdout",
          "text": [
            "\n",
            "      Epoch    GPU_mem   box_loss   cls_loss   dfl_loss  Instances       Size\n"
          ]
        },
        {
          "output_type": "stream",
          "name": "stderr",
          "text": [
            "     99/100      15.2G     0.4154     0.4642      1.176          8        640: 100%|██████████| 88/88 [00:18<00:00,  4.73it/s]\n",
            "                 Class     Images  Instances      Box(P          R      mAP50  mAP50-95): 100%|██████████| 13/13 [00:02<00:00,  4.63it/s]"
          ]
        },
        {
          "output_type": "stream",
          "name": "stdout",
          "text": [
            "                   all        400        419      0.903      0.821      0.907      0.732\n"
          ]
        },
        {
          "output_type": "stream",
          "name": "stderr",
          "text": [
            "\n"
          ]
        },
        {
          "output_type": "stream",
          "name": "stdout",
          "text": [
            "\n",
            "      Epoch    GPU_mem   box_loss   cls_loss   dfl_loss  Instances       Size\n"
          ]
        },
        {
          "output_type": "stream",
          "name": "stderr",
          "text": [
            "    100/100      15.6G     0.4049     0.4454      1.169          8        640: 100%|██████████| 88/88 [00:18<00:00,  4.75it/s]\n",
            "                 Class     Images  Instances      Box(P          R      mAP50  mAP50-95): 100%|██████████| 13/13 [00:02<00:00,  4.53it/s]"
          ]
        },
        {
          "output_type": "stream",
          "name": "stdout",
          "text": [
            "                   all        400        419      0.878      0.841      0.911      0.738\n"
          ]
        },
        {
          "output_type": "stream",
          "name": "stderr",
          "text": [
            "\n"
          ]
        },
        {
          "output_type": "stream",
          "name": "stdout",
          "text": [
            "\n",
            "100 epochs completed in 0.798 hours.\n",
            "Optimizer stripped from /content/drive/MyDrive/cat and dog/cat and dog.v1i.yolov8/yolov8x_results/weights/last.pt, 136.7MB\n",
            "Optimizer stripped from /content/drive/MyDrive/cat and dog/cat and dog.v1i.yolov8/yolov8x_results/weights/best.pt, 136.7MB\n",
            "\n",
            "Validating /content/drive/MyDrive/cat and dog/cat and dog.v1i.yolov8/yolov8x_results/weights/best.pt...\n",
            "Ultralytics 8.3.159 🚀 Python-3.11.13 torch-2.6.0+cu124 CUDA:0 (NVIDIA A100-SXM4-40GB, 40507MiB)\n",
            "Model summary (fused): 112 layers, 68,125,494 parameters, 0 gradients, 257.4 GFLOPs\n"
          ]
        },
        {
          "output_type": "stream",
          "name": "stderr",
          "text": [
            "                 Class     Images  Instances      Box(P          R      mAP50  mAP50-95): 100%|██████████| 13/13 [00:03<00:00,  3.77it/s]\n"
          ]
        },
        {
          "output_type": "stream",
          "name": "stdout",
          "text": [
            "                   all        400        419      0.879      0.842      0.911      0.738\n",
            "                   cat        202        219      0.915      0.838      0.919      0.718\n",
            "                   dog        189        200      0.842      0.845      0.903      0.758\n",
            "Speed: 0.2ms preprocess, 3.8ms inference, 0.0ms loss, 1.4ms postprocess per image\n",
            "Results saved to \u001b[1m/content/drive/MyDrive/cat and dog/cat and dog.v1i.yolov8/yolov8x_results\u001b[0m\n"
          ]
        }
      ]
    },
    {
      "cell_type": "code",
      "source": [
        "# 📌 5. Test 셋 평가\n",
        "metrics = model.val(split=\"test\")\n",
        "\n",
        "# 🔍 성능 출력\n",
        "print(f\"📌 Precision     : {metrics.box.p.mean():.4f}\")\n",
        "print(f\"📌 Recall        : {metrics.box.r.mean():.4f}\")\n",
        "print(f\"📌 mAP@0.5       : {metrics.box.map50:.4f}\")\n",
        "print(f\"📌 mAP@0.5:0.95  : {metrics.box.map:.4f}\")"
      ],
      "metadata": {
        "colab": {
          "base_uri": "https://localhost:8080/"
        },
        "id": "UuYMPXcT9EIs",
        "outputId": "68710f58-2b5e-4ebe-bf64-1fc49ac5062d"
      },
      "execution_count": 7,
      "outputs": [
        {
          "output_type": "stream",
          "name": "stdout",
          "text": [
            "Ultralytics 8.3.159 🚀 Python-3.11.13 torch-2.6.0+cu124 CUDA:0 (NVIDIA A100-SXM4-40GB, 40507MiB)\n",
            "\u001b[34m\u001b[1mval: \u001b[0mFast image access ✅ (ping: 0.3±0.1 ms, read: 45.5±17.5 MB/s, size: 46.7 KB)\n"
          ]
        },
        {
          "output_type": "stream",
          "name": "stderr",
          "text": [
            "\u001b[34m\u001b[1mval: \u001b[0mScanning /content/drive/MyDrive/cat and dog/cat and dog.v1i.yolov8/test/labels.cache... 200 images, 2 backgrounds, 0 corrupt: 100%|██████████| 200/200 [00:00<?, ?it/s]\n",
            "                 Class     Images  Instances      Box(P          R      mAP50  mAP50-95): 100%|██████████| 13/13 [00:03<00:00,  4.26it/s]\n"
          ]
        },
        {
          "output_type": "stream",
          "name": "stdout",
          "text": [
            "                   all        200        211      0.869      0.849      0.905       0.73\n",
            "                   cat        100        111      0.888      0.783      0.874       0.69\n",
            "                   dog         98        100      0.851      0.914      0.936      0.769\n",
            "Speed: 1.2ms preprocess, 5.7ms inference, 0.0ms loss, 3.3ms postprocess per image\n",
            "Results saved to \u001b[1m/content/drive/MyDrive/cat and dog/cat and dog.v1i.yolov8/yolov8x_results\u001b[0m\n",
            "📌 Precision     : 0.8694\n",
            "📌 Recall        : 0.8488\n",
            "📌 mAP@0.5       : 0.9049\n",
            "📌 mAP@0.5:0.95  : 0.7295\n"
          ]
        }
      ]
    },
    {
      "cell_type": "code",
      "source": [
        "# 📌 6. 성능 시각화\n",
        "metrics_dict = {\n",
        "    \"Precision\": metrics.box.p.mean(),\n",
        "    \"Recall\": metrics.box.r.mean(),\n",
        "    \"mAP@0.5\": metrics.box.map50,\n",
        "    \"mAP@0.5:0.95\": metrics.box.map\n",
        "}\n",
        "\n",
        "plt.figure(figsize=(8, 5))\n",
        "sns.barplot(x=list(metrics_dict.keys()), y=list(metrics_dict.values()), palette=\"Blues_d\")\n",
        "plt.title(\"YOLOv8x 성능 지표 (Test Set 기준)\")\n",
        "plt.ylim(0, 1.0)\n",
        "plt.ylabel(\"Score\")\n",
        "plt.xlabel(\"Metric\")\n",
        "plt.grid(True, linestyle='--', alpha=0.4)\n",
        "plt.tight_layout()\n",
        "plt.show()"
      ],
      "metadata": {
        "colab": {
          "base_uri": "https://localhost:8080/",
          "height": 924
        },
        "id": "6qwzZpd99ESA",
        "outputId": "3a1ccc38-8e72-4b13-ec3f-c2ccac0f17c2"
      },
      "execution_count": 9,
      "outputs": [
        {
          "output_type": "stream",
          "name": "stderr",
          "text": [
            "/tmp/ipython-input-9-216299400.py:16: UserWarning: Glyph 49457 (\\N{HANGUL SYLLABLE SEONG}) missing from font(s) DejaVu Sans.\n",
            "  plt.tight_layout()\n",
            "/tmp/ipython-input-9-216299400.py:16: UserWarning: Glyph 45733 (\\N{HANGUL SYLLABLE NEUNG}) missing from font(s) DejaVu Sans.\n",
            "  plt.tight_layout()\n",
            "/tmp/ipython-input-9-216299400.py:16: UserWarning: Glyph 51648 (\\N{HANGUL SYLLABLE JI}) missing from font(s) DejaVu Sans.\n",
            "  plt.tight_layout()\n",
            "/tmp/ipython-input-9-216299400.py:16: UserWarning: Glyph 54364 (\\N{HANGUL SYLLABLE PYO}) missing from font(s) DejaVu Sans.\n",
            "  plt.tight_layout()\n",
            "/tmp/ipython-input-9-216299400.py:16: UserWarning: Glyph 44592 (\\N{HANGUL SYLLABLE GI}) missing from font(s) DejaVu Sans.\n",
            "  plt.tight_layout()\n",
            "/tmp/ipython-input-9-216299400.py:16: UserWarning: Glyph 51456 (\\N{HANGUL SYLLABLE JUN}) missing from font(s) DejaVu Sans.\n",
            "  plt.tight_layout()\n",
            "/usr/local/lib/python3.11/dist-packages/IPython/core/pylabtools.py:151: UserWarning: Glyph 49457 (\\N{HANGUL SYLLABLE SEONG}) missing from font(s) DejaVu Sans.\n",
            "  fig.canvas.print_figure(bytes_io, **kw)\n",
            "/usr/local/lib/python3.11/dist-packages/IPython/core/pylabtools.py:151: UserWarning: Glyph 45733 (\\N{HANGUL SYLLABLE NEUNG}) missing from font(s) DejaVu Sans.\n",
            "  fig.canvas.print_figure(bytes_io, **kw)\n",
            "/usr/local/lib/python3.11/dist-packages/IPython/core/pylabtools.py:151: UserWarning: Glyph 51648 (\\N{HANGUL SYLLABLE JI}) missing from font(s) DejaVu Sans.\n",
            "  fig.canvas.print_figure(bytes_io, **kw)\n",
            "/usr/local/lib/python3.11/dist-packages/IPython/core/pylabtools.py:151: UserWarning: Glyph 54364 (\\N{HANGUL SYLLABLE PYO}) missing from font(s) DejaVu Sans.\n",
            "  fig.canvas.print_figure(bytes_io, **kw)\n",
            "/usr/local/lib/python3.11/dist-packages/IPython/core/pylabtools.py:151: UserWarning: Glyph 44592 (\\N{HANGUL SYLLABLE GI}) missing from font(s) DejaVu Sans.\n",
            "  fig.canvas.print_figure(bytes_io, **kw)\n",
            "/usr/local/lib/python3.11/dist-packages/IPython/core/pylabtools.py:151: UserWarning: Glyph 51456 (\\N{HANGUL SYLLABLE JUN}) missing from font(s) DejaVu Sans.\n",
            "  fig.canvas.print_figure(bytes_io, **kw)\n"
          ]
        },
        {
          "output_type": "display_data",
          "data": {
            "text/plain": [
              "<Figure size 800x500 with 1 Axes>"
            ],
            "image/png": "[encoded data removed]"
          },
          "metadata": {}
        }
      ]
    },
    {
      "cell_type": "code",
      "source": [
        "# 📌 7. 예측 수행 (선택)\n",
        "# test 이미지에 대해 예측 후 이미지 저장\n",
        "test_image_dir = os.path.join(project_dir, \"test\", \"images\")\n",
        "\n",
        "results = model.predict(\n",
        "    source=test_image_dir,\n",
        "    conf=0.25,\n",
        "    save=True\n",
        ")\n",
        "\n",
        "# 결과는 runs/detect/predict 폴더에 저장됨"
      ],
      "metadata": {
        "colab": {
          "base_uri": "https://localhost:8080/"
        },
        "id": "2M-GKOCg9EYI",
        "outputId": "43af90b2-7aa3-4fde-a30c-f2565a593954"
      },
      "execution_count": 12,
      "outputs": [
        {
          "output_type": "stream",
          "name": "stdout",
          "text": [
            "\n",
            "image 1/200 /content/drive/MyDrive/cat and dog/cat and dog.v1i.yolov8/test/images/cat_4019_jpg.rf.b8343d439375a722f1be68cd90e5f3d6.jpg: 640x640 1 cat, 12.6ms\n",
            "image 2/200 /content/drive/MyDrive/cat and dog/cat and dog.v1i.yolov8/test/images/cat_4023_jpg.rf.c144ae5437bf2aaec68de4bcf237dcfa.jpg: 640x640 1 cat, 12.6ms\n",
            "image 3/200 /content/drive/MyDrive/cat and dog/cat and dog.v1i.yolov8/test/images/cat_4028_jpg.rf.5cf4ca01e84207363e85d0f81f29d419.jpg: 640x640 1 cat, 14.7ms\n",
            "image 4/200 /content/drive/MyDrive/cat and dog/cat and dog.v1i.yolov8/test/images/cat_4043_jpg.rf.d03ce95580498decde145b6f79a7df42.jpg: 640x640 1 cat, 13.0ms\n",
            "image 5/200 /content/drive/MyDrive/cat and dog/cat and dog.v1i.yolov8/test/images/cat_4044_jpg.rf.e87026000696414829a0f75dd25c5704.jpg: 640x640 1 dog, 12.0ms\n",
            "image 6/200 /content/drive/MyDrive/cat and dog/cat and dog.v1i.yolov8/test/images/cat_4047_jpg.rf.1310e646973aea24bba6b3d9a7d4abc5.jpg: 640x640 1 cat, 1 dog, 11.7ms\n",
            "image 7/200 /content/drive/MyDrive/cat and dog/cat and dog.v1i.yolov8/test/images/cat_4057_jpg.rf.2b53370bf2ed46543cf9c17f2d87005d.jpg: 640x640 1 cat, 11.5ms\n",
            "image 8/200 /content/drive/MyDrive/cat and dog/cat and dog.v1i.yolov8/test/images/cat_4064_jpg.rf.b661403802beea341407753ac62aafcd.jpg: 640x640 1 dog, 11.5ms\n",
            "image 9/200 /content/drive/MyDrive/cat and dog/cat and dog.v1i.yolov8/test/images/cat_4067_jpg.rf.436ca558b70d544637e5a5167eb1bf92.jpg: 640x640 1 cat, 11.7ms\n",
            "image 10/200 /content/drive/MyDrive/cat and dog/cat and dog.v1i.yolov8/test/images/cat_4078_jpg.rf.a0a9984fab819d0b0217364fe5af91ec.jpg: 640x640 1 cat, 11.4ms\n",
            "image 11/200 /content/drive/MyDrive/cat and dog/cat and dog.v1i.yolov8/test/images/cat_4081_jpg.rf.bdbf1d34062ccee7daf5a6f638fd40b4.jpg: 640x640 1 cat, 11.8ms\n",
            "image 12/200 /content/drive/MyDrive/cat and dog/cat and dog.v1i.yolov8/test/images/cat_4089_jpg.rf.de36757b605b649a02b5d2e8b4ad68af.jpg: 640x640 2 cats, 11.5ms\n",
            "image 13/200 /content/drive/MyDrive/cat and dog/cat and dog.v1i.yolov8/test/images/cat_4098_jpg.rf.984a234c28efb43a7d9fb64c67a457e6.jpg: 640x640 1 cat, 11.4ms\n",
            "image 14/200 /content/drive/MyDrive/cat and dog/cat and dog.v1i.yolov8/test/images/cat_4106_jpg.rf.1bd71bc18090362fcf7ef5d8d98724c0.jpg: 640x640 1 cat, 11.7ms\n",
            "image 15/200 /content/drive/MyDrive/cat and dog/cat and dog.v1i.yolov8/test/images/cat_4107_jpg.rf.a297d2fbf2437b1820fb3c671a368e42.jpg: 640x640 2 cats, 11.5ms\n",
            "image 16/200 /content/drive/MyDrive/cat and dog/cat and dog.v1i.yolov8/test/images/cat_4126_jpg.rf.011765bc1ba7291d3f806126b36178b0.jpg: 640x640 2 cats, 1 dog, 11.3ms\n",
            "image 17/200 /content/drive/MyDrive/cat and dog/cat and dog.v1i.yolov8/test/images/cat_4171_jpg.rf.f6754b154e3878b3a396745a19995c19.jpg: 640x640 1 cat, 11.4ms\n",
            "image 18/200 /content/drive/MyDrive/cat and dog/cat and dog.v1i.yolov8/test/images/cat_4189_jpg.rf.8fa509baac4d3c2e984904f409997619.jpg: 640x640 1 cat, 11.4ms\n",
            "image 19/200 /content/drive/MyDrive/cat and dog/cat and dog.v1i.yolov8/test/images/cat_4194_jpg.rf.962029bc52cedb30a7411bb93136ebd3.jpg: 640x640 1 cat, 11.6ms\n",
            "image 20/200 /content/drive/MyDrive/cat and dog/cat and dog.v1i.yolov8/test/images/cat_4216_jpg.rf.00d2f0ba6701b63c95d1d8d4b4b2e141.jpg: 640x640 1 cat, 11.4ms\n",
            "image 21/200 /content/drive/MyDrive/cat and dog/cat and dog.v1i.yolov8/test/images/cat_4232_jpg.rf.2bb51c565889bd3a101857c338e68235.jpg: 640x640 1 cat, 11.4ms\n",
            "image 22/200 /content/drive/MyDrive/cat and dog/cat and dog.v1i.yolov8/test/images/cat_4237_jpg.rf.469eca659108b7e3244366d5dbf400dc.jpg: 640x640 1 cat, 12.5ms\n",
            "image 23/200 /content/drive/MyDrive/cat and dog/cat and dog.v1i.yolov8/test/images/cat_4258_jpg.rf.dc6cbf86d891a0a14cfe42513441f2d9.jpg: 640x640 1 cat, 11.8ms\n",
            "image 24/200 /content/drive/MyDrive/cat and dog/cat and dog.v1i.yolov8/test/images/cat_4271_jpg.rf.5d4d445db6cfcd48f32f1a9d703b7aac.jpg: 640x640 1 cat, 11.8ms\n",
            "image 25/200 /content/drive/MyDrive/cat and dog/cat and dog.v1i.yolov8/test/images/cat_4273_jpg.rf.a4e31949f0ab9c6d4eeaf584c02a29e0.jpg: 640x640 1 cat, 11.6ms\n",
            "image 26/200 /content/drive/MyDrive/cat and dog/cat and dog.v1i.yolov8/test/images/cat_4280_jpg.rf.10af9c25a751b900d3c4de2576689f5c.jpg: 640x640 1 cat, 11.4ms\n",
            "image 27/200 /content/drive/MyDrive/cat and dog/cat and dog.v1i.yolov8/test/images/cat_4289_jpg.rf.4896725f8954f6547ea393458d0beb28.jpg: 640x640 2 cats, 11.4ms\n",
            "image 28/200 /content/drive/MyDrive/cat and dog/cat and dog.v1i.yolov8/test/images/cat_4292_jpg.rf.91c2a3161ed402d1c93e6dd24c63ee5c.jpg: 640x640 1 cat, 12.6ms\n",
            "image 29/200 /content/drive/MyDrive/cat and dog/cat and dog.v1i.yolov8/test/images/cat_4300_jpg.rf.51811070b467b023b5a515214a88aa6d.jpg: 640x640 1 cat, 11.7ms\n",
            "image 30/200 /content/drive/MyDrive/cat and dog/cat and dog.v1i.yolov8/test/images/cat_4301_jpg.rf.5785e628f2c189ae55c8379c16cb1b63.jpg: 640x640 1 dog, 11.7ms\n",
            "image 31/200 /content/drive/MyDrive/cat and dog/cat and dog.v1i.yolov8/test/images/cat_4308_jpg.rf.9b724d76940a59cf48196ed69fa12543.jpg: 640x640 1 cat, 1 dog, 12.4ms\n",
            "image 32/200 /content/drive/MyDrive/cat and dog/cat and dog.v1i.yolov8/test/images/cat_4310_jpg.rf.db2b376c734db2ce914d239f8f91e5f8.jpg: 640x640 1 cat, 12.0ms\n",
            "image 33/200 /content/drive/MyDrive/cat and dog/cat and dog.v1i.yolov8/test/images/cat_4325_jpg.rf.dcb7db7b1bc76c1cbd835c689109eb0b.jpg: 640x640 2 cats, 11.9ms\n",
            "image 34/200 /content/drive/MyDrive/cat and dog/cat and dog.v1i.yolov8/test/images/cat_4348_jpg.rf.1d880d83c7df0f44a9a25a6592926c26.jpg: 640x640 1 cat, 11.7ms\n",
            "image 35/200 /content/drive/MyDrive/cat and dog/cat and dog.v1i.yolov8/test/images/cat_4358_jpg.rf.f41300e165cabf46fac91c498e7c38bf.jpg: 640x640 1 cat, 11.8ms\n",
            "image 36/200 /content/drive/MyDrive/cat and dog/cat and dog.v1i.yolov8/test/images/cat_4365_jpg.rf.8db8a33cd32819e21003b0e5fee7fd30.jpg: 640x640 1 cat, 11.5ms\n",
            "image 37/200 /content/drive/MyDrive/cat and dog/cat and dog.v1i.yolov8/test/images/cat_4371_jpg.rf.bc5ec1b0764b49c141e6d1d4bb3fbe15.jpg: 640x640 1 cat, 1 dog, 12.6ms\n",
            "image 38/200 /content/drive/MyDrive/cat and dog/cat and dog.v1i.yolov8/test/images/cat_4393_jpg.rf.26d8f96c811282c78d3f9aa95c3dced7.jpg: 640x640 1 cat, 12.3ms\n",
            "image 39/200 /content/drive/MyDrive/cat and dog/cat and dog.v1i.yolov8/test/images/cat_4394_jpg.rf.c1f5f13f014a574de649955b980edca6.jpg: 640x640 1 cat, 1 dog, 12.1ms\n",
            "image 40/200 /content/drive/MyDrive/cat and dog/cat and dog.v1i.yolov8/test/images/cat_4403_jpg.rf.5af13cdae5d44a30d6cf549325ce30f1.jpg: 640x640 1 cat, 11.6ms\n",
            "image 41/200 /content/drive/MyDrive/cat and dog/cat and dog.v1i.yolov8/test/images/cat_4408_jpg.rf.cb5187c953b3487a13cb141d26fca7da.jpg: 640x640 1 cat, 11.8ms\n",
            "image 42/200 /content/drive/MyDrive/cat and dog/cat and dog.v1i.yolov8/test/images/cat_4416_jpg.rf.56099499a642d9d1733edcdd3f3a9fad.jpg: 640x640 1 cat, 13.2ms\n",
            "image 43/200 /content/drive/MyDrive/cat and dog/cat and dog.v1i.yolov8/test/images/cat_4429_jpg.rf.9525520d01917f0badca793b7befd931.jpg: 640x640 1 cat, 11.8ms\n",
            "image 44/200 /content/drive/MyDrive/cat and dog/cat and dog.v1i.yolov8/test/images/cat_4431_jpg.rf.7b212960ae512d8cac71414426960f2d.jpg: 640x640 1 cat, 11.7ms\n",
            "image 45/200 /content/drive/MyDrive/cat and dog/cat and dog.v1i.yolov8/test/images/cat_4441_jpg.rf.78712441c1b2e39ac770e14e413d98ae.jpg: 640x640 1 dog, 11.4ms\n",
            "image 46/200 /content/drive/MyDrive/cat and dog/cat and dog.v1i.yolov8/test/images/cat_4456_jpg.rf.38dec5a52534950bd88601d7b635016f.jpg: 640x640 1 cat, 11.7ms\n",
            "image 47/200 /content/drive/MyDrive/cat and dog/cat and dog.v1i.yolov8/test/images/cat_4472_jpg.rf.95d403e4c293b7a07e454f0714e5dcef.jpg: 640x640 1 cat, 1 dog, 11.9ms\n",
            "image 48/200 /content/drive/MyDrive/cat and dog/cat and dog.v1i.yolov8/test/images/cat_4479_jpg.rf.fa5f08206ed77f83531f58ef9642cd51.jpg: 640x640 1 cat, 12.1ms\n",
            "image 49/200 /content/drive/MyDrive/cat and dog/cat and dog.v1i.yolov8/test/images/cat_4492_jpg.rf.239ab6d3152e7a60a9110e3f97f35304.jpg: 640x640 1 dog, 11.9ms\n",
            "image 50/200 /content/drive/MyDrive/cat and dog/cat and dog.v1i.yolov8/test/images/cat_4502_jpg.rf.65ecc9806028af69aef2c71ea42ea91b.jpg: 640x640 1 cat, 1 dog, 11.5ms\n",
            "image 51/200 /content/drive/MyDrive/cat and dog/cat and dog.v1i.yolov8/test/images/cat_4503_jpg.rf.c7718e88e6b70cbca8b8ddc0faecf649.jpg: 640x640 1 cat, 11.4ms\n",
            "image 52/200 /content/drive/MyDrive/cat and dog/cat and dog.v1i.yolov8/test/images/cat_4511_jpg.rf.81b52578f1ec3a6ca0c6dfd4d928c64f.jpg: 640x640 1 cat, 11.6ms\n",
            "image 53/200 /content/drive/MyDrive/cat and dog/cat and dog.v1i.yolov8/test/images/cat_4513_jpg.rf.5f55550f4fb777c3fae49bb31d24abc2.jpg: 640x640 1 cat, 11.7ms\n",
            "image 54/200 /content/drive/MyDrive/cat and dog/cat and dog.v1i.yolov8/test/images/cat_4516_jpg.rf.4052b7e55ef53968ad1bb1e2cca2e425.jpg: 640x640 1 cat, 12.0ms\n",
            "image 55/200 /content/drive/MyDrive/cat and dog/cat and dog.v1i.yolov8/test/images/cat_4551_jpg.rf.4de6a34e7f6f915975cb1f3119404f4a.jpg: 640x640 1 cat, 1 dog, 11.9ms\n",
            "image 56/200 /content/drive/MyDrive/cat and dog/cat and dog.v1i.yolov8/test/images/cat_4558_jpg.rf.299c61fc5b85eba18138e97f39c1f921.jpg: 640x640 1 cat, 12.0ms\n",
            "image 57/200 /content/drive/MyDrive/cat and dog/cat and dog.v1i.yolov8/test/images/cat_4569_jpg.rf.1a476b4345a7fcf013dcaf870aa60ba6.jpg: 640x640 1 cat, 12.2ms\n",
            "image 58/200 /content/drive/MyDrive/cat and dog/cat and dog.v1i.yolov8/test/images/cat_4570_jpg.rf.75fdcb2dc749136ee9bb8105ed6d95c0.jpg: 640x640 1 cat, 1 dog, 12.4ms\n",
            "image 59/200 /content/drive/MyDrive/cat and dog/cat and dog.v1i.yolov8/test/images/cat_4575_jpg.rf.9ef52015be0d550d763d113db2d4b40d.jpg: 640x640 2 cats, 12.0ms\n",
            "image 60/200 /content/drive/MyDrive/cat and dog/cat and dog.v1i.yolov8/test/images/cat_4606_jpg.rf.ee971887f07cb999cddc52555220f19c.jpg: 640x640 3 cats, 11.9ms\n",
            "image 61/200 /content/drive/MyDrive/cat and dog/cat and dog.v1i.yolov8/test/images/cat_4617_jpg.rf.182dcf1c1d45c0e96f00f91951ec71b5.jpg: 640x640 1 cat, 12.1ms\n",
            "image 62/200 /content/drive/MyDrive/cat and dog/cat and dog.v1i.yolov8/test/images/cat_4636_jpg.rf.141cfff43f497c419a4bfef30dd5149a.jpg: 640x640 1 cat, 12.1ms\n",
            "image 63/200 /content/drive/MyDrive/cat and dog/cat and dog.v1i.yolov8/test/images/cat_4656_jpg.rf.d3be4ae77ec186a80d896c751bf7053e.jpg: 640x640 1 cat, 12.8ms\n",
            "image 64/200 /content/drive/MyDrive/cat and dog/cat and dog.v1i.yolov8/test/images/cat_4663_jpg.rf.88e0ff458c6eeb88b1ae484fe433f622.jpg: 640x640 1 cat, 12.4ms\n",
            "image 65/200 /content/drive/MyDrive/cat and dog/cat and dog.v1i.yolov8/test/images/cat_4668_jpg.rf.c27c52f728646bc8f8be44e9fcbb30eb.jpg: 640x640 1 cat, 13.2ms\n",
            "image 66/200 /content/drive/MyDrive/cat and dog/cat and dog.v1i.yolov8/test/images/cat_4684_jpg.rf.3c12ad665271238e6d15db511f90cde3.jpg: 640x640 1 cat, 12.7ms\n",
            "image 67/200 /content/drive/MyDrive/cat and dog/cat and dog.v1i.yolov8/test/images/cat_4702_jpg.rf.31ffd8acf639a17d7f12042665ae4a25.jpg: 640x640 1 cat, 11.8ms\n",
            "image 68/200 /content/drive/MyDrive/cat and dog/cat and dog.v1i.yolov8/test/images/cat_4706_jpg.rf.649b5e62e6868f2b09cc9cbd7d06ad2e.jpg: 640x640 1 cat, 12.8ms\n",
            "image 69/200 /content/drive/MyDrive/cat and dog/cat and dog.v1i.yolov8/test/images/cat_4712_jpg.rf.4d9fa97afbca82724aa066829256453d.jpg: 640x640 1 cat, 11.4ms\n",
            "image 70/200 /content/drive/MyDrive/cat and dog/cat and dog.v1i.yolov8/test/images/cat_4719_jpg.rf.0e009985d1579e4f02cd6655f0fc5ba5.jpg: 640x640 1 cat, 11.6ms\n",
            "image 71/200 /content/drive/MyDrive/cat and dog/cat and dog.v1i.yolov8/test/images/cat_4722_jpg.rf.e177d3f2120aaa7cc1bc4cbf2f27e4d8.jpg: 640x640 1 cat, 11.3ms\n",
            "image 72/200 /content/drive/MyDrive/cat and dog/cat and dog.v1i.yolov8/test/images/cat_4734_jpg.rf.5eb9b9c439438daa04ddd720de2ce3bb.jpg: 640x640 4 cats, 1 dog, 13.3ms\n",
            "image 73/200 /content/drive/MyDrive/cat and dog/cat and dog.v1i.yolov8/test/images/cat_4743_jpg.rf.b5045bd5eee25e37f7547cfa6a91fa7a.jpg: 640x640 2 cats, 11.5ms\n",
            "image 74/200 /content/drive/MyDrive/cat and dog/cat and dog.v1i.yolov8/test/images/cat_4753_jpg.rf.87da70af461570d86a733e3c9e9b2fe2.jpg: 640x640 1 cat, 11.5ms\n",
            "image 75/200 /content/drive/MyDrive/cat and dog/cat and dog.v1i.yolov8/test/images/cat_4759_jpg.rf.213aefd78e1be4a01c1ac3b9c2bae256.jpg: 640x640 1 cat, 11.3ms\n",
            "image 76/200 /content/drive/MyDrive/cat and dog/cat and dog.v1i.yolov8/test/images/cat_4763_jpg.rf.bb97e007ab21eea343e57022628d974a.jpg: 640x640 1 cat, 11.3ms\n",
            "image 77/200 /content/drive/MyDrive/cat and dog/cat and dog.v1i.yolov8/test/images/cat_4764_jpg.rf.c535877bc2f79118d1e1d0907307f4b8.jpg: 640x640 1 cat, 11.5ms\n",
            "image 78/200 /content/drive/MyDrive/cat and dog/cat and dog.v1i.yolov8/test/images/cat_4767_jpg.rf.dc6349293b0e422e1abd9d44ed8c889b.jpg: 640x640 1 cat, 1 dog, 11.4ms\n",
            "image 79/200 /content/drive/MyDrive/cat and dog/cat and dog.v1i.yolov8/test/images/cat_4771_jpg.rf.ccea66123e69c4dc1af59c446c5064fb.jpg: 640x640 1 cat, 1 dog, 11.5ms\n",
            "image 80/200 /content/drive/MyDrive/cat and dog/cat and dog.v1i.yolov8/test/images/cat_4773_jpg.rf.7a187fed1d730930b71ca8be81624f11.jpg: 640x640 1 cat, 11.6ms\n",
            "image 81/200 /content/drive/MyDrive/cat and dog/cat and dog.v1i.yolov8/test/images/cat_4777_jpg.rf.70f748c1f5748aea83872f13d96174ee.jpg: 640x640 1 cat, 11.5ms\n",
            "image 82/200 /content/drive/MyDrive/cat and dog/cat and dog.v1i.yolov8/test/images/cat_4796_jpg.rf.65b89e0c497d8474a9ec4d58167fe2b1.jpg: 640x640 1 cat, 11.3ms\n",
            "image 83/200 /content/drive/MyDrive/cat and dog/cat and dog.v1i.yolov8/test/images/cat_4821_jpg.rf.38e3ddb78f39dc6f9a4688389d62b40a.jpg: 640x640 1 cat, 11.3ms\n",
            "image 84/200 /content/drive/MyDrive/cat and dog/cat and dog.v1i.yolov8/test/images/cat_4840_jpg.rf.42e91dcd34302a58dd7fdbad4ece5ca7.jpg: 640x640 1 cat, 11.3ms\n",
            "image 85/200 /content/drive/MyDrive/cat and dog/cat and dog.v1i.yolov8/test/images/cat_4841_jpg.rf.6e04b8f35bdcfbbbdfaf4379a5cfeca7.jpg: 640x640 (no detections), 11.2ms\n",
            "image 86/200 /content/drive/MyDrive/cat and dog/cat and dog.v1i.yolov8/test/images/cat_4846_jpg.rf.30826214d77f71de876b52685941bbf1.jpg: 640x640 1 dog, 11.7ms\n",
            "image 87/200 /content/drive/MyDrive/cat and dog/cat and dog.v1i.yolov8/test/images/cat_4879_jpg.rf.a6625e37b9a59ca6e5033f7019b9247d.jpg: 640x640 1 cat, 11.7ms\n",
            "image 88/200 /content/drive/MyDrive/cat and dog/cat and dog.v1i.yolov8/test/images/cat_4881_jpg.rf.02437d6b19eb7a82bea7c50722733673.jpg: 640x640 2 cats, 11.2ms\n",
            "image 89/200 /content/drive/MyDrive/cat and dog/cat and dog.v1i.yolov8/test/images/cat_4899_jpg.rf.865cb0add90e27d0e3fdba6ee868cb21.jpg: 640x640 1 cat, 11.1ms\n",
            "image 90/200 /content/drive/MyDrive/cat and dog/cat and dog.v1i.yolov8/test/images/cat_4919_jpg.rf.d8265ef0c77d23c58ac7e312e7d7a33d.jpg: 640x640 1 cat, 13.5ms\n",
            "image 91/200 /content/drive/MyDrive/cat and dog/cat and dog.v1i.yolov8/test/images/cat_4931_jpg.rf.9c408e5d78720e76e886419231db77c7.jpg: 640x640 1 cat, 12.3ms\n",
            "image 92/200 /content/drive/MyDrive/cat and dog/cat and dog.v1i.yolov8/test/images/cat_4936_jpg.rf.35f26def5fa0f9c6d20a06d0f7236bec.jpg: 640x640 1 cat, 11.8ms\n",
            "image 93/200 /content/drive/MyDrive/cat and dog/cat and dog.v1i.yolov8/test/images/cat_4943_jpg.rf.a943e11861d91ada6a06dff550044478.jpg: 640x640 1 cat, 12.8ms\n",
            "image 94/200 /content/drive/MyDrive/cat and dog/cat and dog.v1i.yolov8/test/images/cat_4947_jpg.rf.aa4385e62918154c00c8617d57e31c68.jpg: 640x640 1 cat, 11.1ms\n",
            "image 95/200 /content/drive/MyDrive/cat and dog/cat and dog.v1i.yolov8/test/images/cat_4952_jpg.rf.315d0e1ddae52b72afdb12a153b63fe1.jpg: 640x640 1 cat, 11.6ms\n",
            "image 96/200 /content/drive/MyDrive/cat and dog/cat and dog.v1i.yolov8/test/images/cat_4961_jpg.rf.08975cf71c560f0e004a453bc8af5a68.jpg: 640x640 1 cat, 12.3ms\n",
            "image 97/200 /content/drive/MyDrive/cat and dog/cat and dog.v1i.yolov8/test/images/cat_4981_jpg.rf.b7961faca643b22fc03238f55e5f0bb5.jpg: 640x640 1 cat, 11.4ms\n",
            "image 98/200 /content/drive/MyDrive/cat and dog/cat and dog.v1i.yolov8/test/images/cat_4986_jpg.rf.39ee79b83d982bd4d7de7a7850ef4f60.jpg: 640x640 1 dog, 11.4ms\n",
            "image 99/200 /content/drive/MyDrive/cat and dog/cat and dog.v1i.yolov8/test/images/cat_4992_jpg.rf.65289e249aace5cc2e18aef0bbbc6d12.jpg: 640x640 1 dog, 11.5ms\n",
            "image 100/200 /content/drive/MyDrive/cat and dog/cat and dog.v1i.yolov8/test/images/cat_4994_jpg.rf.0f55404511202f3a743533c1359d8fd4.jpg: 640x640 1 cat, 1 dog, 12.6ms\n",
            "image 101/200 /content/drive/MyDrive/cat and dog/cat and dog.v1i.yolov8/test/images/dog_4007_jpg.rf.712e6d8a960d3cfc959e71598a420d4c.jpg: 640x640 1 dog, 11.9ms\n",
            "image 102/200 /content/drive/MyDrive/cat and dog/cat and dog.v1i.yolov8/test/images/dog_4008_jpg.rf.8d697efe1b469c84342bcc6e54df27cf.jpg: 640x640 1 dog, 11.9ms\n",
            "image 103/200 /content/drive/MyDrive/cat and dog/cat and dog.v1i.yolov8/test/images/dog_4034_jpg.rf.ba985de45f459d97c8f3178aaac1d207.jpg: 640x640 1 dog, 43.0ms\n",
            "image 104/200 /content/drive/MyDrive/cat and dog/cat and dog.v1i.yolov8/test/images/dog_4051_jpg.rf.4583e6379a384d889c0300475d318a2d.jpg: 640x640 1 dog, 12.2ms\n",
            "image 105/200 /content/drive/MyDrive/cat and dog/cat and dog.v1i.yolov8/test/images/dog_4055_jpg.rf.76c73881b0823255ed2064780048e31a.jpg: 640x640 1 dog, 11.8ms\n",
            "image 106/200 /content/drive/MyDrive/cat and dog/cat and dog.v1i.yolov8/test/images/dog_4083_jpg.rf.f6d4c9e7791b80d05938e22b9229a521.jpg: 640x640 1 cat, 2 dogs, 11.9ms\n",
            "image 107/200 /content/drive/MyDrive/cat and dog/cat and dog.v1i.yolov8/test/images/dog_4095_jpg.rf.b4ef3e3fd4aab78a3e937f393f8c9188.jpg: 640x640 1 dog, 11.0ms\n",
            "image 108/200 /content/drive/MyDrive/cat and dog/cat and dog.v1i.yolov8/test/images/dog_4116_jpg.rf.49a89279e9ffaa49a2106873548a622e.jpg: 640x640 1 dog, 11.2ms\n",
            "image 109/200 /content/drive/MyDrive/cat and dog/cat and dog.v1i.yolov8/test/images/dog_4119_jpg.rf.120c4d362f522c319039ab5e98d3e464.jpg: 640x640 1 dog, 11.9ms\n",
            "image 110/200 /content/drive/MyDrive/cat and dog/cat and dog.v1i.yolov8/test/images/dog_4133_jpg.rf.85355e0c4e408107916081f869941643.jpg: 640x640 1 dog, 11.8ms\n",
            "image 111/200 /content/drive/MyDrive/cat and dog/cat and dog.v1i.yolov8/test/images/dog_4136_jpg.rf.a75410f143ad58b251cf7a6a1e3e03b5.jpg: 640x640 1 dog, 11.1ms\n",
            "image 112/200 /content/drive/MyDrive/cat and dog/cat and dog.v1i.yolov8/test/images/dog_4137_jpg.rf.894fb4caede641d111c22694bfbeadee.jpg: 640x640 1 dog, 11.3ms\n",
            "image 113/200 /content/drive/MyDrive/cat and dog/cat and dog.v1i.yolov8/test/images/dog_4145_jpg.rf.e307fd2bd47eade18f68124f193a958f.jpg: 640x640 1 dog, 11.4ms\n",
            "image 114/200 /content/drive/MyDrive/cat and dog/cat and dog.v1i.yolov8/test/images/dog_4146_jpg.rf.83882670859f9ac6957e7d5d78ab366a.jpg: 640x640 1 dog, 11.5ms\n",
            "image 115/200 /content/drive/MyDrive/cat and dog/cat and dog.v1i.yolov8/test/images/dog_4150_jpg.rf.ae41f7270a9035db5929e0c84d448768.jpg: 640x640 1 dog, 11.4ms\n",
            "image 116/200 /content/drive/MyDrive/cat and dog/cat and dog.v1i.yolov8/test/images/dog_4178_jpg.rf.501fde3c63911f3c043e8fddeebd1845.jpg: 640x640 1 dog, 11.3ms\n",
            "image 117/200 /content/drive/MyDrive/cat and dog/cat and dog.v1i.yolov8/test/images/dog_4190_jpg.rf.dd128e471f80e22194e4873f3f4df213.jpg: 640x640 1 dog, 11.5ms\n",
            "image 118/200 /content/drive/MyDrive/cat and dog/cat and dog.v1i.yolov8/test/images/dog_4195_jpg.rf.244e52d933b22b0b917fc4e83fbc4c9b.jpg: 640x640 1 dog, 11.6ms\n",
            "image 119/200 /content/drive/MyDrive/cat and dog/cat and dog.v1i.yolov8/test/images/dog_4215_jpg.rf.ac939eaa3a6c7653cfcd4766a049b6d2.jpg: 640x640 1 dog, 13.3ms\n",
            "image 120/200 /content/drive/MyDrive/cat and dog/cat and dog.v1i.yolov8/test/images/dog_4233_jpg.rf.2e85843515fdbd7bfbd772eb9afdbd55.jpg: 640x640 1 dog, 11.8ms\n",
            "image 121/200 /content/drive/MyDrive/cat and dog/cat and dog.v1i.yolov8/test/images/dog_4242_jpg.rf.0447325db08c132934e90fb77fbf2ec2.jpg: 640x640 1 dog, 11.6ms\n",
            "image 122/200 /content/drive/MyDrive/cat and dog/cat and dog.v1i.yolov8/test/images/dog_4260_jpg.rf.65c8f205188debb6f8338636d0dc7cf2.jpg: 640x640 1 dog, 11.8ms\n",
            "image 123/200 /content/drive/MyDrive/cat and dog/cat and dog.v1i.yolov8/test/images/dog_4268_jpg.rf.14b5af0f5a8bc4508e0760a8b1bf502e.jpg: 640x640 1 dog, 11.6ms\n",
            "image 124/200 /content/drive/MyDrive/cat and dog/cat and dog.v1i.yolov8/test/images/dog_4272_jpg.rf.222afac4af763cbf7189ddfca0d62889.jpg: 640x640 1 dog, 11.7ms\n",
            "image 125/200 /content/drive/MyDrive/cat and dog/cat and dog.v1i.yolov8/test/images/dog_4308_jpg.rf.86b2c0a346b0e644c95a994e6410ae61.jpg: 640x640 1 dog, 11.6ms\n",
            "image 126/200 /content/drive/MyDrive/cat and dog/cat and dog.v1i.yolov8/test/images/dog_4309_jpg.rf.6269a34e5825a431460e7a33f890057a.jpg: 640x640 (no detections), 12.1ms\n",
            "image 127/200 /content/drive/MyDrive/cat and dog/cat and dog.v1i.yolov8/test/images/dog_4323_jpg.rf.16e21354c350cf26e5007f6e4cc9e0f8.jpg: 640x640 1 dog, 12.2ms\n",
            "image 128/200 /content/drive/MyDrive/cat and dog/cat and dog.v1i.yolov8/test/images/dog_4335_jpg.rf.2575b963e04bc2a7977b9edde5752eba.jpg: 640x640 1 cat, 2 dogs, 11.6ms\n",
            "image 129/200 /content/drive/MyDrive/cat and dog/cat and dog.v1i.yolov8/test/images/dog_4369_jpg.rf.20d61a5d1bca5998f6b632c065132265.jpg: 640x640 1 dog, 11.3ms\n",
            "image 130/200 /content/drive/MyDrive/cat and dog/cat and dog.v1i.yolov8/test/images/dog_4375_jpg.rf.91dc5c902deca89a0abcc32009390e71.jpg: 640x640 1 dog, 11.4ms\n",
            "image 131/200 /content/drive/MyDrive/cat and dog/cat and dog.v1i.yolov8/test/images/dog_4378_jpg.rf.09f233a956ec2cb04ae6eb959b6d0438.jpg: 640x640 1 dog, 11.8ms\n",
            "image 132/200 /content/drive/MyDrive/cat and dog/cat and dog.v1i.yolov8/test/images/dog_4388_jpg.rf.109c8f85024efcf4b4125501fd3c2b6a.jpg: 640x640 1 dog, 11.6ms\n",
            "image 133/200 /content/drive/MyDrive/cat and dog/cat and dog.v1i.yolov8/test/images/dog_4391_jpg.rf.dae9a1314aa676e9233c5ccfdc6f630a.jpg: 640x640 1 dog, 11.3ms\n",
            "image 134/200 /content/drive/MyDrive/cat and dog/cat and dog.v1i.yolov8/test/images/dog_4396_jpg.rf.d24ac9e7017c8633a1101b09b0785029.jpg: 640x640 1 dog, 12.2ms\n",
            "image 135/200 /content/drive/MyDrive/cat and dog/cat and dog.v1i.yolov8/test/images/dog_4401_jpg.rf.0bf49598a46f00eb92fd79938db6d807.jpg: 640x640 1 dog, 12.1ms\n",
            "image 136/200 /content/drive/MyDrive/cat and dog/cat and dog.v1i.yolov8/test/images/dog_4408_jpg.rf.ec4d11e15e37086b2fae9ea1f321f2ad.jpg: 640x640 1 dog, 11.7ms\n",
            "image 137/200 /content/drive/MyDrive/cat and dog/cat and dog.v1i.yolov8/test/images/dog_4415_jpg.rf.37e3e48ebc4faf33c588b806a2b967f4.jpg: 640x640 1 dog, 12.6ms\n",
            "image 138/200 /content/drive/MyDrive/cat and dog/cat and dog.v1i.yolov8/test/images/dog_4424_jpg.rf.7f0e0f435380a1460f6999f3b8c764e5.jpg: 640x640 1 dog, 13.9ms\n",
            "image 139/200 /content/drive/MyDrive/cat and dog/cat and dog.v1i.yolov8/test/images/dog_4428_jpg.rf.c9a6bce705ddb050d1503d871cf128ac.jpg: 640x640 1 dog, 11.9ms\n",
            "image 140/200 /content/drive/MyDrive/cat and dog/cat and dog.v1i.yolov8/test/images/dog_4449_jpg.rf.11aede84f107ed4dc09c86e3bf25338f.jpg: 640x640 1 dog, 12.0ms\n",
            "image 141/200 /content/drive/MyDrive/cat and dog/cat and dog.v1i.yolov8/test/images/dog_4454_jpg.rf.a01263dc11f8fb0ffd382053f9466323.jpg: 640x640 1 dog, 11.8ms\n",
            "image 142/200 /content/drive/MyDrive/cat and dog/cat and dog.v1i.yolov8/test/images/dog_4464_jpg.rf.a5bba7109bfab26ccdbfc3879a703229.jpg: 640x640 1 dog, 11.5ms\n",
            "image 143/200 /content/drive/MyDrive/cat and dog/cat and dog.v1i.yolov8/test/images/dog_4465_jpg.rf.bf82ce4ef9a208e61e457bade119e20c.jpg: 640x640 1 dog, 11.7ms\n",
            "image 144/200 /content/drive/MyDrive/cat and dog/cat and dog.v1i.yolov8/test/images/dog_4468_jpg.rf.4736c125d2fe099e9e851832cd4df871.jpg: 640x640 1 cat, 11.7ms\n",
            "image 145/200 /content/drive/MyDrive/cat and dog/cat and dog.v1i.yolov8/test/images/dog_4478_jpg.rf.e221805a905432bbc4d0c1209390e399.jpg: 640x640 1 dog, 11.6ms\n",
            "image 146/200 /content/drive/MyDrive/cat and dog/cat and dog.v1i.yolov8/test/images/dog_4482_jpg.rf.c69e600081990d56225c57f5026f3329.jpg: 640x640 1 dog, 12.0ms\n",
            "image 147/200 /content/drive/MyDrive/cat and dog/cat and dog.v1i.yolov8/test/images/dog_4487_jpg.rf.16ed52ba90d91d548c7a971cf6cf5b8e.jpg: 640x640 2 dogs, 11.6ms\n",
            "image 148/200 /content/drive/MyDrive/cat and dog/cat and dog.v1i.yolov8/test/images/dog_4491_jpg.rf.6413ae1dbaff227c37b373fa05536084.jpg: 640x640 1 dog, 11.8ms\n",
            "image 149/200 /content/drive/MyDrive/cat and dog/cat and dog.v1i.yolov8/test/images/dog_4492_jpg.rf.bf132faa45746f746129181aaa04d22d.jpg: 640x640 1 dog, 12.8ms\n",
            "image 150/200 /content/drive/MyDrive/cat and dog/cat and dog.v1i.yolov8/test/images/dog_4493_jpg.rf.56fd06de357744d341cf20ea99ad33ff.jpg: 640x640 1 dog, 12.4ms\n",
            "image 151/200 /content/drive/MyDrive/cat and dog/cat and dog.v1i.yolov8/test/images/dog_4503_jpg.rf.f110f8d5e67aa3c756fa366de8ef7f85.jpg: 640x640 1 dog, 12.6ms\n",
            "image 152/200 /content/drive/MyDrive/cat and dog/cat and dog.v1i.yolov8/test/images/dog_4505_jpg.rf.363e348850524a3abd1b7828c4a8d8c2.jpg: 640x640 1 dog, 12.2ms\n",
            "image 153/200 /content/drive/MyDrive/cat and dog/cat and dog.v1i.yolov8/test/images/dog_4518_jpg.rf.94cbd4bfff493b6849c63b340bfc96eb.jpg: 640x640 1 dog, 12.7ms\n",
            "image 154/200 /content/drive/MyDrive/cat and dog/cat and dog.v1i.yolov8/test/images/dog_4519_jpg.rf.cd3ffb3c8f34b83181b53ee0b4869578.jpg: 640x640 1 dog, 11.8ms\n",
            "image 155/200 /content/drive/MyDrive/cat and dog/cat and dog.v1i.yolov8/test/images/dog_4551_jpg.rf.bb26d5b44254411e9925b0d8e551e4b5.jpg: 640x640 1 dog, 12.6ms\n",
            "image 156/200 /content/drive/MyDrive/cat and dog/cat and dog.v1i.yolov8/test/images/dog_4554_jpg.rf.6b6103ab497110731671ecdd308ae44f.jpg: 640x640 1 dog, 12.8ms\n",
            "image 157/200 /content/drive/MyDrive/cat and dog/cat and dog.v1i.yolov8/test/images/dog_4568_jpg.rf.f6cbde968ce8dd115e683d1defbfb986.jpg: 640x640 1 dog, 43.2ms\n",
            "image 158/200 /content/drive/MyDrive/cat and dog/cat and dog.v1i.yolov8/test/images/dog_4573_jpg.rf.752d4de95025a109c2a29b99b8b28011.jpg: 640x640 1 dog, 12.4ms\n",
            "image 159/200 /content/drive/MyDrive/cat and dog/cat and dog.v1i.yolov8/test/images/dog_4578_jpg.rf.f2feacaffbe7c9d7dc0c522925d40fd1.jpg: 640x640 1 dog, 12.9ms\n",
            "image 160/200 /content/drive/MyDrive/cat and dog/cat and dog.v1i.yolov8/test/images/dog_4602_jpg.rf.983c7d85ab1e11161b1bba13ca37c75d.jpg: 640x640 1 dog, 12.2ms\n",
            "image 161/200 /content/drive/MyDrive/cat and dog/cat and dog.v1i.yolov8/test/images/dog_4616_jpg.rf.d42398ed65e06b31cbb715bb84ae3a90.jpg: 640x640 2 cats, 12.4ms\n",
            "image 162/200 /content/drive/MyDrive/cat and dog/cat and dog.v1i.yolov8/test/images/dog_4631_jpg.rf.addf8eb51c6bbb612d867f28c4ec4bf2.jpg: 640x640 1 dog, 12.0ms\n",
            "image 163/200 /content/drive/MyDrive/cat and dog/cat and dog.v1i.yolov8/test/images/dog_4633_jpg.rf.5763a7a9d5fb81528ce1bd5580e2bf0d.jpg: 640x640 1 dog, 11.8ms\n",
            "image 164/200 /content/drive/MyDrive/cat and dog/cat and dog.v1i.yolov8/test/images/dog_4634_jpg.rf.9ed636813516c38926080f5faf304353.jpg: 640x640 1 dog, 12.5ms\n",
            "image 165/200 /content/drive/MyDrive/cat and dog/cat and dog.v1i.yolov8/test/images/dog_4637_jpg.rf.b90dccb2a66d3d11c4d6099cd756e7cc.jpg: 640x640 1 dog, 12.5ms\n",
            "image 166/200 /content/drive/MyDrive/cat and dog/cat and dog.v1i.yolov8/test/images/dog_4640_jpg.rf.80a46c5b17399cb38ede141f18a25c01.jpg: 640x640 1 dog, 12.8ms\n",
            "image 167/200 /content/drive/MyDrive/cat and dog/cat and dog.v1i.yolov8/test/images/dog_4646_jpg.rf.037f6c31525649cf7acec41842c4a58c.jpg: 640x640 1 dog, 12.1ms\n",
            "image 168/200 /content/drive/MyDrive/cat and dog/cat and dog.v1i.yolov8/test/images/dog_4657_jpg.rf.07d349f065d981cee1f63400eb990ccb.jpg: 640x640 1 dog, 12.7ms\n",
            "image 169/200 /content/drive/MyDrive/cat and dog/cat and dog.v1i.yolov8/test/images/dog_4661_jpg.rf.45477c1e05a1771292eccea52a6adc80.jpg: 640x640 1 dog, 12.3ms\n",
            "image 170/200 /content/drive/MyDrive/cat and dog/cat and dog.v1i.yolov8/test/images/dog_4669_jpg.rf.32adfc7a185301ec7d840fecd9bd4693.jpg: 640x640 1 dog, 11.9ms\n",
            "image 171/200 /content/drive/MyDrive/cat and dog/cat and dog.v1i.yolov8/test/images/dog_4685_jpg.rf.2b28833ba0430fbd732ef22de86fd98f.jpg: 640x640 2 dogs, 12.5ms\n",
            "image 172/200 /content/drive/MyDrive/cat and dog/cat and dog.v1i.yolov8/test/images/dog_4687_jpg.rf.c0d8ae95db7bb04042d9c48096fa65c4.jpg: 640x640 1 dog, 12.0ms\n",
            "image 173/200 /content/drive/MyDrive/cat and dog/cat and dog.v1i.yolov8/test/images/dog_4690_jpg.rf.9bf5a2379cbac8ab575821578ec87ee5.jpg: 640x640 1 cat, 11.7ms\n",
            "image 174/200 /content/drive/MyDrive/cat and dog/cat and dog.v1i.yolov8/test/images/dog_4693_jpg.rf.62e4b4217ad4c18a557816a02ee084a0.jpg: 640x640 1 dog, 12.6ms\n",
            "image 175/200 /content/drive/MyDrive/cat and dog/cat and dog.v1i.yolov8/test/images/dog_4700_jpg.rf.3b18f0ebd82927afd38cbe33fca6e346.jpg: 640x640 1 dog, 12.2ms\n",
            "image 176/200 /content/drive/MyDrive/cat and dog/cat and dog.v1i.yolov8/test/images/dog_4716_jpg.rf.1407951cf3079efd5b84744947c6ce4e.jpg: 640x640 1 dog, 11.7ms\n",
            "image 177/200 /content/drive/MyDrive/cat and dog/cat and dog.v1i.yolov8/test/images/dog_4740_jpg.rf.248cadb98425dba9919c45aa9a2d68bf.jpg: 640x640 1 dog, 11.4ms\n",
            "image 178/200 /content/drive/MyDrive/cat and dog/cat and dog.v1i.yolov8/test/images/dog_4760_jpg.rf.e71aac46dd6ae3084c7309359518f278.jpg: 640x640 1 dog, 12.0ms\n",
            "image 179/200 /content/drive/MyDrive/cat and dog/cat and dog.v1i.yolov8/test/images/dog_4766_jpg.rf.61eeed6c073c6beb45147089f0093f9f.jpg: 640x640 1 dog, 12.0ms\n",
            "image 180/200 /content/drive/MyDrive/cat and dog/cat and dog.v1i.yolov8/test/images/dog_4778_jpg.rf.bb1060c26ccb44c65f2e64534cbe470e.jpg: 640x640 1 dog, 12.1ms\n",
            "image 181/200 /content/drive/MyDrive/cat and dog/cat and dog.v1i.yolov8/test/images/dog_4786_jpg.rf.94abfca8c7b516a779e1b60606d185c6.jpg: 640x640 1 cat, 1 dog, 11.9ms\n",
            "image 182/200 /content/drive/MyDrive/cat and dog/cat and dog.v1i.yolov8/test/images/dog_4788_jpg.rf.8041e01434b1fd2bb292d71a31263bcb.jpg: 640x640 2 dogs, 12.0ms\n",
            "image 183/200 /content/drive/MyDrive/cat and dog/cat and dog.v1i.yolov8/test/images/dog_4793_jpg.rf.627da9681613b9a0364d73072350e641.jpg: 640x640 1 dog, 12.6ms\n",
            "image 184/200 /content/drive/MyDrive/cat and dog/cat and dog.v1i.yolov8/test/images/dog_4803_jpg.rf.7f1a25c566491a758db062e198c57491.jpg: 640x640 1 dog, 11.8ms\n",
            "image 185/200 /content/drive/MyDrive/cat and dog/cat and dog.v1i.yolov8/test/images/dog_4819_jpg.rf.c2325b19606420c3989942e0ef33b9e1.jpg: 640x640 1 dog, 11.4ms\n",
            "image 186/200 /content/drive/MyDrive/cat and dog/cat and dog.v1i.yolov8/test/images/dog_4822_jpg.rf.4b36b080436511c78d37dba43b726bf5.jpg: 640x640 1 dog, 11.4ms\n",
            "image 187/200 /content/drive/MyDrive/cat and dog/cat and dog.v1i.yolov8/test/images/dog_4838_jpg.rf.b58dd6059f564b5d90840afaf5ee1496.jpg: 640x640 1 dog, 11.5ms\n",
            "image 188/200 /content/drive/MyDrive/cat and dog/cat and dog.v1i.yolov8/test/images/dog_4845_jpg.rf.3ae0c072d8c89477741a401892bf65f1.jpg: 640x640 1 dog, 11.2ms\n",
            "image 189/200 /content/drive/MyDrive/cat and dog/cat and dog.v1i.yolov8/test/images/dog_4858_jpg.rf.52981579668948e43aaa83907a2676e5.jpg: 640x640 1 dog, 11.5ms\n",
            "image 190/200 /content/drive/MyDrive/cat and dog/cat and dog.v1i.yolov8/test/images/dog_4890_jpg.rf.87d9c923eadf9c9538a76ccbcec4e27d.jpg: 640x640 1 dog, 11.2ms\n",
            "image 191/200 /content/drive/MyDrive/cat and dog/cat and dog.v1i.yolov8/test/images/dog_4897_jpg.rf.8ca3a1e84c9c838099acab91f4b9e101.jpg: 640x640 1 dog, 11.2ms\n",
            "image 192/200 /content/drive/MyDrive/cat and dog/cat and dog.v1i.yolov8/test/images/dog_4900_jpg.rf.02e6fce648b265db3cb402f47ac767bb.jpg: 640x640 1 dog, 11.6ms\n",
            "image 193/200 /content/drive/MyDrive/cat and dog/cat and dog.v1i.yolov8/test/images/dog_4905_jpg.rf.d44eaf9210be64f906597a8dbb14c15e.jpg: 640x640 2 dogs, 11.5ms\n",
            "image 194/200 /content/drive/MyDrive/cat and dog/cat and dog.v1i.yolov8/test/images/dog_4920_jpg.rf.67d07fcd053bcc41cb7e20944792ca47.jpg: 640x640 1 dog, 11.8ms\n",
            "image 195/200 /content/drive/MyDrive/cat and dog/cat and dog.v1i.yolov8/test/images/dog_4922_jpg.rf.0fae446dfaae0182760adb7cc33aa52e.jpg: 640x640 1 dog, 12.5ms\n",
            "image 196/200 /content/drive/MyDrive/cat and dog/cat and dog.v1i.yolov8/test/images/dog_4939_jpg.rf.1b0678774042600431bc210e84ae0f31.jpg: 640x640 1 dog, 13.9ms\n",
            "image 197/200 /content/drive/MyDrive/cat and dog/cat and dog.v1i.yolov8/test/images/dog_4946_jpg.rf.cd748cfbbe2caf2782af72f61354391a.jpg: 640x640 1 dog, 11.8ms\n",
            "image 198/200 /content/drive/MyDrive/cat and dog/cat and dog.v1i.yolov8/test/images/dog_4958_jpg.rf.a2ea75330588b95692e614dce2fbd4cb.jpg: 640x640 2 dogs, 11.9ms\n",
            "image 199/200 /content/drive/MyDrive/cat and dog/cat and dog.v1i.yolov8/test/images/dog_4977_jpg.rf.cd3e3b5cfab87454e5e64a870366ffc8.jpg: 640x640 1 dog, 14.3ms\n",
            "image 200/200 /content/drive/MyDrive/cat and dog/cat and dog.v1i.yolov8/test/images/dog_4996_jpg.rf.5b2bef8cebdbe7cf5d84eeb58a3e34d2.jpg: 640x640 1 dog, 11.4ms\n",
            "Speed: 2.4ms preprocess, 12.2ms inference, 1.5ms postprocess per image at shape (1, 3, 640, 640)\n",
            "Results saved to \u001b[1m/content/drive/MyDrive/cat and dog/cat and dog.v1i.yolov8/yolov8x_results\u001b[0m\n"
          ]
        }
      ]
    },
    {
      "cell_type": "code",
      "source": [
        "import cv2\n",
        "import os\n",
        "from pathlib import Path\n",
        "\n",
        "# 🔧 예측 이미지 디렉토리\n",
        "predict_dir = Path(os.path.join(project_dir, \"yolov8x_results\")) # Corrected path\n",
        "\n",
        "# 🔍 이미지 정렬\n",
        "images = sorted([img for img in predict_dir.glob(\"*.jpg\")])\n",
        "\n",
        "# 🎥 비디오 저장 설정\n",
        "output_path = \"//content//drive//MyDrive//cat and dog//cat and dog.v1i.yolov8//predicted_video.mp4\"\n",
        "frame = cv2.imread(str(images[0]))\n",
        "height, width, _ = frame.shape\n",
        "video_writer = cv2.VideoWriter(output_path, cv2.VideoWriter_fourcc(*'mp4v'), 5, (width, height))\n",
        "\n",
        "for img_path in images:\n",
        "    frame = cv2.imread(str(img_path))\n",
        "    video_writer.write(frame)\n",
        "\n",
        "video_writer.release()\n",
        "print(f\"✅ 예측 결과 영상 저장 완료: {output_path}\")"
      ],
      "metadata": {
        "colab": {
          "base_uri": "https://localhost:8080/"
        },
        "id": "Qegn3FV39Edc",
        "outputId": "768c0c7f-fcb7-4e9e-f203-bd0be70733aa"
      },
      "execution_count": 17,
      "outputs": [
        {
          "output_type": "stream",
          "name": "stdout",
          "text": [
            "✅ 예측 결과 영상 저장 완료: //content//drive//MyDrive//cat and dog//cat and dog.v1i.yolov8//predicted_video.mp4\n"
          ]
        }
      ]
    },
    {
      "cell_type": "code",
      "source": [
        "from sklearn.metrics import confusion_matrix, ConfusionMatrixDisplay\n",
        "import numpy as np\n",
        "import matplotlib.pyplot as plt # Ensure plt is imported\n",
        "\n",
        "# 🧪 confusion matrix 자동 평가\n",
        "metrics = model.val(split=\"test\")\n",
        "\n",
        "# confusion matrix는 metrics.confusion_matrix로 접근\n",
        "cm = metrics.confusion_matrix # Access the ConfusionMatrix object\n",
        "\n",
        "# Extract the confusion matrix as a NumPy array\n",
        "cm_array = cm.matrix\n",
        "\n",
        "disp = ConfusionMatrixDisplay(confusion_matrix=cm_array, display_labels=['all', 'cat', 'dog']) # Updated labels\n",
        "disp.plot(cmap='Blues')\n",
        "plt.title(\"Confusion Matrix (Test Set)\")\n",
        "plt.show()"
      ],
      "metadata": {
        "colab": {
          "base_uri": "https://localhost:8080/",
          "height": 628
        },
        "id": "hOOfYdqe9EjN",
        "outputId": "e0cfd938-d0b4-4cdc-9525-7802a25f9822"
      },
      "execution_count": 24,
      "outputs": [
        {
          "output_type": "stream",
          "name": "stdout",
          "text": [
            "Ultralytics 8.3.159 🚀 Python-3.11.13 torch-2.6.0+cu124 CUDA:0 (NVIDIA A100-SXM4-40GB, 40507MiB)\n",
            "\u001b[34m\u001b[1mval: \u001b[0mFast image access ✅ (ping: 0.4±0.2 ms, read: 33.2±18.4 MB/s, size: 42.3 KB)\n"
          ]
        },
        {
          "output_type": "stream",
          "name": "stderr",
          "text": [
            "\u001b[34m\u001b[1mval: \u001b[0mScanning /content/drive/MyDrive/cat and dog/cat and dog.v1i.yolov8/test/labels.cache... 200 images, 2 backgrounds, 0 corrupt: 100%|██████████| 200/200 [00:00<?, ?it/s]\n",
            "                 Class     Images  Instances      Box(P          R      mAP50  mAP50-95): 100%|██████████| 13/13 [00:02<00:00,  4.36it/s]\n"
          ]
        },
        {
          "output_type": "stream",
          "name": "stdout",
          "text": [
            "                   all        200        211      0.869      0.849      0.905       0.73\n",
            "                   cat        100        111      0.888      0.783      0.874       0.69\n",
            "                   dog         98        100      0.851      0.914      0.936      0.769\n",
            "Speed: 1.2ms preprocess, 5.6ms inference, 0.0ms loss, 2.7ms postprocess per image\n",
            "Results saved to \u001b[1m/content/drive/MyDrive/cat and dog/cat and dog.v1i.yolov8/yolov8x_results\u001b[0m\n"
          ]
        },
        {
          "output_type": "display_data",
          "data": {
            "text/plain": [
              "<Figure size 640x480 with 2 Axes>"
            ],
            "image/png": "[encoded data removed]"
          },
          "metadata": {}
        }
      ]
    },
    {
      "cell_type": "code",
      "source": [
        "# ⚠️ 자동 평가 결과에 클래스별 점수가 들어있는 경우\n",
        "try:\n",
        "    cls_metrics = metrics.box\n",
        "    class_names = model.names  # ex: {0: 'cat', 1: 'dog'}\n",
        "\n",
        "    plt.figure(figsize=(8, 6))\n",
        "    for i, cls in enumerate(class_names.values()):\n",
        "        scores = [\n",
        "            cls_metrics.precision_per_class[i],\n",
        "            cls_metrics.recall_per_class[i],\n",
        "            cls_metrics.map50_per_class[i],\n",
        "            cls_metrics.map_per_class[i]\n",
        "        ]\n",
        "        plt.bar(\n",
        "            [f\"{cls}\\nPrecision\", f\"{cls}\\nRecall\", f\"{cls}\\nmAP@0.5\", f\"{cls}\\nmAP@0.5:0.95\"],\n",
        "            scores, label=cls)\n",
        "\n",
        "    plt.title(\"클래스별 성능지표\")\n",
        "    plt.ylabel(\"Score\")\n",
        "    plt.ylim(0, 1)\n",
        "    plt.xticks(rotation=45)\n",
        "    plt.grid(True, linestyle='--', alpha=0.4)\n",
        "    plt.tight_layout()\n",
        "    plt.show()\n",
        "\n",
        "except Exception as e:\n",
        "    print(\"⚠️ 클래스별 지표 시각화 불가:\", e)\n"
      ],
      "metadata": {
        "colab": {
          "base_uri": "https://localhost:8080/",
          "height": 486
        },
        "id": "mdF9689u9Eqo",
        "outputId": "bf900a9b-1141-4249-8ddf-9abe21f88e98"
      },
      "execution_count": 25,
      "outputs": [
        {
          "output_type": "stream",
          "name": "stdout",
          "text": [
            "⚠️ 클래스별 지표 시각화 불가: 'Metric' object has no attribute 'precision_per_class'. See valid attributes below.\n",
            "\n",
            "    Class for computing evaluation metrics for Ultralytics YOLO models.\n",
            "\n",
            "    Attributes:\n",
            "        p (list): Precision for each class. Shape: (nc,).\n",
            "        r (list): Recall for each class. Shape: (nc,).\n",
            "        f1 (list): F1 score for each class. Shape: (nc,).\n",
            "        all_ap (list): AP scores for all classes and all IoU thresholds. Shape: (nc, 10).\n",
            "        ap_class_index (list): Index of class for each AP score. Shape: (nc,).\n",
            "        nc (int): Number of classes.\n",
            "\n",
            "    Methods:\n",
            "        ap50(): AP at IoU threshold of 0.5 for all classes. Returns: List of AP scores. Shape: (nc,) or [].\n",
            "        ap(): AP at IoU thresholds from 0.5 to 0.95 for all classes. Returns: List of AP scores. Shape: (nc,) or [].\n",
            "        mp(): Mean precision of all classes. Returns: Float.\n",
            "        mr(): Mean recall of all classes. Returns: Float.\n",
            "        map50(): Mean AP at IoU threshold of 0.5 for all classes. Returns: Float.\n",
            "        map75(): Mean AP at IoU threshold of 0.75 for all classes. Returns: Float.\n",
            "        map(): Mean AP at IoU thresholds from 0.5 to 0.95 for all classes. Returns: Float.\n",
            "        mean_results(): Mean of results, returns mp, mr, map50, map.\n",
            "        class_result(i): Class-aware result, returns p[i], r[i], ap50[i], ap[i].\n",
            "        maps(): mAP of each class. Returns: Array of mAP scores, shape: (nc,).\n",
            "        fitness(): Model fitness as a weighted combination of metrics. Returns: Float.\n",
            "        update(results): Update metric attributes with new evaluation results.\n",
            "    \n"
          ]
        },
        {
          "output_type": "display_data",
          "data": {
            "text/plain": [
              "<Figure size 800x600 with 0 Axes>"
            ]
          },
          "metadata": {}
        }
      ]
    },
    {
      "cell_type": "code",
      "metadata": {
        "colab": {
          "base_uri": "https://localhost:8080/"
        },
        "id": "beae5986",
        "outputId": "1caa670b-2b75-48aa-cfbb-620db427037a"
      },
      "source": [
        "import os\n",
        "\n",
        "predict_base_dir = \"runs/detect\"\n",
        "print(f\"Contents of {predict_base_dir}:\")\n",
        "if os.path.exists(predict_base_dir):\n",
        "    for item in os.listdir(predict_base_dir):\n",
        "        print(item)\n",
        "else:\n",
        "    print(f\"Directory '{predict_base_dir}' does not exist.\")"
      ],
      "execution_count": 26,
      "outputs": [
        {
          "output_type": "stream",
          "name": "stdout",
          "text": [
            "Contents of runs/detect:\n",
            "Directory 'runs/detect' does not exist.\n"
          ]
        }
      ]
    },
    {
      "cell_type": "code",
      "metadata": {
        "colab": {
          "base_uri": "https://localhost:8080/"
        },
        "id": "25b920d6",
        "outputId": "9a58f923-56c8-42bc-cc41-5ed79520aada"
      },
      "source": [
        "import os\n",
        "\n",
        "predict_dir = os.path.join(project_dir, \"yolov8x_results\", \"predict\")\n",
        "print(f\"Contents of {predict_dir}:\")\n",
        "if os.path.exists(predict_dir):\n",
        "    for item in os.listdir(predict_dir):\n",
        "        print(item)\n",
        "else:\n",
        "    print(f\"Directory '{predict_dir}' does not exist.\")"
      ],
      "execution_count": 27,
      "outputs": [
        {
          "output_type": "stream",
          "name": "stdout",
          "text": [
            "Contents of /content/drive/MyDrive/cat and dog/cat and dog.v1i.yolov8/yolov8x_results/predict:\n",
            "Directory '/content/drive/MyDrive/cat and dog/cat and dog.v1i.yolov8/yolov8x_results/predict' does not exist.\n"
          ]
        }
      ]
    },
    {
      "cell_type": "code",
      "metadata": {
        "colab": {
          "base_uri": "https://localhost:8080/"
        },
        "id": "52d86104",
        "outputId": "c43fdca2-686e-4c72-9366-f924f844c6c7"
      },
      "source": [
        "# Inspect the ConfusionMatrix object to find the attribute containing the array data\n",
        "print(dir(cm))"
      ],
      "execution_count": 28,
      "outputs": [
        {
          "output_type": "stream",
          "name": "stdout",
          "text": [
            "['__class__', '__delattr__', '__dict__', '__dir__', '__doc__', '__eq__', '__format__', '__ge__', '__getattribute__', '__getstate__', '__gt__', '__hash__', '__init__', '__init_subclass__', '__le__', '__lt__', '__module__', '__ne__', '__new__', '__reduce__', '__reduce_ex__', '__repr__', '__setattr__', '__sizeof__', '__str__', '__subclasshook__', '__weakref__', 'matrix', 'names', 'nc', 'plot', 'print', 'process_batch', 'process_cls_preds', 'summary', 'task', 'to_csv', 'to_df', 'to_html', 'to_json', 'to_sql', 'to_xml', 'tojson', 'tp_fp']\n"
          ]
        }
      ]
    }
  ]
}