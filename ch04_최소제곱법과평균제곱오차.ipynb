{
  "cells": [
    {
      "cell_type": "markdown",
      "metadata": {
        "id": "view-in-github",
        "colab_type": "text"
      },
      "source": [
        "<a href=\"https://colab.research.google.com/github/kimjaehwankimjaehwan/deeplearningstudy/blob/main/ch04_%EC%B5%9C%EC%86%8C%EC%A0%9C%EA%B3%B1%EB%B2%95%EA%B3%BC%ED%8F%89%EA%B7%A0%EC%A0%9C%EA%B3%B1%EC%98%A4%EC%B0%A8.ipynb\" target=\"_parent\"><img src=\"https://colab.research.google.com/assets/colab-badge.svg\" alt=\"Open In Colab\"/></a>"
      ]
    },
    {
      "cell_type": "markdown",
      "id": "df693600",
      "metadata": {
        "id": "df693600"
      },
      "source": [
        "# 4장. 가장 훌륭한 예측선"
      ]
    },
    {
      "cell_type": "code",
      "source": [
        "from google.colab import drive\n",
        "drive.mount('/content/drive')"
      ],
      "metadata": {
        "colab": {
          "base_uri": "https://localhost:8080/"
        },
        "id": "Hsi7QCcLs4yr",
        "outputId": "cea9ad8a-4d81-43d8-cc6b-218943294a30"
      },
      "id": "Hsi7QCcLs4yr",
      "execution_count": null,
      "outputs": [
        {
          "output_type": "stream",
          "name": "stdout",
          "text": [
            "Drive already mounted at /content/drive; to attempt to forcibly remount, call drive.mount(\"/content/drive\", force_remount=True).\n"
          ]
        }
      ]
    },
    {
      "cell_type": "markdown",
      "id": "cb4bb2c8",
      "metadata": {
        "id": "cb4bb2c8"
      },
      "source": [
        "## 4. 파이썬 코딩으로 확인하는 최소 제곱"
      ]
    },
    {
      "cell_type": "markdown",
      "id": "8ce90623",
      "metadata": {
        "id": "8ce90623"
      },
      "source": [
        "### 1. 환경 준비"
      ]
    },
    {
      "cell_type": "code",
      "execution_count": null,
      "id": "86907981",
      "metadata": {
        "id": "86907981"
      },
      "outputs": [],
      "source": [
        "import numpy as np"
      ]
    },
    {
      "cell_type": "markdown",
      "id": "26e7632f",
      "metadata": {
        "id": "26e7632f"
      },
      "source": [
        "### 2. 데이터 준비"
      ]
    },
    {
      "cell_type": "code",
      "execution_count": null,
      "id": "a1678fe5",
      "metadata": {
        "id": "a1678fe5"
      },
      "outputs": [],
      "source": [
        "# 공부한 시간과 점수를 각각 x, y라는 이름의 넘파이 배열로 만듭니다.\n",
        "x = np.array([2, 4, 6, 8])\n",
        "y = np.array([81, 93, 91, 97])"
      ]
    },
    {
      "cell_type": "code",
      "source": [
        "# [허] 교재 69p 시각화. 5장에서 다시 나옴\n",
        "import matplotlib.pyplot as plt\n",
        "\n",
        "# 데이터의 분포를 그래프로 나타냅니다.\n",
        "plt.scatter(x, y)\n",
        "plt.show()"
      ],
      "metadata": {
        "colab": {
          "base_uri": "https://localhost:8080/",
          "height": 430
        },
        "id": "S93jkfsSDky0",
        "outputId": "df2c3dd7-c7df-4ee4-e238-4a11186ae605"
      },
      "id": "S93jkfsSDky0",
      "execution_count": null,
      "outputs": [
        {
          "output_type": "display_data",
          "data": {
            "text/plain": [
              "<Figure size 640x480 with 1 Axes>"
            ],
            "image/png": "[encoded data removed]"
          },
          "metadata": {}
        }
      ]
    },
    {
      "cell_type": "markdown",
      "id": "2ad27943",
      "metadata": {
        "id": "2ad27943"
      },
      "source": [
        "#### [x와 y의 평균값]"
      ]
    },
    {
      "cell_type": "code",
      "execution_count": null,
      "id": "ba68a3b7",
      "metadata": {
        "id": "ba68a3b7",
        "outputId": "a61e8a43-3629-4f92-c30d-ed0b1618293b",
        "colab": {
          "base_uri": "https://localhost:8080/"
        }
      },
      "outputs": [
        {
          "output_type": "stream",
          "name": "stdout",
          "text": [
            "x의 평균값: 5.0\n",
            "y의 평균값: 90.5\n"
          ]
        }
      ],
      "source": [
        "#x의 평균값을 구합니다.\n",
        "mx = np.mean(x)\n",
        "\n",
        "#y의 평균값을 구합니다.\n",
        "my = np.mean(y)\n",
        "\n",
        "# 출력으로 확인합니다.\n",
        "print(\"x의 평균값:\", mx)\n",
        "print(\"y의 평균값:\", my)"
      ]
    },
    {
      "cell_type": "markdown",
      "id": "86e62f9d",
      "metadata": {
        "id": "86e62f9d"
      },
      "source": [
        "#### [기울기 공식의 분모와 분자]"
      ]
    },
    {
      "cell_type": "markdown",
      "source": [
        "* [허] 교재 68p\n",
        "\n",
        "$$\n",
        "a = \\frac{\\sum (x - \\bar{x})(y - \\bar{y})}{\\sum (x - \\bar{x})^2}\n",
        "$$\n",
        "\n",
        "$$\n",
        "b = \\bar{y} - (\\bar{x} \\times 기울기 a)\n",
        "$$"
      ],
      "metadata": {
        "id": "owEZuV4KF1H3"
      },
      "id": "owEZuV4KF1H3"
    },
    {
      "cell_type": "code",
      "execution_count": null,
      "id": "8ca14c62",
      "metadata": {
        "id": "8ca14c62",
        "outputId": "a183c927-12c9-4152-ba24-5f43e360781b",
        "colab": {
          "base_uri": "https://localhost:8080/"
        }
      },
      "outputs": [
        {
          "output_type": "stream",
          "name": "stdout",
          "text": [
            "분모: 20.0\n",
            "분자: 46.0\n"
          ]
        }
      ],
      "source": [
        "# 기울기 공식의 분모 부분입니다.\n",
        "divisor = sum([(i - mx)**2 for i in x])\n",
        "\n",
        "# 기울기 공식의 분자 부분입니다.\n",
        "def top(x, mx, y, my):\n",
        "    d = 0\n",
        "    for i in range(len(x)):\n",
        "        d += (x[i] - mx) * (y[i] - my)\n",
        "    return d\n",
        "dividend = top(x, mx, y, my)\n",
        "\n",
        "# 출력으로 확인합니다.\n",
        "print(\"분모:\", divisor)\n",
        "print(\"분자:\", dividend)"
      ]
    },
    {
      "cell_type": "markdown",
      "id": "c117d1fe",
      "metadata": {
        "id": "c117d1fe"
      },
      "source": [
        "### 3. 기울기와 y 절편 구하기"
      ]
    },
    {
      "cell_type": "code",
      "execution_count": null,
      "id": "0fa99a7d",
      "metadata": {
        "id": "0fa99a7d",
        "outputId": "032559c5-8588-46af-cf0c-3c7e76c4a65d",
        "colab": {
          "base_uri": "https://localhost:8080/"
        }
      },
      "outputs": [
        {
          "output_type": "stream",
          "name": "stdout",
          "text": [
            "기울기 a = 2.3\n",
            "y절편 b = 79.0\n"
          ]
        }
      ],
      "source": [
        "# 기울기 a를 구하는 공식입니다.\n",
        "a = dividend / divisor\n",
        "\n",
        "# y 절편 b를 구하는 공식입니다.\n",
        "b = my - (mx*a)\n",
        "\n",
        "# 출력으로 확인합니다.\n",
        "print(\"기울기 a =\", a)\n",
        "print(\"y절편 b =\", b)"
      ]
    },
    {
      "cell_type": "code",
      "source": [
        "# [허] 교재 69페이지 예측값 생성\n",
        "\n",
        "pred = a*x + b\n",
        "pred"
      ],
      "metadata": {
        "colab": {
          "base_uri": "https://localhost:8080/"
        },
        "id": "GAa1qt7KHWkO",
        "outputId": "dc6e0f6e-bf5c-4649-abfb-54f92b9ff929"
      },
      "id": "GAa1qt7KHWkO",
      "execution_count": null,
      "outputs": [
        {
          "output_type": "execute_result",
          "data": {
            "text/plain": [
              "array([83.6, 88.2, 92.8, 97.4])"
            ]
          },
          "metadata": {},
          "execution_count": 13
        }
      ]
    },
    {
      "cell_type": "code",
      "source": [
        "# [허] 예측값 시각화\n",
        "plt.scatter(x, y)\n",
        "plt.scatter(x, pred)\n",
        "plt.show()"
      ],
      "metadata": {
        "colab": {
          "base_uri": "https://localhost:8080/",
          "height": 430
        },
        "id": "ET3WoObbSSdA",
        "outputId": "6f6ef020-1ded-4920-d112-30cdbd0f6985"
      },
      "id": "ET3WoObbSSdA",
      "execution_count": null,
      "outputs": [
        {
          "output_type": "display_data",
          "data": {
            "text/plain": [
              "<Figure size 640x480 with 1 Axes>"
            ],
            "image/png": "[encoded data removed]"
          },
          "metadata": {}
        }
      ]
    },
    {
      "cell_type": "code",
      "source": [
        "# [허] 예측선 시각화\n",
        "plt.scatter(x, y)\n",
        "plt.scatter(x, pred)\n",
        "plt.plot(x, pred,'r')\n",
        "plt.show()"
      ],
      "metadata": {
        "colab": {
          "base_uri": "https://localhost:8080/",
          "height": 430
        },
        "id": "PMcgc4cNKHKQ",
        "outputId": "201ff655-95c4-4d1e-b062-f46a45a1784d"
      },
      "id": "PMcgc4cNKHKQ",
      "execution_count": null,
      "outputs": [
        {
          "output_type": "display_data",
          "data": {
            "text/plain": [
              "<Figure size 640x480 with 1 Axes>"
            ],
            "image/png": "[encoded data removed]"
          },
          "metadata": {}
        }
      ]
    },
    {
      "cell_type": "markdown",
      "id": "4fb18def",
      "metadata": {
        "id": "4fb18def"
      },
      "source": [
        "## 6. 파이썬 코딩으로 확인하는 평균 제곱 오차"
      ]
    },
    {
      "cell_type": "markdown",
      "id": "e03f22bc",
      "metadata": {
        "id": "e03f22bc"
      },
      "source": [
        "### 1. 환경 준비"
      ]
    },
    {
      "cell_type": "code",
      "execution_count": null,
      "id": "ef1960f8",
      "metadata": {
        "id": "ef1960f8"
      },
      "outputs": [],
      "source": [
        "import numpy as np"
      ]
    },
    {
      "cell_type": "markdown",
      "id": "d269ffc7",
      "metadata": {
        "id": "d269ffc7"
      },
      "source": [
        "### 2. 데이터 준비"
      ]
    },
    {
      "cell_type": "code",
      "execution_count": null,
      "id": "3aa4d4da",
      "metadata": {
        "id": "3aa4d4da"
      },
      "outputs": [],
      "source": [
        "# 가상의 기울기 a와 y 절편 b를 정합니다.\n",
        "fake_a=3\n",
        "fake_b=76\n",
        "\n",
        "# 공부 시간 x와 성적 y의 넘파이 배열을 만듭니다.\n",
        "x = np.array([2, 4, 6, 8])\n",
        "y = np.array([81, 93, 91, 97])"
      ]
    },
    {
      "cell_type": "markdown",
      "id": "5673ef31",
      "metadata": {
        "id": "5673ef31"
      },
      "source": [
        "### 3. 평균 제곱 오차 구하기"
      ]
    },
    {
      "cell_type": "code",
      "execution_count": null,
      "id": "142745f3",
      "metadata": {
        "id": "142745f3",
        "outputId": "0d6b9fed-3730-4172-96b2-7926449e60de",
        "colab": {
          "base_uri": "https://localhost:8080/"
        }
      },
      "outputs": [
        {
          "output_type": "stream",
          "name": "stdout",
          "text": [
            "공부시간=2, 실제점수=81, 예측점수=82\n",
            "공부시간=4, 실제점수=93, 예측점수=88\n",
            "공부시간=6, 실제점수=91, 예측점수=94\n",
            "공부시간=8, 실제점수=97, 예측점수=100\n"
          ]
        }
      ],
      "source": [
        "# y=ax + b에 가상의 a,b 값을 대입한 결과를 출력하는 함수입니다.\n",
        "def predict(x):\n",
        "    return fake_a * x + fake_b\n",
        "\n",
        "# 예측 값이 들어갈 빈 리스트를 만듭니다.\n",
        "predict_result = []\n",
        "\n",
        "# 모든 x 값을 한 번씩 대입하여 predict_result 리스트를 완성합니다.\n",
        "for i in range(len(x)):\n",
        "    predict_result.append(predict(x[i]))\n",
        "    print(\"공부시간=%.f, 실제점수=%.f, 예측점수=%.f\" % (x[i], y[i], predict(x[i])))"
      ]
    },
    {
      "cell_type": "code",
      "source": [
        "# [허] 코드 간소화\n",
        "pred_lsa = fake_a*x + fake_b\n",
        "pred_lsa"
      ],
      "metadata": {
        "colab": {
          "base_uri": "https://localhost:8080/"
        },
        "id": "v9PZJGtpL35-",
        "outputId": "905f9ba2-1bda-472b-f04f-131b7750f27d"
      },
      "id": "v9PZJGtpL35-",
      "execution_count": null,
      "outputs": [
        {
          "output_type": "execute_result",
          "data": {
            "text/plain": [
              "array([ 82,  88,  94, 100])"
            ]
          },
          "metadata": {},
          "execution_count": 19
        }
      ]
    },
    {
      "cell_type": "code",
      "execution_count": null,
      "id": "c90e102f",
      "metadata": {
        "id": "c90e102f",
        "outputId": "f61dbe16-0027-4a7a-ffbd-d74db992612e",
        "colab": {
          "base_uri": "https://localhost:8080/"
        }
      },
      "outputs": [
        {
          "output_type": "stream",
          "name": "stdout",
          "text": [
            "평균 제곱 오차: 11.0\n"
          ]
        }
      ],
      "source": [
        "# 평균 제곱 오차 함수를 각 y 값에 대입하여 최종 값을 구하는 함수입니다.\n",
        "n=len(x)\n",
        "def mse(y, y_pred):\n",
        "    return (1/n) * sum((y - y_pred)**2)\n",
        "\n",
        "# 평균 제곱 오차 값을 출력합니다.\n",
        "print(\"평균 제곱 오차: \" + str(mse(y,predict_result)))"
      ]
    },
    {
      "cell_type": "code",
      "source": [
        "# [허] 코드 간소화\n",
        "pred_lsa_mse = (1/len(x)) * sum((y-pred_lsa)**2)\n",
        "pred_lsa_mse"
      ],
      "metadata": {
        "colab": {
          "base_uri": "https://localhost:8080/"
        },
        "id": "e9bkhWGsMPMl",
        "outputId": "e42f609b-0a37-4cfa-8a3f-4bfa08c00427"
      },
      "id": "e9bkhWGsMPMl",
      "execution_count": null,
      "outputs": [
        {
          "output_type": "execute_result",
          "data": {
            "text/plain": [
              "np.float64(11.0)"
            ]
          },
          "metadata": {},
          "execution_count": 21
        }
      ]
    },
    {
      "cell_type": "code",
      "source": [],
      "metadata": {
        "id": "gZdKXYVENX1c"
      },
      "id": "gZdKXYVENX1c",
      "execution_count": null,
      "outputs": []
    }
  ],
  "metadata": {
    "kernelspec": {
      "display_name": "Python 3 (ipykernel)",
      "language": "python",
      "name": "python3"
    },
    "language_info": {
      "codemirror_mode": {
        "name": "ipython",
        "version": 3
      },
      "file_extension": ".py",
      "mimetype": "text/x-python",
      "name": "python",
      "nbconvert_exporter": "python",
      "pygments_lexer": "ipython3",
      "version": "3.9.7"
    },
    "colab": {
      "provenance": [],
      "include_colab_link": true
    }
  },
  "nbformat": 4,
  "nbformat_minor": 5
}